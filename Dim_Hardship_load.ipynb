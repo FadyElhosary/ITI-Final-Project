{
 "cells": [
  {
   "cell_type": "code",
   "execution_count": 6,
   "id": "189606bb-8a68-45e7-90e6-3df0bef37588",
   "metadata": {},
   "outputs": [
    {
     "name": "stdout",
     "output_type": "stream",
     "text": [
      "+-------------+--------------------+--------------------+---------------+---------------+-------------------+-----------------+---------------+------------+--------------------+------------------------------+--------+\n",
      "|hardship_flag|       hardship_type|     hardship_reason|hardship_status|hardship_amount|hardship_start_date|hardship_end_date|hardship_length|hardship_dpd|hardship_loan_status|hardship_payoff_balance_amount|      id|\n",
      "+-------------+--------------------+--------------------+---------------+---------------+-------------------+-----------------+---------------+------------+--------------------+------------------------------+--------+\n",
      "|            y|INTEREST ONLY-3 M...|EXCESSIVE_OBLIGAT...|      COMPLETED|           13.4|           Jun-2017|         Sep-2017|            3.0|        10.0|     In Grace Period|                       1602.87|  636909|\n",
      "|            y|INTEREST ONLY-3 M...|             MEDICAL|         BROKEN|         216.36|           Sep-2017|         Oct-2017|            3.0|        21.0|   Late (16-30 days)|                      18964.42| 7450880|\n",
      "|            y|INTEREST ONLY-3 M...|          DISABILITY|      COMPLETED|          33.99|           Jun-2018|         Sep-2018|            3.0|         9.0|     In Grace Period|                       2556.48|11365925|\n",
      "|            y|INTEREST ONLY-3 M...|        UNEMPLOYMENT|         BROKEN|          83.27|           Jun-2017|         Jul-2017|            3.0|        10.0|     In Grace Period|                       5587.57|11386649|\n",
      "|            y|INTEREST ONLY-3 M...|EXCESSIVE_OBLIGAT...|      COMPLETED|          55.18|           Jun-2018|         Sep-2018|            3.0|         3.0|             Current|                       4137.99|11406193|\n",
      "+-------------+--------------------+--------------------+---------------+---------------+-------------------+-----------------+---------------+------------+--------------------+------------------------------+--------+\n",
      "only showing top 5 rows\n",
      "\n",
      "Transformed Data for dim_hardship:\n",
      "root\n",
      " |-- HARDSHIP_ID_PK: integer (nullable = false)\n",
      " |-- HARDSHIP_FLAG: string (nullable = true)\n",
      " |-- HARDSHIP_TYPE: string (nullable = true)\n",
      " |-- HARDSHIP_REASON: string (nullable = true)\n",
      " |-- HARDSHIP_STATUS: string (nullable = true)\n",
      " |-- HARDSHIP_AMOUNT: string (nullable = true)\n",
      " |-- HARDSHIP_START_DATE: string (nullable = true)\n",
      " |-- HARDSHIP_END_DATE: string (nullable = true)\n",
      " |-- HARDSHIP_LENGTH: string (nullable = true)\n",
      " |-- HARDSHIP_DPD: string (nullable = true)\n",
      " |-- HARDSHIP_LOAN_STATUS: string (nullable = true)\n",
      " |-- HARDSHIP_PAYOFF_BALANCE_AMOUNT: string (nullable = true)\n",
      " |-- LOANPRODUCT_BK: string (nullable = true)\n",
      "\n",
      "+--------------+-------------+--------------------+--------------------+---------------+---------------+-------------------+-----------------+---------------+------------+--------------------+------------------------------+--------------+\n",
      "|HARDSHIP_ID_PK|HARDSHIP_FLAG|       HARDSHIP_TYPE|     HARDSHIP_REASON|HARDSHIP_STATUS|HARDSHIP_AMOUNT|HARDSHIP_START_DATE|HARDSHIP_END_DATE|HARDSHIP_LENGTH|HARDSHIP_DPD|HARDSHIP_LOAN_STATUS|HARDSHIP_PAYOFF_BALANCE_AMOUNT|LOANPRODUCT_BK|\n",
      "+--------------+-------------+--------------------+--------------------+---------------+---------------+-------------------+-----------------+---------------+------------+--------------------+------------------------------+--------------+\n",
      "|             1|            y|INTEREST ONLY-3 M...|EXCESSIVE_OBLIGAT...|      COMPLETED|           13.4|           Jun-2017|         Sep-2017|            3.0|        10.0|     In Grace Period|                       1602.87|        636909|\n",
      "|             2|            y|INTEREST ONLY-3 M...|             MEDICAL|         BROKEN|         216.36|           Sep-2017|         Oct-2017|            3.0|        21.0|   Late (16-30 days)|                      18964.42|       7450880|\n",
      "|             3|            y|INTEREST ONLY-3 M...|          DISABILITY|      COMPLETED|          33.99|           Jun-2018|         Sep-2018|            3.0|         9.0|     In Grace Period|                       2556.48|      11365925|\n",
      "|             4|            y|INTEREST ONLY-3 M...|        UNEMPLOYMENT|         BROKEN|          83.27|           Jun-2017|         Jul-2017|            3.0|        10.0|     In Grace Period|                       5587.57|      11386649|\n",
      "|             5|            y|INTEREST ONLY-3 M...|EXCESSIVE_OBLIGAT...|      COMPLETED|          55.18|           Jun-2018|         Sep-2018|            3.0|         3.0|             Current|                       4137.99|      11406193|\n",
      "+--------------+-------------+--------------------+--------------------+---------------+---------------+-------------------+-----------------+---------------+------------+--------------------+------------------------------+--------------+\n",
      "only showing top 5 rows\n",
      "\n"
     ]
    }
   ],
   "source": [
    "from pyspark.sql import SparkSession\n",
    "import os\n",
    "from pyspark.sql.types import StructType, StructField, StringType, FloatType, DecimalType,IntegerType\n",
    "from pyspark.sql import functions as F\n",
    "from pyspark.sql.window import Window\n",
    "\n",
    "# Initialize Spark with Snowflake packages\n",
    "spark = SparkSession.builder \\\n",
    "    .appName(\"SnowflakeLoad_LoanProduct\") \\\n",
    "    .config(\"spark.jars.packages\", \"net.snowflake:snowflake-jdbc:3.13.22,net.snowflake:spark-snowflake_2.12:2.11.0-spark_3.3\") \\\n",
    "    .getOrCreate()\n",
    "\n",
    "\n",
    "\n",
    "# Load CSV file into DataFrame (Replace 'your_file.csv' with actual filename)\n",
    "csv_path = \"Transformed_2014_18_v2.csv\"\n",
    "df = spark.read.option(\"header\", True).csv(csv_path)  #.sample(withReplacement=False, fraction=0.0001, seed=42)\n",
    "\n",
    "\n",
    "#### customize the csv file for Dim_loan_product\n",
    "\n",
    "column_mapping = {\n",
    "    \"hardship_flag\": \"HARDSHIP_FLAG\",\n",
    "    \"hardship_type\": \"HARDSHIP_TYPE\",\n",
    "    \"hardship_reason\": \"HARDSHIP_REASON\",\n",
    "    \"hardship_status\": \"HARDSHIP_STATUS\",\n",
    "    \"hardship_amount\": \"HARDSHIP_AMOUNT\",\n",
    "    \"hardship_start_date\": \"HARDSHIP_START_DATE\",\n",
    "    \"hardship_end_date\": \"HARDSHIP_END_DATE\",\n",
    "    \"hardship_length\": \"HARDSHIP_LENGTH\",\n",
    "    \"hardship_dpd\":\"HARDSHIP_DPD\",\n",
    "    \"hardship_loan_status\":\"HARDSHIP_LOAN_STATUS\",\n",
    "    \"hardship_payoff_balance_amount\":\"HARDSHIP_PAYOFF_BALANCE_AMOUNT\",\n",
    "    \"id\":\"LOANPRODUCT_BK\"\n",
    "}\n",
    "\n",
    "columns_of_hardship = [\n",
    "    \"hardship_flag\", \"hardship_type\", \"hardship_reason\", \"hardship_status\",\"hardship_amount\", \"hardship_start_date\", \"hardship_end_date\", \"hardship_length\",\"hardship_dpd\",\n",
    "    \"hardship_loan_status\",\"hardship_payoff_balance_amount\",\"id\"\n",
    "]\n",
    " \n",
    "dim_hardship = df.filter(df.hardship_flag == 'y').select(columns_of_hardship)\n",
    "dim_hardship.show(5)\n",
    "\n",
    "# Snowflake connection options\n",
    "sf_options = {\n",
    "    \"sfURL\": \"https://WOA97553.east-us-2.azure.snowflakecomputing.com\",\n",
    "    \"sfUser\": 'hussien1',\n",
    "    \"sfPassword\":'@Hussien123456',\n",
    "    \"sfDatabase\": 'Loan_DB',\n",
    "    \"sfSchema\": 'Loan_Schema',\n",
    "    \"sfWarehouse\": 'loan_Warehouse',\n",
    "    \"autopushdown\": \"on\",\n",
    "    \"usestagingtable\": \"on\"\n",
    "}\n",
    "\n",
    "from pyspark.sql import functions as F\n",
    "from pyspark.sql.window import Window\n",
    "\n",
    "\n",
    "\n",
    "# Rename columns in the DataFrame according to the column mapping\n",
    "for source_col, dest_col in column_mapping.items():\n",
    "    if source_col in dim_hardship.columns:\n",
    "        dim_hardship = dim_hardship.withColumnRenamed(source_col, dest_col)\n",
    "\n",
    "# Define the window spec for row numbering\n",
    "windowSpec = Window.orderBy(F.lit(1))  # Constant value to ensure numbering starts from 1\n",
    "\n",
    "# Add the BORROWER_KEY_PK_SK column with row numbers starting from 1\n",
    "dim_hardship = dim_hardship.withColumn(\"HARDSHIP_ID_PK\", F.row_number().over(windowSpec))\n",
    "\n",
    "# List of columns to select (ensure that the column names match after renaming)\n",
    "columns_of_hardship = [\n",
    "    \"HARDSHIP_ID_PK\",\"HARDSHIP_FLAG\", \"HARDSHIP_TYPE\", \"HARDSHIP_REASON\", \"HARDSHIP_STATUS\",\"HARDSHIP_AMOUNT\", \"HARDSHIP_START_DATE\", \"HARDSHIP_END_DATE\", \"HARDSHIP_LENGTH\"\n",
    "    ,\"HARDSHIP_DPD\",\n",
    "    \"HARDSHIP_LOAN_STATUS\",\"HARDSHIP_PAYOFF_BALANCE_AMOUNT\",\"LOANPRODUCT_BK\"\n",
    "]\n",
    "\n",
    "# Select the required columns\n",
    "dim_hardship = dim_hardship.select(columns_of_hardship)\n",
    "\n",
    "# Show DataFrame to verify changes\n",
    "print(\"Transformed Data for dim_hardship:\")\n",
    "\n",
    "dim_hardship.printSchema()\n",
    "dim_hardship.show(5)"
   ]
  },
  {
   "cell_type": "markdown",
   "id": "450a6a0b-7405-489f-872c-e0d8bc3e72b5",
   "metadata": {},
   "source": [
    "# Load Dim_loanproduct from snowflake into a spark data frame "
   ]
  },
  {
   "cell_type": "code",
   "execution_count": 7,
   "id": "f976d241-610a-4a23-949e-22cae0fc616b",
   "metadata": {},
   "outputs": [
    {
     "name": "stdout",
     "output_type": "stream",
     "text": [
      "+-------------------+----------+-------------+---------+------------------+-------------------+-------------+----------------+--------------------+--------------+\n",
      "|LOAN_PRODUCT_KEY_PK|LOAN_GRADE|LOAN_SUBGRADE|LOAN_TERM|      LOAN_PURPOSE|INITIAL_LIST_STATUS|OUT_PRINCIPAL|APPLICATION_TYPE|DEBT_SETTLEMENT_FLAG|LOANPRODUCT_BK|\n",
      "+-------------------+----------+-------------+---------+------------------+-------------------+-------------+----------------+--------------------+--------------+\n",
      "|                  1|         A|           A2|       36|  home_improvement|                  w|          0.0|      Individual|                   N|         56121|\n",
      "|                  2|         D|           D4|       36|debt_consolidation|                  w|          0.0|      Individual|                   N|         65104|\n",
      "|                  3|         A|           A3|       36|  home_improvement|                  w|          0.0|      Individual|                   N|         65419|\n",
      "|                  4|         A|           A5|       36|       credit_card|                  f|          0.0|      Individual|                   N|        364880|\n",
      "+-------------------+----------+-------------+---------+------------------+-------------------+-------------+----------------+--------------------+--------------+\n",
      "only showing top 4 rows\n",
      "\n"
     ]
    }
   ],
   "source": [
    "from pyspark.sql import SparkSession\n",
    "\n",
    "\n",
    "# Step 3: Load data from Snowflake table into Spark DataFrame\n",
    "df_dim_Loanproduct = spark.read \\\n",
    "    .format(\"snowflake\") \\\n",
    "    .options(**sf_options) \\\n",
    "    .option(\"dbtable\", \"DIM_LOANPRODUCT\") \\\n",
    "    .load()\n",
    "\n",
    "# Step 4: Show the data\n",
    "df_dim_Loanproduct.show(4)\n",
    "\n",
    "# Optional: Save the DataFrame as a CSV or another format if needed\n",
    "# df_snowflake.write.option(\"header\", \"true\").csv(\"output_path\")\n"
   ]
  },
  {
   "cell_type": "markdown",
   "id": "051d2691-e6ef-42c5-be0e-15d20c0583de",
   "metadata": {},
   "source": [
    "# join dim_hardship with dim_loanproduct to get df_dim_hardship_enrich"
   ]
  },
  {
   "cell_type": "code",
   "execution_count": 8,
   "id": "0869fc01-b07b-4baf-bf5d-ce981fd34f48",
   "metadata": {},
   "outputs": [
    {
     "name": "stdout",
     "output_type": "stream",
     "text": [
      "+--------------+-------------+--------------------+---------------+---------------+---------------+-------------------+-----------------+---------------+------------+--------------------+------------------------------+--------------+-------------------+----------+-------------+---------+------------------+-------------------+-------------+----------------+--------------------+--------------+\n",
      "|HARDSHIP_ID_PK|HARDSHIP_FLAG|       HARDSHIP_TYPE|HARDSHIP_REASON|HARDSHIP_STATUS|HARDSHIP_AMOUNT|HARDSHIP_START_DATE|HARDSHIP_END_DATE|HARDSHIP_LENGTH|HARDSHIP_DPD|HARDSHIP_LOAN_STATUS|HARDSHIP_PAYOFF_BALANCE_AMOUNT|LOANPRODUCT_BK|LOAN_PRODUCT_KEY_PK|LOAN_GRADE|LOAN_SUBGRADE|LOAN_TERM|      LOAN_PURPOSE|INITIAL_LIST_STATUS|OUT_PRINCIPAL|APPLICATION_TYPE|DEBT_SETTLEMENT_FLAG|LOANPRODUCT_BK|\n",
      "+--------------+-------------+--------------------+---------------+---------------+---------------+-------------------+-----------------+---------------+------------+--------------------+------------------------------+--------------+-------------------+----------+-------------+---------+------------------+-------------------+-------------+----------------+--------------------+--------------+\n",
      "|             3|            y|INTEREST ONLY-3 M...|     DISABILITY|      COMPLETED|          33.99|           Jun-2018|         Sep-2018|            3.0|         9.0|     In Grace Period|                       2556.48|      11365925|               2492|         C|           C5|       60|debt_consolidation|                  f|          0.0|      Individual|                   N|      11365925|\n",
      "|             2|            y|INTEREST ONLY-3 M...|        MEDICAL|         BROKEN|         216.36|           Sep-2017|         Oct-2017|            3.0|        21.0|   Late (16-30 days)|                      18964.42|       7450880|                173|         C|           C4|       60|       credit_card|                  w|          0.0|      Individual|                   N|       7450880|\n",
      "+--------------+-------------+--------------------+---------------+---------------+---------------+-------------------+-----------------+---------------+------------+--------------------+------------------------------+--------------+-------------------+----------+-------------+---------+------------------+-------------------+-------------+----------------+--------------------+--------------+\n",
      "only showing top 2 rows\n",
      "\n"
     ]
    }
   ],
   "source": [
    "# Join based on matching loan product fields (example: loan_grade, loan_term, etc.)\n",
    "df_dim_hardship_enrich = dim_hardship.join(\n",
    "    df_dim_Loanproduct,\n",
    "    on=[\n",
    "        dim_hardship[\"LOANPRODUCT_BK\"] == df_dim_Loanproduct[\"LOANPRODUCT_BK\"]\n",
    "          # add more if needed\n",
    "    ],\n",
    "    how=\"left\"\n",
    ")\n",
    "\n",
    "df_dim_hardship_enrich.show(2)\n"
   ]
  },
  {
   "cell_type": "markdown",
   "id": "9da57817-fd69-405f-8c4e-4ca2c50878b9",
   "metadata": {},
   "source": [
    "# # Select final columns"
   ]
  },
  {
   "cell_type": "code",
   "execution_count": 12,
   "id": "1effd2f8-fc07-499a-8639-f634c7b60d54",
   "metadata": {},
   "outputs": [
    {
     "name": "stdout",
     "output_type": "stream",
     "text": [
      "+--------------+-------------+--------------------+---------------+---------------+---------------+-------------------+-----------------+---------------+------------+--------------------+------------------------------+--------------+-------------------+\n",
      "|HARDSHIP_ID_PK|HARDSHIP_FLAG|       HARDSHIP_TYPE|HARDSHIP_REASON|HARDSHIP_STATUS|HARDSHIP_AMOUNT|HARDSHIP_START_DATE|HARDSHIP_END_DATE|HARDSHIP_LENGTH|HARDSHIP_DPD|HARDSHIP_LOAN_STATUS|HARDSHIP_PAYOFF_BALANCE_AMOUNT|LOANPRODUCT_BK|LOAN_PRODUCT_KEY_PK|\n",
      "+--------------+-------------+--------------------+---------------+---------------+---------------+-------------------+-----------------+---------------+------------+--------------------+------------------------------+--------------+-------------------+\n",
      "|             3|            y|INTEREST ONLY-3 M...|     DISABILITY|      COMPLETED|          33.99|           Jun-2018|         Sep-2018|            3.0|         9.0|     In Grace Period|                       2556.48|      11365925|               2492|\n",
      "|             2|            y|INTEREST ONLY-3 M...|        MEDICAL|         BROKEN|         216.36|           Sep-2017|         Oct-2017|            3.0|        21.0|   Late (16-30 days)|                      18964.42|       7450880|                173|\n",
      "+--------------+-------------+--------------------+---------------+---------------+---------------+-------------------+-----------------+---------------+------------+--------------------+------------------------------+--------------+-------------------+\n",
      "only showing top 2 rows\n",
      "\n",
      "root\n",
      " |-- HARDSHIP_ID_PK: integer (nullable = false)\n",
      " |-- HARDSHIP_FLAG: string (nullable = true)\n",
      " |-- HARDSHIP_TYPE: string (nullable = true)\n",
      " |-- HARDSHIP_REASON: string (nullable = true)\n",
      " |-- HARDSHIP_STATUS: string (nullable = true)\n",
      " |-- HARDSHIP_AMOUNT: string (nullable = true)\n",
      " |-- HARDSHIP_START_DATE: string (nullable = true)\n",
      " |-- HARDSHIP_END_DATE: string (nullable = true)\n",
      " |-- HARDSHIP_LENGTH: string (nullable = true)\n",
      " |-- HARDSHIP_DPD: string (nullable = true)\n",
      " |-- HARDSHIP_LOAN_STATUS: string (nullable = true)\n",
      " |-- HARDSHIP_PAYOFF_BALANCE_AMOUNT: string (nullable = true)\n",
      " |-- LOANPRODUCT_BK: string (nullable = true)\n",
      " |-- LOAN_PRODUCT_KEY_PK: decimal(38,0) (nullable = true)\n",
      "\n"
     ]
    }
   ],
   "source": [
    "new_columns_of_hardship = [\n",
    "    \"HARDSHIP_ID_PK\",\"HARDSHIP_FLAG\", \"HARDSHIP_TYPE\", \"HARDSHIP_REASON\", \"HARDSHIP_STATUS\",\n",
    "    \"HARDSHIP_AMOUNT\",\"HARDSHIP_START_DATE\", \"HARDSHIP_END_DATE\", \"HARDSHIP_LENGTH\",\"HARDSHIP_DPD\",\n",
    "    \"HARDSHIP_LOAN_STATUS\",\"HARDSHIP_PAYOFF_BALANCE_AMOUNT\",dim_hardship[\"LOANPRODUCT_BK\"],\"LOAN_PRODUCT_KEY_PK\"\n",
    "]\n",
    "\n",
    "final_dim_hardship_df = df_dim_hardship_enrich.select(new_columns_of_hardship)\n",
    "\n",
    "final_dim_hardship_df.show(2)\n",
    "final_dim_hardship_df.printSchema()"
   ]
  },
  {
   "cell_type": "code",
   "execution_count": 14,
   "id": "5cd888bf-56df-4a70-baf9-37557eb9be3c",
   "metadata": {},
   "outputs": [
    {
     "name": "stdout",
     "output_type": "stream",
     "text": [
      "+--------------+-------------+--------------------+--------------------+---------------+---------------+-------------------+-----------------+---------------+------------+--------------------+------------------------------+--------------+-------------------+\n",
      "|HARDSHIP_ID_PK|HARDSHIP_FLAG|       HARDSHIP_TYPE|     HARDSHIP_REASON|HARDSHIP_STATUS|HARDSHIP_AMOUNT|HARDSHIP_START_DATE|HARDSHIP_END_DATE|HARDSHIP_LENGTH|HARDSHIP_DPD|HARDSHIP_LOAN_STATUS|HARDSHIP_PAYOFF_BALANCE_AMOUNT|LOANPRODUCT_BK|LOAN_PRODUCT_KEY_PK|\n",
      "+--------------+-------------+--------------------+--------------------+---------------+---------------+-------------------+-----------------+---------------+------------+--------------------+------------------------------+--------------+-------------------+\n",
      "|             3|            y|INTEREST ONLY-3 M...|          DISABILITY|      COMPLETED|          33.99|           Jun-2018|         Sep-2018|            3.0|         9.0|     In Grace Period|                       2556.48|      11365925|               2492|\n",
      "|            12|            y|INTEREST ONLY-3 M...|EXCESSIVE_OBLIGAT...|      COMPLETED|          38.32|           Aug-2018|         Nov-2018|            3.0|         5.0|     In Grace Period|                       2217.71|      13077215|               6259|\n",
      "|            19|            y|INTEREST ONLY-3 M...|  INCOME_CURTAILMENT|      COMPLETED|         100.95|           Jun-2017|         Sep-2017|            3.0|        15.0|     In Grace Period|                       7049.02|      14599891|               8242|\n",
      "|             9|            y|INTEREST ONLY-3 M...|EXCESSIVE_OBLIGAT...|      COMPLETED|         154.33|           May-2017|         Jun-2017|            3.0|        11.0|     In Grace Period|                      11497.11|      12928268|               5670|\n",
      "|            10|            y|INTEREST ONLY-3 M...|EXCESSIVE_OBLIGAT...|         BROKEN|          99.44|           Sep-2018|         Dec-2018|            3.0|        13.0|     In Grace Period|                        6117.2|      13037170|               6113|\n",
      "|            14|            y|INTEREST ONLY-3 M...|    NATURAL_DISASTER|      COMPLETED|          18.54|           Sep-2017|         Nov-2017|            3.0|         0.0|             Current|                       2637.73|      13647979|               7286|\n",
      "|            17|            y|INTEREST ONLY-3 M...|        UNEMPLOYMENT|      COMPLETED|         110.89|           Oct-2018|         Dec-2018|            3.0|        25.0|   Late (16-30 days)|                        7083.1|      14538212|               8019|\n",
      "|            18|            y|INTEREST ONLY-3 M...|    NATURAL_DISASTER|      COMPLETED|          73.58|           Oct-2017|         Dec-2017|            3.0|         0.0|             Current|                       5379.56|      14549327|               8065|\n",
      "|            21|            y|INTEREST ONLY-3 M...|             MEDICAL|      COMPLETED|          87.39|           Sep-2017|         Nov-2017|            3.0|        22.0|   Late (16-30 days)|                       6490.53|      15290360|               8877|\n",
      "|             7|            y|INTEREST ONLY-3 M...|        UNEMPLOYMENT|         BROKEN|         150.66|           Oct-2017|         Jan-2018|            3.0|        17.0|   Late (16-30 days)|                       8804.16|      11724833|               3331|\n",
      "|            13|            y|INTEREST ONLY-3 M...|EXCESSIVE_OBLIGAT...|      COMPLETED|          50.24|           Nov-2018|         Feb-2019|            3.0|        18.0|  Late (31-120 days)|                       3127.81|      13078612|               6273|\n",
      "|            11|            y|INTEREST ONLY-3 M...|       REDUCED_HOURS|         BROKEN|          81.83|           Dec-2017|         Feb-2018|            3.0|        22.0|  Late (31-120 days)|                       7168.15|      13068033|               6229|\n",
      "|             5|            y|INTEREST ONLY-3 M...|EXCESSIVE_OBLIGAT...|      COMPLETED|          55.18|           Jun-2018|         Sep-2018|            3.0|         3.0|             Current|                       4137.99|      11406193|               2658|\n",
      "|            15|            y|INTEREST ONLY-3 M...|EXCESSIVE_OBLIGAT...|      COMPLETED|         103.43|           Sep-2017|         Dec-2017|            3.0|        24.0|   Late (16-30 days)|                       8139.25|      13878261|               7409|\n",
      "|            20|            y|INTEREST ONLY-3 M...|    NATURAL_DISASTER|         BROKEN|         180.53|           Sep-2017|         Jan-2018|            3.0|         0.0|             Current|                      10781.74|      14688310|               8491|\n",
      "|             2|            y|INTEREST ONLY-3 M...|             MEDICAL|         BROKEN|         216.36|           Sep-2017|         Oct-2017|            3.0|        21.0|   Late (16-30 days)|                      18964.42|       7450880|                173|\n",
      "|             6|            y|INTEREST ONLY-3 M...|EXCESSIVE_OBLIGAT...|      COMPLETED|         114.62|           Jan-2018|         Apr-2018|            3.0|        10.0|     In Grace Period|                       8449.66|      11705964|               3257|\n",
      "|             1|            y|INTEREST ONLY-3 M...|EXCESSIVE_OBLIGAT...|      COMPLETED|           13.4|           Jun-2017|         Sep-2017|            3.0|        10.0|     In Grace Period|                       1602.87|        636909|                 24|\n",
      "|             4|            y|INTEREST ONLY-3 M...|        UNEMPLOYMENT|         BROKEN|          83.27|           Jun-2017|         Jul-2017|            3.0|        10.0|     In Grace Period|                       5587.57|      11386649|               2579|\n",
      "|             8|            y|INTEREST ONLY-3 M...|    NATURAL_DISASTER|      COMPLETED|          53.57|           Oct-2017|         Dec-2017|            3.0|         0.0|             Current|                       5196.71|      12456307|               4499|\n",
      "+--------------+-------------+--------------------+--------------------+---------------+---------------+-------------------+-----------------+---------------+------------+--------------------+------------------------------+--------------+-------------------+\n",
      "only showing top 20 rows\n",
      "\n"
     ]
    }
   ],
   "source": [
    "final_dim_hardship_df.show()"
   ]
  },
  {
   "cell_type": "code",
   "execution_count": 19,
   "id": "794454c6-38a0-4470-b1a5-df8b165bab8b",
   "metadata": {},
   "outputs": [
    {
     "name": "stdout",
     "output_type": "stream",
     "text": [
      "root\n",
      " |-- HARDSHIP_ID_PK: integer (nullable = false)\n",
      " |-- HARDSHIP_FLAG: string (nullable = true)\n",
      " |-- HARDSHIP_TYPE: string (nullable = true)\n",
      " |-- HARDSHIP_REASON: string (nullable = true)\n",
      " |-- HARDSHIP_STATUS: string (nullable = true)\n",
      " |-- HARDSHIP_AMOUNT: string (nullable = true)\n",
      " |-- HARDSHIP_START_DATE: string (nullable = true)\n",
      " |-- HARDSHIP_END_DATE: string (nullable = true)\n",
      " |-- HARDSHIP_LENGTH: string (nullable = true)\n",
      " |-- HARDSHIP_DPD: string (nullable = true)\n",
      " |-- HARDSHIP_LOAN_STATUS: string (nullable = true)\n",
      " |-- HARDSHIP_PAYOFF_BALANCE_AMOUNT: string (nullable = true)\n",
      " |-- LOANPRODUCT_BK: string (nullable = true)\n",
      " |-- LOAN_PRODUCT_KEY_PK: decimal(38,0) (nullable = true)\n",
      "\n"
     ]
    }
   ],
   "source": [
    "final_dim_hardship_df.printSchema()"
   ]
  },
  {
   "cell_type": "code",
   "execution_count": 18,
   "id": "7c671bcd-f67d-4c58-bb05-b20824cab48b",
   "metadata": {},
   "outputs": [],
   "source": [
    "# Define the window spec for row numbering\n",
    "windowSpec = Window.orderBy(F.lit(1))  # Constant value to ensure numbering starts from 1\n",
    "\n",
    "# Add the BORROWER_KEY_PK_SK column with row numbers starting from 1\n",
    "final_dim_hardship_df = final_dim_hardship_df.withColumn(\"HARDSHIP_ID_PK\", F.row_number().over(windowSpec))\n",
    "\n",
    "# List of columns to select (ensure that the column names match after renaming)\n",
    "final_columns_of_hardship = [\n",
    "    \"HARDSHIP_ID_PK\",\"HARDSHIP_FLAG\", \"HARDSHIP_TYPE\", \"HARDSHIP_REASON\", \"HARDSHIP_STATUS\",\"HARDSHIP_AMOUNT\", \n",
    "    \"HARDSHIP_START_DATE\", \"HARDSHIP_END_DATE\", \"HARDSHIP_LENGTH\"\n",
    "    ,\"HARDSHIP_DPD\",\n",
    "    \"HARDSHIP_LOAN_STATUS\",\"HARDSHIP_PAYOFF_BALANCE_AMOUNT\",\"LOANPRODUCT_BK\",\"LOAN_PRODUCT_KEY_PK\"\n",
    "]\n",
    "\n",
    "# Select the required columns\n",
    "final_dim_hardship_df = final_dim_hardship_df.select(final_columns_of_hardship)"
   ]
  },
  {
   "cell_type": "code",
   "execution_count": 20,
   "id": "3063223f-bb83-4241-8726-81f8e646f757",
   "metadata": {},
   "outputs": [
    {
     "name": "stdout",
     "output_type": "stream",
     "text": [
      "+--------------+-------------+--------------------+------------------+---------------+---------------+-------------------+-----------------+---------------+------------+--------------------+------------------------------+--------------+-------------------+\n",
      "|HARDSHIP_ID_PK|HARDSHIP_FLAG|       HARDSHIP_TYPE|   HARDSHIP_REASON|HARDSHIP_STATUS|HARDSHIP_AMOUNT|HARDSHIP_START_DATE|HARDSHIP_END_DATE|HARDSHIP_LENGTH|HARDSHIP_DPD|HARDSHIP_LOAN_STATUS|HARDSHIP_PAYOFF_BALANCE_AMOUNT|LOANPRODUCT_BK|LOAN_PRODUCT_KEY_PK|\n",
      "+--------------+-------------+--------------------+------------------+---------------+---------------+-------------------+-----------------+---------------+------------+--------------------+------------------------------+--------------+-------------------+\n",
      "|             1|            y|INTEREST ONLY-3 M...|        DISABILITY|      COMPLETED|          33.99|           Jun-2018|         Sep-2018|            3.0|         9.0|     In Grace Period|                       2556.48|      11365925|               2492|\n",
      "|             2|            y|INTEREST ONLY-3 M...|INCOME_CURTAILMENT|      COMPLETED|          88.71|           Jun-2017|         Aug-2017|            3.0|        10.0|     In Grace Period|                       5144.09|      12305954|             257875|\n",
      "+--------------+-------------+--------------------+------------------+---------------+---------------+-------------------+-----------------+---------------+------------+--------------------+------------------------------+--------------+-------------------+\n",
      "only showing top 2 rows\n",
      "\n"
     ]
    }
   ],
   "source": [
    "final_dim_hardship_df.show(2)"
   ]
  },
  {
   "cell_type": "code",
   "execution_count": 1,
   "id": "2486fcab-c63d-46e7-a15f-de1f8bac1290",
   "metadata": {},
   "outputs": [
    {
     "name": "stdout",
     "output_type": "stream",
     "text": [
      "/home/jovyan\n"
     ]
    }
   ],
   "source": [
    "!pwd"
   ]
  },
  {
   "cell_type": "code",
   "execution_count": 21,
   "id": "aa0a4cf2-3d36-4dc3-bbca-1026bb1cfdd2",
   "metadata": {},
   "outputs": [
    {
     "name": "stdout",
     "output_type": "stream",
     "text": [
      "Testing Snowflake connection...\n",
      "+----------+\n",
      "|TEST_VALUE|\n",
      "+----------+\n",
      "|         1|\n",
      "+----------+\n",
      "\n",
      "Connection test successful!\n",
      "Writing data to Snowflake...\n",
      "Data load complete!\n",
      "Reading data back from Snowflake to verify...\n",
      "+--------------+-------------+--------------------+--------------------+---------------+---------------+-------------------+-----------------+---------------+------------+--------------------+------------------------------+--------------+-------------------+\n",
      "|HARDSHIP_ID_PK|HARDSHIP_FLAG|       HARDSHIP_TYPE|     HARDSHIP_REASON|HARDSHIP_STATUS|HARDSHIP_AMOUNT|HARDSHIP_START_DATE|HARDSHIP_END_DATE|HARDSHIP_LENGTH|HARDSHIP_DPD|HARDSHIP_LOAN_STATUS|HARDSHIP_PAYOFF_BALANCE_AMOUNT|LOANPRODUCT_BK|LOAN_PRODUCT_KEY_PK|\n",
      "+--------------+-------------+--------------------+--------------------+---------------+---------------+-------------------+-----------------+---------------+------------+--------------------+------------------------------+--------------+-------------------+\n",
      "|             1|            y|          ST0650PV01|          UNEMPLOYED|       COMPLETE|         712.54|           Nov-2019|         Jan-2020|            3.0|        19.0|          DELINQUENT|                           0.0|     100016074|             890419|\n",
      "|             2|            y|           CVD19SKIP|          REDCDHOURS|         ACTIVE|            0.0|           Apr-2020|         Jul-2020|            2.0|         0.0|              ACTIVE|                       6670.74|     100024124|            1383545|\n",
      "|             3|            y|INTEREST ONLY-3 M...|    NATURAL_DISASTER|      COMPLETED|         513.79|           Sep-2017|         Nov-2017|            3.0|         0.0|             Current|                      36734.04|     100046046|             398933|\n",
      "|             4|            y|INTEREST ONLY-3 M...|    NATURAL_DISASTER|      COMPLETED|          61.89|           Oct-2017|         Jan-2018|            3.0|         0.0|             Current|                       5169.48|     100046622|            1631572|\n",
      "|             5|            y|          ST0650PV01|          INCOMECURT|       COMPLETE|         194.99|           Jan-2019|         Apr-2019|            3.0|         8.0|       GRACE_CURRENT|                         862.8|     100052447|             646624|\n",
      "|             6|            y|          ST0650PV01|           NATDISAST|       COMPLETE|         237.85|           Sep-2017|         Nov-2017|            3.0|         0.0|             CURRENT|                       5098.38|     100066240|             890599|\n",
      "|             7|            y|           CVD19SKIP|          INCOMECURT|         ACTIVE|            0.0|           Apr-2020|         Jun-2020|            2.0|         0.0|              ACTIVE|                       5918.76|     100067352|             646691|\n",
      "|             8|            y|INTEREST ONLY-3 M...|        UNEMPLOYMENT|         BROKEN|          82.43|           Nov-2018|         Dec-2018|            3.0|        21.0|   Late (16-30 days)|                      13345.93|     100072715|             890617|\n",
      "|             9|            y|           CVD19SKIP|          INCOMECURT|       COMPLETE|            0.0|           Apr-2020|         May-2020|            2.0|        18.0|        INCOLLECTION|                      10949.99|     100095723|            1631748|\n",
      "|            10|            y|INTEREST ONLY-3 M...|EXCESSIVE_OBLIGAT...|         BROKEN|         129.66|           Nov-2018|         Jan-2019|            3.0|        21.0|   Late (16-30 days)|                      12451.64|     100096320|             399143|\n",
      "|            11|            y|           CVD19SKIP|        UNEMPLOYMENT|         ACTIVE|            0.0|           May-2020|         Aug-2020|            2.0|         0.0|              ACTIVE|                       6339.59|     100107364|             399192|\n",
      "|            12|            y|           CVD19SKIP|          UNEMPLOYED|         ACTIVE|            0.0|           May-2020|         Jul-2020|            2.0|         0.0|              ACTIVE|                       4634.93|     100123481|            1631850|\n",
      "|            13|            y|INTEREST ONLY-3 M...|  INCOME_CURTAILMENT|         BROKEN|         103.46|           Jun-2018|         Sep-2018|            3.0|        29.0|   Late (16-30 days)|                      10581.46|     100129274|            1880677|\n",
      "|            14|            y|INTEREST ONLY-3 M...|             MEDICAL|      COMPLETED|         115.08|           Jul-2018|         Oct-2018|            3.0|        12.0|     In Grace Period|                       5917.09|     100132202|            1880687|\n",
      "|            15|            y|           CVD19SKIP|          UNEMPLOYED|         ACTIVE|            0.0|           Apr-2020|         Jun-2020|            2.0|         0.0|              ACTIVE|                       5634.83|     100140464|             646980|\n",
      "|            16|            y|           CVD19SKIP|          INCOMECURT|         ACTIVE|            0.0|           Apr-2020|         Jun-2020|            2.0|         0.0|              ACTIVE|                       5782.65|     100146285|             647019|\n",
      "|            17|            y|           CVD19SKIP|          INCOMECURT|         ACTIVE|            0.0|           Apr-2020|         Jun-2020|            2.0|         0.0|              ACTIVE|                       9553.24|     100175684|            1134808|\n",
      "|            18|            y|           CVD19SKIP|          INCOMECURT|         ACTIVE|            0.0|           Apr-2020|         Jun-2020|            2.0|         0.0|              ACTIVE|                      17555.41|     100175900|             647129|\n",
      "|            19|            y|INTEREST ONLY-3 M...|        UNEMPLOYMENT|      COMPLETED|         195.26|           Jul-2018|         Sep-2018|            3.0|        19.0|   Late (16-30 days)|                      13348.08|     100186277|            1384202|\n",
      "|            20|            y|           CVD19SKIP|          INCOMECURT|         ACTIVE|            0.0|           Apr-2020|         Jun-2020|            2.0|         0.0|              ACTIVE|                       15602.4|     100196512|            1880888|\n",
      "+--------------+-------------+--------------------+--------------------+---------------+---------------+-------------------+-----------------+---------------+------------+--------------------+------------------------------+--------------+-------------------+\n",
      "only showing top 20 rows\n",
      "\n"
     ]
    }
   ],
   "source": [
    "\n",
    "try:\n",
    "    print(\"Testing Snowflake connection...\")\n",
    "    test_df = spark.read \\\n",
    "        .format(\"net.snowflake.spark.snowflake\") \\\n",
    "        .options(**sf_options) \\\n",
    "        .option(\"query\", \"SELECT 1 AS test_value\") \\\n",
    "        .load()\n",
    "    test_df.show()\n",
    "    print(\"Connection test successful!\")\n",
    " \n",
    "    print(\"Writing data to Snowflake...\")\n",
    "    final_dim_hardship_df.write \\\n",
    "        .format(\"snowflake\") \\\n",
    "        .options(**sf_options) \\\n",
    "        .option(\"dbtable\", \"dim_hardship\") \\\n",
    "        .mode(\"append\") \\\n",
    "        .save()\n",
    " \n",
    "    print(\"Data load complete!\")\n",
    " #######################\n",
    "\n",
    "#############################################\n",
    "    print(\"Reading data back from Snowflake to verify...\")\n",
    "    snowflake_df = spark.read \\\n",
    "        .format(\"net.snowflake.spark.snowflake\") \\\n",
    "        .options(**sf_options) \\\n",
    "        .option(\"query\", \"SELECT * FROM Loan_DB.Loan_Schema.dim_hardship\") \\\n",
    "        .load()\n",
    " \n",
    "    snowflake_df.show()\n",
    " \n",
    "except Exception as e:\n",
    "    print(\"Error occurred:\", str(e))\n",
    " \n",
    "#finally:\n",
    "    #spark.stop()"
   ]
  },
  {
   "cell_type": "code",
   "execution_count": null,
   "id": "1bdbf2c9-70ea-4467-972e-68e6d40f41c0",
   "metadata": {},
   "outputs": [],
   "source": []
  },
  {
   "cell_type": "code",
   "execution_count": null,
   "id": "b91b2bab-679c-4bb2-9238-e514d3dc88b9",
   "metadata": {},
   "outputs": [],
   "source": []
  }
 ],
 "metadata": {
  "kernelspec": {
   "display_name": "Python 3 (ipykernel)",
   "language": "python",
   "name": "python3"
  },
  "language_info": {
   "codemirror_mode": {
    "name": "ipython",
    "version": 3
   },
   "file_extension": ".py",
   "mimetype": "text/x-python",
   "name": "python",
   "nbconvert_exporter": "python",
   "pygments_lexer": "ipython3",
   "version": "3.11.6"
  }
 },
 "nbformat": 4,
 "nbformat_minor": 5
}
