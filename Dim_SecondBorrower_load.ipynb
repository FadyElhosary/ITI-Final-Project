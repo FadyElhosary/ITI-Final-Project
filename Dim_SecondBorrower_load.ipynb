{
 "cells": [
  {
   "cell_type": "code",
   "execution_count": 1,
   "id": "641e886d-cfdd-4f42-8389-d715f5bfa66a",
   "metadata": {},
   "outputs": [
    {
     "ename": "SyntaxError",
     "evalue": "expression expected after dictionary key and ':' (655834417.py, line 42)",
     "output_type": "error",
     "traceback": [
      "\u001b[0;36m  Cell \u001b[0;32mIn[1], line 42\u001b[0;36m\u001b[0m\n\u001b[0;31m    \"\":\u001b[0m\n\u001b[0m      ^\u001b[0m\n\u001b[0;31mSyntaxError\u001b[0m\u001b[0;31m:\u001b[0m expression expected after dictionary key and ':'\n"
     ]
    }
   ],
   "source": [
    "from pyspark.sql import SparkSession\n",
    "import os\n",
    "from pyspark.sql.types import StructType, StructField, StringType, FloatType, DecimalType,IntegerType\n",
    "from pyspark.sql import functions as F\n",
    "from pyspark.sql.window import Window\n",
    "\n",
    "# Initialize Spark with Snowflake packages\n",
    "spark = SparkSession.builder \\\n",
    "    .appName(\"SnowflakeLoad_LoanProduct\") \\\n",
    "    .config(\"spark.jars.packages\", \"net.snowflake:snowflake-jdbc:3.13.22,net.snowflake:spark-snowflake_2.12:2.11.0-spark_3.3\") \\\n",
    "    .getOrCreate()\n",
    "\n",
    "\n",
    "\n",
    "# Load CSV file into DataFrame (Replace 'your_file.csv' with actual filename)\n",
    "csv_path = \"Transformed_2014_18_v2.csv\"\n",
    "df = spark.read.option(\"header\", True).csv(csv_path)  #.sample(withReplacement=False, fraction=0.0001, seed=42)\n",
    "\n",
    "\n",
    "#### customize the csv file for Dim_loan_product\n",
    "\n",
    "column_mapping = {\n",
    "    \"application_type\": \"application_type\",\n",
    "    \"annual_inc_joint\": \"annual_income_joint\",\n",
    "    \"dti_joint\": \"debt_to_income_ratio_joint\",\n",
    "    \"sec_app_fico_range_avg\": \"sec_app_fico_range_avg\",\n",
    "    \"sec_app_earliest_cr_line\": \"sec_app_earliest_cr_line\",\n",
    "    \"sec_app_inq_last_6mths\": \"sec_app_inq_last_6mths\",\n",
    "    \"sec_app_mort_acc\": \"sec_app_mort_acc\",\n",
    "    \"sec_app_open_acc\": \"sec_app_open_acc\",\n",
    "    \"sec_app_revol_util\":\"sec_app_revol_util\",\n",
    "    \"id\":\"LOANPRODUCT_BK\"\n",
    "}\n",
    "\n",
    "\n",
    "columns_of_SecBorrower = [\n",
    "    \"application_type\", \"annual_inc_joint\", \"dti_joint\", \"sec_app_fico_range_avg\",\"sec_app_earliest_cr_line\", \n",
    "    \"sec_app_inq_last_6mths\", \"sec_app_mort_acc\", \"sec_app_open_acc\",\"sec_app_revol_util\",\n",
    "    \"id\"\n",
    "]\n",
    " \n",
    "dim_SecBorrower = df.filter(df.application_type == \"Joint App\").select(columns_of_SecBorrower)\n",
    "dim_SecBorrower.show(5)\n",
    "\n",
    "# Snowflake connection options\n",
    "sf_options = {\n",
    "    \"sfURL\": \"https://WOA97553.east-us-2.azure.snowflakecomputing.com\",\n",
    "    \"sfUser\": 'hussien1',\n",
    "    \"sfPassword\":'@Hussien123456',\n",
    "    \"sfDatabase\": 'Loan_DB',\n",
    "    \"sfSchema\": 'Loan_Schema',\n",
    "    \"sfWarehouse\": 'loan_Warehouse',\n",
    "    \"autopushdown\": \"on\",\n",
    "    \"usestagingtable\": \"on\"\n",
    "}\n",
    "\n",
    "from pyspark.sql import functions as F\n",
    "from pyspark.sql.window import Window\n",
    "\n",
    "\n",
    "\n",
    "# Rename columns in the DataFrame according to the column mapping\n",
    "for source_col, dest_col in column_mapping.items():\n",
    "    if source_col in dim_SecBorrower.columns:\n",
    "        dim_SecBorrower = dim_SecBorrower.withColumnRenamed(source_col, dest_col)\n",
    "\n",
    "\n",
    "\n",
    "\n",
    "# Show DataFrame to verify changes\n",
    "print(\"Transformed Data for dim_SecBorrower:\")\n",
    "\n",
    "dim_SecBorrower.printSchema()\n",
    "dim_SecBorrower.show(5)"
   ]
  },
  {
   "cell_type": "markdown",
   "id": "59589249-2db0-4275-bfab-b987950f9cf8",
   "metadata": {},
   "source": [
    "# Load Dim_Borrower from snowflake into spark data frame"
   ]
  },
  {
   "cell_type": "code",
   "execution_count": 4,
   "id": "825a797d-985a-46b9-ba02-aa495306a7f6",
   "metadata": {},
   "outputs": [
    {
     "name": "stdout",
     "output_type": "stream",
     "text": [
      "+------------------+-------------+----------------+-----------------+-------------+-------------------------+-------------------+--------+-------------+------------+-------------+--------------+------------+-------------+-------------+----------------+-------------------+----------------+---------------------------+-------------------------+----------------+-------------+--------------+\n",
      "|BORROWER_KEY_PK_SK|ANNUAL_INCOME|EMPLOYMENT_TITLE|EMPLOYMENT_LENGTH|HOMEOWNERSHIP|EARLIEST_CREDIT_LINE_DATE|VERIFICATION_STATUS|ZIP_CODE|ADDRESS_STATE|       STATE|DELINQ_2YEARS|AVG_FICO_RANGE|OPEN_ACCOUNT|PUBLIC_RECORD|TOTAL_ACCOUNT|LAST_PAYMENT_DAY|LAST_PAYMENT_AMOUNT|NEXT_PAYMENT_DAY|MTHS_SINCE_LAST_MAJOR_DEROG|ACTIVE_LOANS_LAST_24MONTH|MORTGAGE_ACCOUNT|HARDSHIP_FLAG|LOANPRODUCT_BK|\n",
      "+------------------+-------------+----------------+-----------------+-------------+-------------------------+-------------------+--------+-------------+------------+-------------+--------------+------------+-------------+-------------+----------------+-------------------+----------------+---------------------------+-------------------------+----------------+-------------+--------------+\n",
      "|            352257|     119000.0|        Director|              +10|         RENT|                 Dec-2000|       Not Verified|   352xx|           AL|     Alabama|          0.0|         697.0|         3.0|          1.0|          7.0|        May-2020|             256.04|        Jun-2020|                       -1.0|                      0.0|             0.0|            n|     119336843|\n",
      "|            352258|      31000.0|          Picker|                4|          OWN|                 May-2006|    Source Verified|   917xx|           CA|  California|          1.0|         712.0|        14.0|          0.0|         27.0|        May-2020|             199.01|        Jun-2020|                       76.0|                      2.0|             0.0|            n|     141407775|\n",
      "|            352259|      15000.0|   self_employed|                0|     MORTGAGE|                 Nov-2004|       Not Verified|   923xx|           CA|  California|          0.0|         697.0|        16.0|          0.0|         23.0|        Sep-2018|            3731.21|        finished|                      103.0|                      1.0|             1.0|            n|     119337061|\n",
      "|            352260|     120000.0|   Store Manager|                4|     MORTGAGE|                 May-2003|       Not Verified|   184xx|           PA|Pennsylvania|          1.0|         747.0|        14.0|          0.0|         32.0|        May-2020|             396.14|        Jun-2020|                       -1.0|                      5.0|             4.0|            n|     141407895|\n",
      "+------------------+-------------+----------------+-----------------+-------------+-------------------------+-------------------+--------+-------------+------------+-------------+--------------+------------+-------------+-------------+----------------+-------------------+----------------+---------------------------+-------------------------+----------------+-------------+--------------+\n",
      "only showing top 4 rows\n",
      "\n"
     ]
    }
   ],
   "source": [
    "from pyspark.sql import SparkSession\n",
    "\n",
    "\n",
    "# Step 3: Load data from Snowflake table into Spark DataFrame\n",
    "df_dim_Borrower = spark.read \\\n",
    "    .format(\"snowflake\") \\\n",
    "    .options(**sf_options) \\\n",
    "    .option(\"dbtable\", \"DIM_BORROWER\") \\\n",
    "    .load()\n",
    "\n",
    "# Step 4: Show the data\n",
    "df_dim_Borrower.show(4)\n",
    "\n",
    "# Optional: Save the DataFrame as a CSV or another format if needed\n",
    "# df_snowflake.write.option(\"header\", \"true\").csv(\"output_path\")\n"
   ]
  },
  {
   "cell_type": "markdown",
   "id": "1d321bf0-d5e5-4b2e-9fee-57e6750155a3",
   "metadata": {},
   "source": []
  },
  {
   "cell_type": "markdown",
   "id": "1cf5b62a-e774-4cd7-90df-e559913f599c",
   "metadata": {},
   "source": [
    "# join dim_secondBorrowe with dim_Borrower to get df_dim_secBorrower_enrich"
   ]
  },
  {
   "cell_type": "code",
   "execution_count": 5,
   "id": "2d71879c-4b8f-4222-9e12-31db0b64445a",
   "metadata": {},
   "outputs": [
    {
     "name": "stdout",
     "output_type": "stream",
     "text": [
      "+----------------+-------------------+--------------------------+----------------------+------------------------+----------------------+----------------+----------------+------------------+--------------+------------------+-------------+--------------------+-----------------+-------------+-------------------------+-------------------+--------+-------------+--------+-------------+--------------+------------+-------------+-------------+----------------+-------------------+----------------+---------------------------+-------------------------+----------------+-------------+--------------+\n",
      "|application_type|annual_income_joint|debt_to_income_ratio_joint|sec_app_fico_range_avg|sec_app_earliest_cr_line|sec_app_inq_last_6mths|sec_app_mort_acc|sec_app_open_acc|sec_app_revol_util|LOANPRODUCT_BK|BORROWER_KEY_PK_SK|ANNUAL_INCOME|    EMPLOYMENT_TITLE|EMPLOYMENT_LENGTH|HOMEOWNERSHIP|EARLIEST_CREDIT_LINE_DATE|VERIFICATION_STATUS|ZIP_CODE|ADDRESS_STATE|   STATE|DELINQ_2YEARS|AVG_FICO_RANGE|OPEN_ACCOUNT|PUBLIC_RECORD|TOTAL_ACCOUNT|LAST_PAYMENT_DAY|LAST_PAYMENT_AMOUNT|NEXT_PAYMENT_DAY|MTHS_SINCE_LAST_MAJOR_DEROG|ACTIVE_LOANS_LAST_24MONTH|MORTGAGE_ACCOUNT|HARDSHIP_FLAG|LOANPRODUCT_BK|\n",
      "+----------------+-------------------+--------------------------+----------------------+------------------------+----------------------+----------------+----------------+------------------+--------------+------------------+-------------+--------------------+-----------------+-------------+-------------------------+-------------------+--------+-------------+--------+-------------+--------------+------------+-------------+-------------+----------------+-------------------+----------------+---------------------------+-------------------------+----------------+-------------+--------------+\n",
      "|       Joint App|           115000.0|                     24.95|                  NULL|                    NULL|                  NULL|            NULL|            NULL|              NULL|      32519551|           1549831|      30000.0|Administrative As...|                7|     MORTGAGE|                 Aug-2003|           Verified|   216xx|           MD|Maryland|          0.0|         662.0|        10.0|          0.0|         19.0|        Oct-2017|           32451.78|        finished|                       -1.0|                      5.0|             2.0|            n|      32519551|\n",
      "|       Joint App|           168472.0|                      4.55|                  NULL|                    NULL|                  NULL|            NULL|            NULL|              NULL|      63160376|            649303|      14472.0|       self_employed|                0|         RENT|                 Jul-2010|    Source Verified|   207xx|           MD|Maryland|          0.0|         677.0|         5.0|          0.0|          7.0|        Aug-2016|            8446.52|        finished|                       -1.0|                     NULL|             0.0|            n|      63160376|\n",
      "+----------------+-------------------+--------------------------+----------------------+------------------------+----------------------+----------------+----------------+------------------+--------------+------------------+-------------+--------------------+-----------------+-------------+-------------------------+-------------------+--------+-------------+--------+-------------+--------------+------------+-------------+-------------+----------------+-------------------+----------------+---------------------------+-------------------------+----------------+-------------+--------------+\n",
      "only showing top 2 rows\n",
      "\n"
     ]
    }
   ],
   "source": [
    "# Join based on matching loan product fields (example: loan_grade, loan_term, etc.)\n",
    "df_dim_secBorrower_enrich = dim_SecBorrower.join(\n",
    "    df_dim_Borrower,\n",
    "    on=[\n",
    "        dim_SecBorrower[\"LOANPRODUCT_BK\"] == df_dim_Borrower[\"LOANPRODUCT_BK\"]\n",
    "          # add more if needed\n",
    "    ],\n",
    "    how=\"left\"\n",
    ")\n",
    "\n",
    "df_dim_secBorrower_enrich.show(2)"
   ]
  },
  {
   "cell_type": "markdown",
   "id": "fcdfce6e-a96d-4eaa-9c0a-1be66c61c179",
   "metadata": {},
   "source": [
    "# # Select final columns"
   ]
  },
  {
   "cell_type": "code",
   "execution_count": 6,
   "id": "e7a33af1-18c1-49a3-a996-c5302899c3d2",
   "metadata": {},
   "outputs": [
    {
     "name": "stdout",
     "output_type": "stream",
     "text": [
      "+----------------+-------------------+--------------------------+----------------------+------------------------+----------------------+----------------+----------------+------------------+--------------+------------------+\n",
      "|application_type|annual_income_joint|debt_to_income_ratio_joint|sec_app_fico_range_avg|sec_app_earliest_cr_line|sec_app_inq_last_6mths|sec_app_mort_acc|sec_app_open_acc|sec_app_revol_util|LOANPRODUCT_BK|BORROWER_KEY_PK_SK|\n",
      "+----------------+-------------------+--------------------------+----------------------+------------------------+----------------------+----------------+----------------+------------------+--------------+------------------+\n",
      "|       Joint App|           115000.0|                     24.95|                  NULL|                    NULL|                  NULL|            NULL|            NULL|              NULL|      32519551|           1549831|\n",
      "|       Joint App|           168472.0|                      4.55|                  NULL|                    NULL|                  NULL|            NULL|            NULL|              NULL|      63160376|            649303|\n",
      "+----------------+-------------------+--------------------------+----------------------+------------------------+----------------------+----------------+----------------+------------------+--------------+------------------+\n",
      "only showing top 2 rows\n",
      "\n",
      "root\n",
      " |-- application_type: string (nullable = true)\n",
      " |-- annual_income_joint: string (nullable = true)\n",
      " |-- debt_to_income_ratio_joint: string (nullable = true)\n",
      " |-- sec_app_fico_range_avg: string (nullable = true)\n",
      " |-- sec_app_earliest_cr_line: string (nullable = true)\n",
      " |-- sec_app_inq_last_6mths: string (nullable = true)\n",
      " |-- sec_app_mort_acc: string (nullable = true)\n",
      " |-- sec_app_open_acc: string (nullable = true)\n",
      " |-- sec_app_revol_util: string (nullable = true)\n",
      " |-- LOANPRODUCT_BK: string (nullable = true)\n",
      " |-- BORROWER_KEY_PK_SK: decimal(38,0) (nullable = true)\n",
      "\n"
     ]
    }
   ],
   "source": [
    "new_columns_of_second_Borrower = [\n",
    "    \"application_type\", \"annual_income_joint\", \"debt_to_income_ratio_joint\", \"sec_app_fico_range_avg\",\"sec_app_earliest_cr_line\", \n",
    "    \"sec_app_inq_last_6mths\", \"sec_app_mort_acc\", \"sec_app_open_acc\",\"sec_app_revol_util\",\n",
    "    dim_SecBorrower[\"LOANPRODUCT_BK\"],\"BORROWER_KEY_PK_SK\"\n",
    "]\n",
    "\n",
    "\n",
    "final_dim_secBorrower = df_dim_secBorrower_enrich.select(new_columns_of_second_Borrower)\n",
    "\n",
    "final_dim_secBorrower.show(2)\n",
    "final_dim_secBorrower.printSchema()"
   ]
  },
  {
   "cell_type": "code",
   "execution_count": null,
   "id": "652a1955-9a03-42e5-b1d8-5964551171f1",
   "metadata": {},
   "outputs": [],
   "source": []
  },
  {
   "cell_type": "code",
   "execution_count": 7,
   "id": "18c5a434-2fda-4fe9-95e0-4d4b3cb4c120",
   "metadata": {},
   "outputs": [],
   "source": [
    "# Define the window spec for row numbering\n",
    "windowSpec = Window.orderBy(F.lit(1))  # Constant value to ensure numbering starts from 1\n",
    "\n",
    "# Add the BORROWER_KEY_PK_SK column with row numbers starting from 1\n",
    "final_dim_secBorrower = final_dim_secBorrower.withColumn(\"SEC_BORROWER_KEY_PK_SK\", F.row_number().over(windowSpec))\n",
    "\n",
    "# List of columns to select (ensure that the column names match after renaming)\n",
    "final_columns_of_second_Borrower = [\n",
    "    \"SEC_BORROWER_KEY_PK_SK\",\"application_type\", \"annual_income_joint\", \"debt_to_income_ratio_joint\", \"sec_app_fico_range_avg\",\"sec_app_earliest_cr_line\", \n",
    "    \"sec_app_inq_last_6mths\", \"sec_app_mort_acc\", \"sec_app_open_acc\",\"sec_app_revol_util\",\n",
    "    dim_SecBorrower[\"LOANPRODUCT_BK\"],\"BORROWER_KEY_PK_SK\"\n",
    "]\n",
    "\n",
    "# Select the required columns\n",
    "final_dim_secBorrower = final_dim_secBorrower.select(final_columns_of_second_Borrower)\n"
   ]
  },
  {
   "cell_type": "code",
   "execution_count": 8,
   "id": "b98638dd-05fe-46c1-8308-f33e379b0ebd",
   "metadata": {},
   "outputs": [
    {
     "name": "stdout",
     "output_type": "stream",
     "text": [
      "root\n",
      " |-- SEC_BORROWER_KEY_PK_SK: integer (nullable = false)\n",
      " |-- application_type: string (nullable = true)\n",
      " |-- annual_income_joint: string (nullable = true)\n",
      " |-- debt_to_income_ratio_joint: string (nullable = true)\n",
      " |-- sec_app_fico_range_avg: string (nullable = true)\n",
      " |-- sec_app_earliest_cr_line: string (nullable = true)\n",
      " |-- sec_app_inq_last_6mths: string (nullable = true)\n",
      " |-- sec_app_mort_acc: string (nullable = true)\n",
      " |-- sec_app_open_acc: string (nullable = true)\n",
      " |-- sec_app_revol_util: string (nullable = true)\n",
      " |-- LOANPRODUCT_BK: string (nullable = true)\n",
      " |-- BORROWER_KEY_PK_SK: decimal(38,0) (nullable = true)\n",
      "\n"
     ]
    }
   ],
   "source": [
    "final_dim_secBorrower.printSchema()"
   ]
  },
  {
   "cell_type": "markdown",
   "id": "a0598ec9-3089-4ea6-a469-433fe617acd2",
   "metadata": {},
   "source": [
    "# Load into DIM_SECONDBORROWER"
   ]
  },
  {
   "cell_type": "code",
   "execution_count": 9,
   "id": "a958a9c0-e496-4e32-afcb-dc8284979d81",
   "metadata": {},
   "outputs": [
    {
     "name": "stdout",
     "output_type": "stream",
     "text": [
      "Testing Snowflake connection...\n",
      "+----------+\n",
      "|TEST_VALUE|\n",
      "+----------+\n",
      "|         1|\n",
      "+----------+\n",
      "\n",
      "Connection test successful!\n",
      "Writing data to Snowflake...\n",
      "Data load complete!\n"
     ]
    }
   ],
   "source": [
    "\n",
    "try:\n",
    "    print(\"Testing Snowflake connection...\")\n",
    "    test_df = spark.read \\\n",
    "        .format(\"net.snowflake.spark.snowflake\") \\\n",
    "        .options(**sf_options) \\\n",
    "        .option(\"query\", \"SELECT 1 AS test_value\") \\\n",
    "        .load()\n",
    "    test_df.show()\n",
    "    print(\"Connection test successful!\")\n",
    " \n",
    "    print(\"Writing data to Snowflake...\")\n",
    "    final_dim_secBorrower.write \\\n",
    "        .format(\"snowflake\") \\\n",
    "        .options(**sf_options) \\\n",
    "        .option(\"dbtable\", \"DIM_SECONDBORROWER\") \\\n",
    "        .mode(\"append\") \\\n",
    "        .save()\n",
    " \n",
    "    print(\"Data load complete!\")\n",
    " #######################\n",
    "\n",
    "#############################################\n",
    "    \"\"\"\n",
    "    print(\"Reading data back from Snowflake to verify...\")\n",
    "    snowflake_df = spark.read \\\n",
    "        .format(\"net.snowflake.spark.snowflake\") \\\n",
    "        .options(**sf_options) \\\n",
    "        .option(\"query\", \"SELECT * FROM Loan_DB.Loan_Schema.DIM_SECONDBORROWER\") \\\n",
    "        .load()\n",
    " \n",
    "    snowflake_df.show()\n",
    " \"\"\"\n",
    "except Exception as e:\n",
    "    print(\"Error occurred:\", str(e))\n",
    " \n",
    "#finally:\n",
    "    #spark.stop()"
   ]
  },
  {
   "cell_type": "code",
   "execution_count": null,
   "id": "6f380870-b6be-4cdc-95d2-c4624d995893",
   "metadata": {},
   "outputs": [],
   "source": []
  }
 ],
 "metadata": {
  "kernelspec": {
   "display_name": "Python 3 (ipykernel)",
   "language": "python",
   "name": "python3"
  },
  "language_info": {
   "codemirror_mode": {
    "name": "ipython",
    "version": 3
   },
   "file_extension": ".py",
   "mimetype": "text/x-python",
   "name": "python",
   "nbconvert_exporter": "python",
   "pygments_lexer": "ipython3",
   "version": "3.11.6"
  }
 },
 "nbformat": 4,
 "nbformat_minor": 5
}
