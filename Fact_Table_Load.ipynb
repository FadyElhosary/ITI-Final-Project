{
 "cells": [
  {
   "cell_type": "code",
   "execution_count": 1,
   "id": "6fb4fa0e-750d-4cd0-8f43-076fe5bf6587",
   "metadata": {},
   "outputs": [
    {
     "name": "stdout",
     "output_type": "stream",
     "text": [
      "+---------+---------------+--------+-----------+-----------+-----+---------+----------+-----------+------------+----------+-----------+----------+------+\n",
      "|loan_amnt|funded_amnt_inv|int_rate|installment|loan_status|  dti|revol_bal|revol_util|tot_cur_bal|total_bal_il|max_bal_bc|delinq_amnt|   issue_d|    id|\n",
      "+---------+---------------+--------+-----------+-----------+-----+---------+----------+-----------+------------+----------+-----------+----------+------+\n",
      "|   8000.0|         8000.0|   6.49%|     245.16|Charged Off|10.84|   3012.0|     35.4%|    74131.0|     17290.0|    1569.0|        0.0|2016-01-01| 56121|\n",
      "|   8800.0|         8800.0|  18.99%|     322.53|Charged Off|18.24|  14741.0|     81.9%|   173057.0|    158316.0|    4878.0|        0.0|2016-05-01| 65104|\n",
      "|  16000.0|        16000.0|   6.89%|     493.23| Fully Paid|23.43|  49975.0|     73.4%|   262520.0|        NULL|      NULL|        0.0|2015-06-01| 65419|\n",
      "|  10000.0|        10000.0|   7.89%|     312.86| Fully Paid|11.24|  10063.0|     51.1%|   346414.0|        NULL|      NULL|        0.0|2015-02-01|364880|\n",
      "|   8000.0|         8000.0|  14.99%|     277.29| Fully Paid|16.16|  40428.0|     95.6%|   357673.0|        NULL|      NULL|        0.0|2015-01-01|366792|\n",
      "+---------+---------------+--------+-----------+-----------+-----+---------+----------+-----------+------------+----------+-----------+----------+------+\n",
      "only showing top 5 rows\n",
      "\n",
      "Transformed Data for FACT_DF:\n",
      "root\n",
      " |-- LOAN_AMOUNT: string (nullable = true)\n",
      " |-- FUNDED_AMOUNT_INVESTOR: string (nullable = true)\n",
      " |-- INTEREST_RATE: string (nullable = true)\n",
      " |-- INSTALLMENT: string (nullable = true)\n",
      " |-- LOAN_STATUS: string (nullable = true)\n",
      " |-- DTI: string (nullable = true)\n",
      " |-- REVOLVING_BALANCE: string (nullable = true)\n",
      " |-- REVOLVING_UTILIZATION: string (nullable = true)\n",
      " |-- TOTAL_CURRENT_BALANCE: string (nullable = true)\n",
      " |-- TOTAL_BALANCE_INSTALLMENT: string (nullable = true)\n",
      " |-- MAXIMUM_BALANCE: string (nullable = true)\n",
      " |-- DELINQUENT_AMOUNT: string (nullable = true)\n",
      " |-- ISSUE_DATE: string (nullable = true)\n",
      " |-- LOANPRODUCT_BK: string (nullable = true)\n",
      "\n",
      "+-----------+----------------------+-------------+-----------+-----------+-----+-----------------+---------------------+---------------------+-------------------------+---------------+-----------------+----------+--------------+\n",
      "|LOAN_AMOUNT|FUNDED_AMOUNT_INVESTOR|INTEREST_RATE|INSTALLMENT|LOAN_STATUS|  DTI|REVOLVING_BALANCE|REVOLVING_UTILIZATION|TOTAL_CURRENT_BALANCE|TOTAL_BALANCE_INSTALLMENT|MAXIMUM_BALANCE|DELINQUENT_AMOUNT|ISSUE_DATE|LOANPRODUCT_BK|\n",
      "+-----------+----------------------+-------------+-----------+-----------+-----+-----------------+---------------------+---------------------+-------------------------+---------------+-----------------+----------+--------------+\n",
      "|     8000.0|                8000.0|        6.49%|     245.16|Charged Off|10.84|           3012.0|                35.4%|              74131.0|                  17290.0|         1569.0|              0.0|2016-01-01|         56121|\n",
      "|     8800.0|                8800.0|       18.99%|     322.53|Charged Off|18.24|          14741.0|                81.9%|             173057.0|                 158316.0|         4878.0|              0.0|2016-05-01|         65104|\n",
      "|    16000.0|               16000.0|        6.89%|     493.23| Fully Paid|23.43|          49975.0|                73.4%|             262520.0|                     NULL|           NULL|              0.0|2015-06-01|         65419|\n",
      "|    10000.0|               10000.0|        7.89%|     312.86| Fully Paid|11.24|          10063.0|                51.1%|             346414.0|                     NULL|           NULL|              0.0|2015-02-01|        364880|\n",
      "|     8000.0|                8000.0|       14.99%|     277.29| Fully Paid|16.16|          40428.0|                95.6%|             357673.0|                     NULL|           NULL|              0.0|2015-01-01|        366792|\n",
      "+-----------+----------------------+-------------+-----------+-----------+-----+-----------------+---------------------+---------------------+-------------------------+---------------+-----------------+----------+--------------+\n",
      "only showing top 5 rows\n",
      "\n"
     ]
    }
   ],
   "source": [
    "from pyspark.sql import SparkSession\n",
    "import os\n",
    "from pyspark.sql.types import StructType, StructField, StringType, FloatType, DecimalType,IntegerType\n",
    "from pyspark.sql import functions as F\n",
    "from pyspark.sql.window import Window\n",
    "\n",
    "# Initialize Spark with Snowflake packages\n",
    "spark = SparkSession.builder \\\n",
    "    .appName(\"SnowflakeLoad_LoanProduct\") \\\n",
    "    .config(\"spark.jars.packages\", \"net.snowflake:snowflake-jdbc:3.13.22,net.snowflake:spark-snowflake_2.12:2.11.0-spark_3.3\") \\\n",
    "    .getOrCreate()\n",
    "\n",
    "\n",
    "\n",
    "# Load CSV file into DataFrame (Replace 'your_file.csv' with actual filename)\n",
    "csv_path = \"Transformed_2014_18_v2.csv\"\n",
    "df = spark.read.option(\"header\", True).csv(csv_path)  #.sample(withReplacement=False, fraction=0.0001, seed=42)\n",
    "\n",
    "\n",
    "#### customize the csv file for Dim_loan_product\n",
    "\n",
    "column_mapping = {\n",
    "    \"loan_amnt\": \"LOAN_AMOUNT\",\n",
    "    \"funded_amnt_inv\": \"FUNDED_AMOUNT_INVESTOR\",\n",
    "    \"int_rate\": \"INTEREST_RATE\",\n",
    "    \"installment\": \"INSTALLMENT\",\n",
    "    \"loan_status\": \"LOAN_STATUS\",\n",
    "    \"dti\": \"DTI\",\n",
    "    \"revol_bal\": \"REVOLVING_BALANCE\",\n",
    "    \"revol_util\": \"REVOLVING_UTILIZATION\",\n",
    "    \"tot_cur_bal\":\"TOTAL_CURRENT_BALANCE\",\n",
    "    \"total_bal_il\":\"TOTAL_BALANCE_INSTALLMENT\",\n",
    "    \"max_bal_bc\":\"MAXIMUM_BALANCE\",\n",
    "    \"delinq_amnt\":\"DELINQUENT_AMOUNT\",\n",
    "    \"issue_d\":\"ISSUE_DATE\",\n",
    "    \"id\":\"LOANPRODUCT_BK\"\n",
    "}\n",
    "\n",
    "fact_columns = [\n",
    "    \"loan_amnt\", \"funded_amnt_inv\", \"int_rate\", \"installment\",\n",
    "\n",
    "    \"loan_status\", \"dti\", \"revol_bal\", \"revol_util\",\n",
    "\n",
    "    \"tot_cur_bal\", \"total_bal_il\", \"max_bal_bc\", \"delinq_amnt\",\n",
    "\n",
    "    \"issue_d\",\"id\"\n",
    "]\n",
    " \n",
    "FACT_DF = df.select(fact_columns)\n",
    "FACT_DF.show(5)\n",
    "\n",
    "# Snowflake connection options\n",
    "sf_options = {\n",
    "    \"sfURL\": \"https://WOA97553.east-us-2.azure.snowflakecomputing.com\",\n",
    "    \"sfUser\": 'hussien1',\n",
    "    \"sfPassword\":'@Hussien123456',\n",
    "    \"sfDatabase\": 'Loan_DB',\n",
    "    \"sfSchema\": 'Loan_Schema',\n",
    "    \"sfWarehouse\": 'loan_Warehouse',\n",
    "    \"autopushdown\": \"on\",\n",
    "    \"usestagingtable\": \"on\"\n",
    "}\n",
    "\n",
    "\n",
    "# Rename columns in the DataFrame according to the column mapping\n",
    "for source_col, dest_col in column_mapping.items():\n",
    "    if source_col in FACT_DF.columns:\n",
    "        FACT_DF = FACT_DF.withColumnRenamed(source_col, dest_col)\n",
    "\n",
    "\n",
    "\n",
    "\n",
    "# Show DataFrame to verify changes\n",
    "print(\"Transformed Data for FACT_DF:\")\n",
    "\n",
    "FACT_DF.printSchema()\n",
    "FACT_DF.show(5)"
   ]
  },
  {
   "cell_type": "markdown",
   "id": "f914f892-5281-4d93-9004-5efd87df6a3d",
   "metadata": {},
   "source": [
    "# Load Dim_LOANPRODUCT from snowflake into spark data frame"
   ]
  },
  {
   "cell_type": "code",
   "execution_count": 2,
   "id": "e1c15179-10f1-4f4a-86b3-e55b8e5de9cf",
   "metadata": {},
   "outputs": [
    {
     "name": "stdout",
     "output_type": "stream",
     "text": [
      "+-------------------+----------+-------------+---------+------------------+-------------------+-------------+----------------+--------------------+--------------+\n",
      "|LOAN_PRODUCT_KEY_PK|LOAN_GRADE|LOAN_SUBGRADE|LOAN_TERM|      LOAN_PURPOSE|INITIAL_LIST_STATUS|OUT_PRINCIPAL|APPLICATION_TYPE|DEBT_SETTLEMENT_FLAG|LOANPRODUCT_BK|\n",
      "+-------------------+----------+-------------+---------+------------------+-------------------+-------------+----------------+--------------------+--------------+\n",
      "|                  1|         A|           A2|       36|  home_improvement|                  w|          0.0|      Individual|                   N|         56121|\n",
      "|                  2|         D|           D4|       36|debt_consolidation|                  w|          0.0|      Individual|                   N|         65104|\n",
      "|                  3|         A|           A3|       36|  home_improvement|                  w|          0.0|      Individual|                   N|         65419|\n",
      "|                  4|         A|           A5|       36|       credit_card|                  f|          0.0|      Individual|                   N|        364880|\n",
      "+-------------------+----------+-------------+---------+------------------+-------------------+-------------+----------------+--------------------+--------------+\n",
      "only showing top 4 rows\n",
      "\n"
     ]
    }
   ],
   "source": [
    "from pyspark.sql import SparkSession\n",
    "\n",
    "\n",
    "# Step 3: Load data from Snowflake table into Spark DataFrame\n",
    "df_dim_Loanproduct = spark.read \\\n",
    "    .format(\"snowflake\") \\\n",
    "    .options(**sf_options) \\\n",
    "    .option(\"dbtable\", \"DIM_LOANPRODUCT\") \\\n",
    "    .load()\n",
    "\n",
    "# Step 4: Show the data\n",
    "df_dim_Loanproduct.show(4)\n",
    "\n",
    "# Optional: Save the DataFrame as a CSV or another format if needed\n",
    "# df_snowflake.write.option(\"header\", \"true\").csv(\"output_path\")\n"
   ]
  },
  {
   "cell_type": "markdown",
   "id": "31b96511-c02d-4110-947d-17a2ab5017a0",
   "metadata": {},
   "source": [
    "# Load Dim_Borrower from snowflake into spark data frame"
   ]
  },
  {
   "cell_type": "code",
   "execution_count": 3,
   "id": "eaf082b1-9906-4ad9-9b65-dcd50c4f7945",
   "metadata": {},
   "outputs": [
    {
     "name": "stdout",
     "output_type": "stream",
     "text": [
      "+------------------+-------------+----------------+-----------------+-------------+-------------------------+-------------------+--------+-------------+------------+-------------+--------------+------------+-------------+-------------+----------------+-------------------+----------------+---------------------------+-------------------------+----------------+-------------+--------------+\n",
      "|BORROWER_KEY_PK_SK|ANNUAL_INCOME|EMPLOYMENT_TITLE|EMPLOYMENT_LENGTH|HOMEOWNERSHIP|EARLIEST_CREDIT_LINE_DATE|VERIFICATION_STATUS|ZIP_CODE|ADDRESS_STATE|       STATE|DELINQ_2YEARS|AVG_FICO_RANGE|OPEN_ACCOUNT|PUBLIC_RECORD|TOTAL_ACCOUNT|LAST_PAYMENT_DAY|LAST_PAYMENT_AMOUNT|NEXT_PAYMENT_DAY|MTHS_SINCE_LAST_MAJOR_DEROG|ACTIVE_LOANS_LAST_24MONTH|MORTGAGE_ACCOUNT|HARDSHIP_FLAG|LOANPRODUCT_BK|\n",
      "+------------------+-------------+----------------+-----------------+-------------+-------------------------+-------------------+--------+-------------+------------+-------------+--------------+------------+-------------+-------------+----------------+-------------------+----------------+---------------------------+-------------------------+----------------+-------------+--------------+\n",
      "|            352257|     119000.0|        Director|              +10|         RENT|                 Dec-2000|       Not Verified|   352xx|           AL|     Alabama|          0.0|         697.0|         3.0|          1.0|          7.0|        May-2020|             256.04|        Jun-2020|                       -1.0|                      0.0|             0.0|            n|     119336843|\n",
      "|            352258|      31000.0|          Picker|                4|          OWN|                 May-2006|    Source Verified|   917xx|           CA|  California|          1.0|         712.0|        14.0|          0.0|         27.0|        May-2020|             199.01|        Jun-2020|                       76.0|                      2.0|             0.0|            n|     141407775|\n",
      "|            352259|      15000.0|   self_employed|                0|     MORTGAGE|                 Nov-2004|       Not Verified|   923xx|           CA|  California|          0.0|         697.0|        16.0|          0.0|         23.0|        Sep-2018|            3731.21|        finished|                      103.0|                      1.0|             1.0|            n|     119337061|\n",
      "|            352260|     120000.0|   Store Manager|                4|     MORTGAGE|                 May-2003|       Not Verified|   184xx|           PA|Pennsylvania|          1.0|         747.0|        14.0|          0.0|         32.0|        May-2020|             396.14|        Jun-2020|                       -1.0|                      5.0|             4.0|            n|     141407895|\n",
      "+------------------+-------------+----------------+-----------------+-------------+-------------------------+-------------------+--------+-------------+------------+-------------+--------------+------------+-------------+-------------+----------------+-------------------+----------------+---------------------------+-------------------------+----------------+-------------+--------------+\n",
      "only showing top 4 rows\n",
      "\n"
     ]
    }
   ],
   "source": [
    "from pyspark.sql import SparkSession\n",
    "\n",
    "\n",
    "# Step 3: Load data from Snowflake table into Spark DataFrame\n",
    "df_dim_Borrower = spark.read \\\n",
    "    .format(\"snowflake\") \\\n",
    "    .options(**sf_options) \\\n",
    "    .option(\"dbtable\", \"DIM_BORROWER\") \\\n",
    "    .load()\n",
    "\n",
    "# Step 4: Show the data\n",
    "df_dim_Borrower.show(4)\n",
    "\n",
    "# Optional: Save the DataFrame as a CSV or another format if needed\n",
    "# df_snowflake.write.option(\"header\", \"true\").csv(\"output_path\")\n"
   ]
  },
  {
   "cell_type": "markdown",
   "id": "2c6e84a3-11b4-4e41-a33a-e03ec8b62cbf",
   "metadata": {},
   "source": [
    "# Load Dim_DAte from snowflake into spark data frame"
   ]
  },
  {
   "cell_type": "code",
   "execution_count": 4,
   "id": "32f284d3-aa4b-45ed-9ae9-708adc185f41",
   "metadata": {},
   "outputs": [
    {
     "name": "stdout",
     "output_type": "stream",
     "text": [
      "+--------+----------+---+-----+----+\n",
      "| DATE_SK|      DATE|DAY|MONTH|YEAR|\n",
      "+--------+----------+---+-----+----+\n",
      "|20000101|2000-01-01|  1|    1|2000|\n",
      "|20000102|2000-01-02|  2|    1|2000|\n",
      "|20000103|2000-01-03|  3|    1|2000|\n",
      "|20000104|2000-01-04|  4|    1|2000|\n",
      "+--------+----------+---+-----+----+\n",
      "only showing top 4 rows\n",
      "\n"
     ]
    }
   ],
   "source": [
    "from pyspark.sql import SparkSession\n",
    "\n",
    "\n",
    "# Step 3: Load data from Snowflake table into Spark DataFrame\n",
    "df_dim_date = spark.read \\\n",
    "    .format(\"snowflake\") \\\n",
    "    .options(**sf_options) \\\n",
    "    .option(\"dbtable\", \"DIM_DATE\") \\\n",
    "    .load()\n",
    "\n",
    "# Step 4: Show the data\n",
    "df_dim_date.show(4)\n",
    "\n",
    "# Optional: Save the DataFrame as a CSV or another format if needed\n",
    "# df_snowflake.write.option(\"header\", \"true\").csv(\"output_path\")\n"
   ]
  },
  {
   "cell_type": "code",
   "execution_count": 14,
   "id": "360fc3dc-e8ce-43a3-a6df-cfa80bcc9ed5",
   "metadata": {},
   "outputs": [
    {
     "name": "stdout",
     "output_type": "stream",
     "text": [
      "root\n",
      " |-- DATE_SK: decimal(38,0) (nullable = false)\n",
      " |-- DATE: date (nullable = false)\n",
      " |-- DAY: decimal(38,0) (nullable = true)\n",
      " |-- MONTH: decimal(38,0) (nullable = true)\n",
      " |-- YEAR: decimal(38,0) (nullable = true)\n",
      "\n"
     ]
    }
   ],
   "source": [
    "df_dim_date.printSchema()"
   ]
  },
  {
   "cell_type": "markdown",
   "id": "444edac7-624d-4a27-ac97-3a70726304dd",
   "metadata": {},
   "source": [
    "# join FACT_DF with dim_Borrower and DIM_LOANPRODUCT to get df_FACT_TABLE_enrich"
   ]
  },
  {
   "cell_type": "code",
   "execution_count": null,
   "id": "5ce8b8e8-45ca-439d-b703-0ae57280f598",
   "metadata": {},
   "outputs": [],
   "source": [
    "# join FACT_DF with dim_Borrower and DIM_LOANPRODUCT to get df_FACT_TABLE_enrich"
   ]
  },
  {
   "cell_type": "code",
   "execution_count": 6,
   "id": "e4c0ca30-1a67-4545-8cfd-bc33b894043e",
   "metadata": {},
   "outputs": [],
   "source": [
    "fact_Borrower_columns= ['LOAN_AMOUNT', 'FUNDED_AMOUNT_INVESTOR', 'INTEREST_RATE', 'INSTALLMENT',\n",
    " 'LOAN_STATUS', 'DTI', 'REVOLVING_BALANCE', 'REVOLVING_UTILIZATION',\n",
    " 'TOTAL_CURRENT_BALANCE', 'TOTAL_BALANCE_INSTALLMENT', 'MAXIMUM_BALANCE',\n",
    " 'DELINQUENT_AMOUNT', 'ISSUE_DATE', FACT_DF['LOANPRODUCT_BK'], 'BORROWER_KEY_PK_SK']"
   ]
  },
  {
   "cell_type": "code",
   "execution_count": 7,
   "id": "9001cc9f-eb1f-4153-9899-c2b54a000ae4",
   "metadata": {},
   "outputs": [
    {
     "name": "stdout",
     "output_type": "stream",
     "text": [
      "root\n",
      " |-- LOAN_AMOUNT: string (nullable = true)\n",
      " |-- FUNDED_AMOUNT_INVESTOR: string (nullable = true)\n",
      " |-- INTEREST_RATE: string (nullable = true)\n",
      " |-- INSTALLMENT: string (nullable = true)\n",
      " |-- LOAN_STATUS: string (nullable = true)\n",
      " |-- DTI: string (nullable = true)\n",
      " |-- REVOLVING_BALANCE: string (nullable = true)\n",
      " |-- REVOLVING_UTILIZATION: string (nullable = true)\n",
      " |-- TOTAL_CURRENT_BALANCE: string (nullable = true)\n",
      " |-- TOTAL_BALANCE_INSTALLMENT: string (nullable = true)\n",
      " |-- MAXIMUM_BALANCE: string (nullable = true)\n",
      " |-- DELINQUENT_AMOUNT: string (nullable = true)\n",
      " |-- ISSUE_DATE: string (nullable = true)\n",
      " |-- LOANPRODUCT_BK: string (nullable = true)\n",
      " |-- BORROWER_KEY_PK_SK: decimal(38,0) (nullable = true)\n",
      "\n"
     ]
    }
   ],
   "source": [
    "# First join: FACT_DF with dim_Borrower on BORROWER_KEY_PK_SK\n",
    "fact_with_borrower = FACT_DF.join(\n",
    "    df_dim_Borrower,\n",
    "    on=FACT_DF[\"LOANPRODUCT_BK\"] == df_dim_Borrower[\"LOANPRODUCT_BK\"],\n",
    "    how=\"left\"\n",
    ").select(fact_Borrower_columns)\n",
    "\n",
    "fact_with_borrower.printSchema()"
   ]
  },
  {
   "cell_type": "code",
   "execution_count": 8,
   "id": "a2a9c1aa-f8a8-4431-97ea-0e9fb8a081e6",
   "metadata": {},
   "outputs": [],
   "source": [
    "fact_Borrower_LoanPRODUCT_columns= ['LOAN_AMOUNT', 'FUNDED_AMOUNT_INVESTOR', 'INTEREST_RATE', 'INSTALLMENT',\n",
    " 'LOAN_STATUS', 'DTI', 'REVOLVING_BALANCE', 'REVOLVING_UTILIZATION',\n",
    " 'TOTAL_CURRENT_BALANCE', 'TOTAL_BALANCE_INSTALLMENT', 'MAXIMUM_BALANCE',\n",
    " 'DELINQUENT_AMOUNT', 'ISSUE_DATE', fact_with_borrower['LOANPRODUCT_BK'], 'BORROWER_KEY_PK_SK','LOAN_PRODUCT_KEY_PK']"
   ]
  },
  {
   "cell_type": "code",
   "execution_count": 9,
   "id": "4e1cb563-2bfe-44c7-8785-0799c2861218",
   "metadata": {},
   "outputs": [
    {
     "name": "stdout",
     "output_type": "stream",
     "text": [
      "+-----------+----------------------+-------------+-----------+-----------+-----+-----------------+---------------------+---------------------+-------------------------+---------------+-----------------+----------+--------------+------------------+-------------------+\n",
      "|LOAN_AMOUNT|FUNDED_AMOUNT_INVESTOR|INTEREST_RATE|INSTALLMENT|LOAN_STATUS|  DTI|REVOLVING_BALANCE|REVOLVING_UTILIZATION|TOTAL_CURRENT_BALANCE|TOTAL_BALANCE_INSTALLMENT|MAXIMUM_BALANCE|DELINQUENT_AMOUNT|ISSUE_DATE|LOANPRODUCT_BK|BORROWER_KEY_PK_SK|LOAN_PRODUCT_KEY_PK|\n",
      "+-----------+----------------------+-------------+-----------+-----------+-----+-----------------+---------------------+---------------------+-------------------------+---------------+-----------------+----------+--------------+------------------+-------------------+\n",
      "|    24000.0|               24000.0|       14.98%|     570.71|Charged Off| 6.81|          12897.0|                38.8%|             160760.0|                     NULL|           NULL|              0.0|2014-02-01|      10629038|            511117|             255559|\n",
      "|    12000.0|               12000.0|        9.49%|     384.34| Fully Paid|22.43|          13455.0|                39.3%|             196870.0|                     NULL|           NULL|              0.0|2014-12-01|      37107982|           2004562|            1023186|\n",
      "+-----------+----------------------+-------------+-----------+-----------+-----+-----------------+---------------------+---------------------+-------------------------+---------------+-----------------+----------+--------------+------------------+-------------------+\n",
      "only showing top 2 rows\n",
      "\n",
      "root\n",
      " |-- LOAN_AMOUNT: string (nullable = true)\n",
      " |-- FUNDED_AMOUNT_INVESTOR: string (nullable = true)\n",
      " |-- INTEREST_RATE: string (nullable = true)\n",
      " |-- INSTALLMENT: string (nullable = true)\n",
      " |-- LOAN_STATUS: string (nullable = true)\n",
      " |-- DTI: string (nullable = true)\n",
      " |-- REVOLVING_BALANCE: string (nullable = true)\n",
      " |-- REVOLVING_UTILIZATION: string (nullable = true)\n",
      " |-- TOTAL_CURRENT_BALANCE: string (nullable = true)\n",
      " |-- TOTAL_BALANCE_INSTALLMENT: string (nullable = true)\n",
      " |-- MAXIMUM_BALANCE: string (nullable = true)\n",
      " |-- DELINQUENT_AMOUNT: string (nullable = true)\n",
      " |-- ISSUE_DATE: string (nullable = true)\n",
      " |-- LOANPRODUCT_BK: string (nullable = true)\n",
      " |-- BORROWER_KEY_PK_SK: decimal(38,0) (nullable = true)\n",
      " |-- LOAN_PRODUCT_KEY_PK: decimal(38,0) (nullable = true)\n",
      "\n"
     ]
    }
   ],
   "source": [
    "# Second join: result with dim_Loanproduct on LOANPRODUCT_BK\n",
    "df_FACT_TABLE_enrich = fact_with_borrower.join(\n",
    "    df_dim_Loanproduct,\n",
    "    on=fact_with_borrower[\"LOANPRODUCT_BK\"] == df_dim_Loanproduct[\"LOANPRODUCT_BK\"],\n",
    "    how=\"left\"\n",
    ").select(fact_Borrower_LoanPRODUCT_columns)\n",
    "\n",
    "# Optional: show result\n",
    "df_FACT_TABLE_enrich.show(2)\n",
    "df_FACT_TABLE_enrich.printSchema()"
   ]
  },
  {
   "cell_type": "code",
   "execution_count": 10,
   "id": "8fb17f69-1613-46ad-9db3-bb472c3a28d5",
   "metadata": {},
   "outputs": [],
   "source": [
    "# Define the window spec for row numbering\n",
    "windowSpec = Window.orderBy(F.lit(1))  # Constant value to ensure numbering starts from 1\n",
    "\n",
    "# Add the BORROWER_KEY_PK_SK column with row numbers starting from 1\n",
    "df_FACT_TABLE_enrich = df_FACT_TABLE_enrich.withColumn(\"LOAN_APP_PK_SK\", F.row_number().over(windowSpec))\n",
    "\n",
    "# List of columns to select (ensure that the column names match after renaming)\n",
    "final_columns_of_FACT_TABLE = [\n",
    "    'LOAN_APP_PK_SK','LOAN_AMOUNT', 'FUNDED_AMOUNT_INVESTOR', 'INTEREST_RATE', 'INSTALLMENT',\n",
    " 'LOAN_STATUS', 'DTI', 'REVOLVING_BALANCE', 'REVOLVING_UTILIZATION',\n",
    " 'TOTAL_CURRENT_BALANCE', 'TOTAL_BALANCE_INSTALLMENT', 'MAXIMUM_BALANCE',\n",
    " 'DELINQUENT_AMOUNT', 'ISSUE_DATE', df_FACT_TABLE_enrich['LOANPRODUCT_BK'], 'BORROWER_KEY_PK_SK','LOAN_PRODUCT_KEY_PK']\n",
    "\n",
    "# Select the required columns\n",
    "df_FACT_TABLE_enrich = df_FACT_TABLE_enrich.select(final_columns_of_FACT_TABLE)"
   ]
  },
  {
   "cell_type": "code",
   "execution_count": 11,
   "id": "4835bfe7-1235-4208-98fa-a04e96819939",
   "metadata": {},
   "outputs": [
    {
     "name": "stdout",
     "output_type": "stream",
     "text": [
      "root\n",
      " |-- LOAN_APP_PK_SK: integer (nullable = false)\n",
      " |-- LOAN_AMOUNT: string (nullable = true)\n",
      " |-- FUNDED_AMOUNT_INVESTOR: string (nullable = true)\n",
      " |-- INTEREST_RATE: string (nullable = true)\n",
      " |-- INSTALLMENT: string (nullable = true)\n",
      " |-- LOAN_STATUS: string (nullable = true)\n",
      " |-- DTI: string (nullable = true)\n",
      " |-- REVOLVING_BALANCE: string (nullable = true)\n",
      " |-- REVOLVING_UTILIZATION: string (nullable = true)\n",
      " |-- TOTAL_CURRENT_BALANCE: string (nullable = true)\n",
      " |-- TOTAL_BALANCE_INSTALLMENT: string (nullable = true)\n",
      " |-- MAXIMUM_BALANCE: string (nullable = true)\n",
      " |-- DELINQUENT_AMOUNT: string (nullable = true)\n",
      " |-- ISSUE_DATE: string (nullable = true)\n",
      " |-- LOANPRODUCT_BK: string (nullable = true)\n",
      " |-- BORROWER_KEY_PK_SK: decimal(38,0) (nullable = true)\n",
      " |-- LOAN_PRODUCT_KEY_PK: decimal(38,0) (nullable = true)\n",
      "\n"
     ]
    }
   ],
   "source": [
    "df_FACT_TABLE_enrich.printSchema()"
   ]
  },
  {
   "cell_type": "code",
   "execution_count": 12,
   "id": "4b55efef-bb4b-49cf-af60-75b3bb95e309",
   "metadata": {},
   "outputs": [
    {
     "name": "stdout",
     "output_type": "stream",
     "text": [
      "+--------------+-----------+----------------------+-------------+-----------+-----------+-----+-----------------+---------------------+---------------------+-------------------------+---------------+-----------------+----------+--------------+------------------+-------------------+\n",
      "|LOAN_APP_PK_SK|LOAN_AMOUNT|FUNDED_AMOUNT_INVESTOR|INTEREST_RATE|INSTALLMENT|LOAN_STATUS|  DTI|REVOLVING_BALANCE|REVOLVING_UTILIZATION|TOTAL_CURRENT_BALANCE|TOTAL_BALANCE_INSTALLMENT|MAXIMUM_BALANCE|DELINQUENT_AMOUNT|ISSUE_DATE|LOANPRODUCT_BK|BORROWER_KEY_PK_SK|LOAN_PRODUCT_KEY_PK|\n",
      "+--------------+-----------+----------------------+-------------+-----------+-----------+-----+-----------------+---------------------+---------------------+-------------------------+---------------+-----------------+----------+--------------+------------------+-------------------+\n",
      "|             1|    24000.0|               24000.0|       14.98%|     570.71|Charged Off| 6.81|          12897.0|                38.8%|             160760.0|                     NULL|           NULL|              0.0|2014-02-01|      10629038|            511117|             255559|\n",
      "|             2|    12000.0|               12000.0|        9.49%|     384.34| Fully Paid|22.43|          13455.0|                39.3%|             196870.0|                     NULL|           NULL|              0.0|2014-12-01|      37107982|           2004562|            1023186|\n",
      "+--------------+-----------+----------------------+-------------+-----------+-----------+-----+-----------------+---------------------+---------------------+-------------------------+---------------+-----------------+----------+--------------+------------------+-------------------+\n",
      "only showing top 2 rows\n",
      "\n"
     ]
    }
   ],
   "source": [
    "df_FACT_TABLE_enrich.show(2)"
   ]
  },
  {
   "cell_type": "code",
   "execution_count": 13,
   "id": "bc3416c3-6263-4ee6-9dad-86e259613d20",
   "metadata": {},
   "outputs": [],
   "source": [
    "final_columns_of_FACT_TABLE_with_DATE = [\n",
    "    'LOAN_APP_PK_SK','LOAN_AMOUNT', 'FUNDED_AMOUNT_INVESTOR', 'INTEREST_RATE', 'INSTALLMENT',\n",
    " 'LOAN_STATUS', 'DTI', 'REVOLVING_BALANCE', 'REVOLVING_UTILIZATION',\n",
    " 'TOTAL_CURRENT_BALANCE', 'TOTAL_BALANCE_INSTALLMENT', 'MAXIMUM_BALANCE',\n",
    " 'DELINQUENT_AMOUNT', 'ISSUE_DATE', df_FACT_TABLE_enrich['LOANPRODUCT_BK'], 'BORROWER_KEY_PK_SK','LOAN_PRODUCT_KEY_PK','DATE_SK']"
   ]
  },
  {
   "cell_type": "code",
   "execution_count": 15,
   "id": "27c419cd-54f2-4ea2-ae7a-42be050c5166",
   "metadata": {},
   "outputs": [],
   "source": [
    "# code to change ISSUE_DATE type to DATE\n",
    "from pyspark.sql.functions import to_date, col\n",
    "from pyspark.sql.types import DateType\n",
    "\n",
    "# Convert ISSUE_DATE to date format (assuming it's in format like 'yyyy-MM-dd' or 'MMM-yyyy')\n",
    "df_FACT_TABLE_enrich = df_FACT_TABLE_enrich.withColumn(\n",
    "    \"ISSUE_DATE\",\n",
    "    to_date(col(\"ISSUE_DATE\"), \"yyyy-MM-dd\")  # Change format if needed, e.g. \"MMM-yyyy\"\n",
    ")"
   ]
  },
  {
   "cell_type": "code",
   "execution_count": 16,
   "id": "f2901f91-1f31-4edb-8989-c9c7dd56994e",
   "metadata": {},
   "outputs": [
    {
     "name": "stdout",
     "output_type": "stream",
     "text": [
      "+--------------+-----------+----------------------+-------------+-----------+-----------+-----+-----------------+---------------------+---------------------+-------------------------+---------------+-----------------+----------+--------------+------------------+-------------------+--------+\n",
      "|LOAN_APP_PK_SK|LOAN_AMOUNT|FUNDED_AMOUNT_INVESTOR|INTEREST_RATE|INSTALLMENT|LOAN_STATUS|  DTI|REVOLVING_BALANCE|REVOLVING_UTILIZATION|TOTAL_CURRENT_BALANCE|TOTAL_BALANCE_INSTALLMENT|MAXIMUM_BALANCE|DELINQUENT_AMOUNT|ISSUE_DATE|LOANPRODUCT_BK|BORROWER_KEY_PK_SK|LOAN_PRODUCT_KEY_PK| DATE_SK|\n",
      "+--------------+-----------+----------------------+-------------+-----------+-----------+-----+-----------------+---------------------+---------------------+-------------------------+---------------+-----------------+----------+--------------+------------------+-------------------+--------+\n",
      "|             1|    24000.0|               24000.0|       14.98%|     570.71|Charged Off| 6.81|          12897.0|                38.8%|             160760.0|                     NULL|           NULL|              0.0|2014-02-01|      10629038|            511117|             255559|20140201|\n",
      "|             2|    12000.0|               12000.0|        9.49%|     384.34| Fully Paid|22.43|          13455.0|                39.3%|             196870.0|                     NULL|           NULL|              0.0|2014-12-01|      37107982|           2004562|            1023186|20141201|\n",
      "+--------------+-----------+----------------------+-------------+-----------+-----------+-----+-----------------+---------------------+---------------------+-------------------------+---------------+-----------------+----------+--------------+------------------+-------------------+--------+\n",
      "only showing top 2 rows\n",
      "\n",
      "root\n",
      " |-- LOAN_APP_PK_SK: integer (nullable = false)\n",
      " |-- LOAN_AMOUNT: string (nullable = true)\n",
      " |-- FUNDED_AMOUNT_INVESTOR: string (nullable = true)\n",
      " |-- INTEREST_RATE: string (nullable = true)\n",
      " |-- INSTALLMENT: string (nullable = true)\n",
      " |-- LOAN_STATUS: string (nullable = true)\n",
      " |-- DTI: string (nullable = true)\n",
      " |-- REVOLVING_BALANCE: string (nullable = true)\n",
      " |-- REVOLVING_UTILIZATION: string (nullable = true)\n",
      " |-- TOTAL_CURRENT_BALANCE: string (nullable = true)\n",
      " |-- TOTAL_BALANCE_INSTALLMENT: string (nullable = true)\n",
      " |-- MAXIMUM_BALANCE: string (nullable = true)\n",
      " |-- DELINQUENT_AMOUNT: string (nullable = true)\n",
      " |-- ISSUE_DATE: date (nullable = true)\n",
      " |-- LOANPRODUCT_BK: string (nullable = true)\n",
      " |-- BORROWER_KEY_PK_SK: decimal(38,0) (nullable = true)\n",
      " |-- LOAN_PRODUCT_KEY_PK: decimal(38,0) (nullable = true)\n",
      " |-- DATE_SK: decimal(38,0) (nullable = true)\n",
      "\n"
     ]
    }
   ],
   "source": [
    "# third join: \n",
    "final_FACT_TABLE_enrich = df_FACT_TABLE_enrich.join(\n",
    "    df_dim_date,\n",
    "    on=df_FACT_TABLE_enrich[\"ISSUE_DATE\"] == df_dim_date[\"DATE\"],\n",
    "    how=\"left\"\n",
    ").select(final_columns_of_FACT_TABLE_with_DATE)\n",
    "\n",
    "# Optional: show result\n",
    "final_FACT_TABLE_enrich.show(2)\n",
    "final_FACT_TABLE_enrich.printSchema()"
   ]
  },
  {
   "cell_type": "code",
   "execution_count": 18,
   "id": "586287d4-1cd1-4897-a921-a3044af27a60",
   "metadata": {},
   "outputs": [
    {
     "name": "stdout",
     "output_type": "stream",
     "text": [
      "root\n",
      " |-- LOAN_APP_PK_SK: integer (nullable = false)\n",
      " |-- LOAN_AMOUNT: string (nullable = true)\n",
      " |-- FUNDED_AMOUNT_INVESTOR: string (nullable = true)\n",
      " |-- INTEREST_RATE: string (nullable = true)\n",
      " |-- INSTALLMENT: string (nullable = true)\n",
      " |-- LOAN_STATUS: string (nullable = true)\n",
      " |-- DTI: string (nullable = true)\n",
      " |-- REVOLVING_BALANCE: string (nullable = true)\n",
      " |-- REVOLVING_UTILIZATION: string (nullable = true)\n",
      " |-- TOTAL_CURRENT_BALANCE: string (nullable = true)\n",
      " |-- TOTAL_BALANCE_INSTALLMENT: string (nullable = true)\n",
      " |-- MAXIMUM_BALANCE: string (nullable = true)\n",
      " |-- DELINQUENT_AMOUNT: string (nullable = true)\n",
      " |-- ISSUE_DATE: date (nullable = true)\n",
      " |-- LOANPRODUCT_BK: string (nullable = true)\n",
      " |-- BORROWER_KEY_PK_SK: decimal(38,0) (nullable = true)\n",
      " |-- LOAN_PRODUCT_KEY_PK: decimal(38,0) (nullable = true)\n",
      " |-- DATE_SK: decimal(38,0) (nullable = true)\n",
      "\n"
     ]
    }
   ],
   "source": [
    "final_FACT_TABLE_enrich.printSchema()"
   ]
  },
  {
   "cell_type": "code",
   "execution_count": null,
   "id": "4cd92672-d952-4644-8805-4921245010e0",
   "metadata": {},
   "outputs": [],
   "source": []
  },
  {
   "cell_type": "markdown",
   "id": "ea6a9388-5e02-45e6-9add-32ac2a7e7b92",
   "metadata": {},
   "source": [
    "# Load into FACT_LOANAPPLICATION"
   ]
  },
  {
   "cell_type": "code",
   "execution_count": 22,
   "id": "2861030f-d3ff-4466-8c59-f8454a1f2ab1",
   "metadata": {},
   "outputs": [
    {
     "name": "stdout",
     "output_type": "stream",
     "text": [
      "Testing Snowflake connection...\n",
      "+----------+\n",
      "|TEST_VALUE|\n",
      "+----------+\n",
      "|         1|\n",
      "+----------+\n",
      "\n",
      "Connection test successful!\n",
      "Writing data to Snowflake...\n",
      "Data load complete!\n"
     ]
    }
   ],
   "source": [
    "\n",
    "try:\n",
    "    print(\"Testing Snowflake connection...\")\n",
    "    test_df = spark.read \\\n",
    "        .format(\"net.snowflake.spark.snowflake\") \\\n",
    "        .options(**sf_options) \\\n",
    "        .option(\"query\", \"SELECT 1 AS test_value\") \\\n",
    "        .load()\n",
    "    test_df.show()\n",
    "    print(\"Connection test successful!\")\n",
    " \n",
    "    print(\"Writing data to Snowflake...\")\n",
    "    final_FACT_TABLE_enrich.write \\\n",
    "        .format(\"snowflake\") \\\n",
    "        .options(**sf_options) \\\n",
    "        .option(\"dbtable\", \"FACT_LOANAPPLICATION\") \\\n",
    "        .mode(\"append\") \\\n",
    "        .save()\n",
    " \n",
    "    print(\"Data load complete!\")\n",
    " #######################\n",
    "\n",
    "#############################################\n",
    "    \"\"\"\n",
    "    print(\"Reading data back from Snowflake to verify...\")\n",
    "    snowflake_df = spark.read \\\n",
    "        .format(\"net.snowflake.spark.snowflake\") \\\n",
    "        .options(**sf_options) \\\n",
    "        .option(\"query\", \"SELECT * FROM Loan_DB.Loan_Schema.FACT_LOANAPPLICATION\") \\\n",
    "        .load()\n",
    " \n",
    "    snowflake_df.show()\n",
    " \"\"\"\n",
    "except Exception as e:\n",
    "    print(\"Error occurred:\", str(e))\n",
    " \n",
    "#finally:\n",
    "    #spark.stop()"
   ]
  },
  {
   "cell_type": "code",
   "execution_count": null,
   "id": "84dbbb33-eff6-40d2-abe4-a1c77882750a",
   "metadata": {},
   "outputs": [],
   "source": []
  }
 ],
 "metadata": {
  "kernelspec": {
   "display_name": "Python 3 (ipykernel)",
   "language": "python",
   "name": "python3"
  },
  "language_info": {
   "codemirror_mode": {
    "name": "ipython",
    "version": 3
   },
   "file_extension": ".py",
   "mimetype": "text/x-python",
   "name": "python",
   "nbconvert_exporter": "python",
   "pygments_lexer": "ipython3",
   "version": "3.11.6"
  }
 },
 "nbformat": 4,
 "nbformat_minor": 5
}
