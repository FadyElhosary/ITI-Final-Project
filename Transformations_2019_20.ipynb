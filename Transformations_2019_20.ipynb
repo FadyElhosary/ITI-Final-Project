{
 "cells": [
  {
   "cell_type": "code",
   "execution_count": 1,
   "metadata": {
    "colab": {
     "base_uri": "https://localhost:8080/"
    },
    "id": "h69sZz-BS_cr",
    "outputId": "f02b28f9-fe42-4884-d6aa-e9805d6629d8"
   },
   "outputs": [
    {
     "name": "stdout",
     "output_type": "stream",
     "text": [
      "<pyspark.sql.session.SparkSession object at 0x7f0282697c50>\n"
     ]
    }
   ],
   "source": [
    "from pyspark.sql import SparkSession\n",
    "\n",
    "# Create a Spark session\n",
    "spark = SparkSession.builder \\\n",
    "    .appName(\"LoanDataProcessing\") \\\n",
    "    .config(\"spark.some.config.option\", \"some-value\") \\\n",
    "    .getOrCreate()\n",
    "\n",
    "# Verify the session\n",
    "print(spark)"
   ]
  },
  {
   "cell_type": "code",
   "execution_count": 2,
   "metadata": {
    "colab": {
     "base_uri": "https://localhost:8080/"
    },
    "id": "H3X1GFKeTxDH",
    "outputId": "ad39a8ea-f9f0-4638-c7f3-be55507c7e52"
   },
   "outputs": [
    {
     "name": "stdout",
     "output_type": "stream",
     "text": [
      "+----------+---------+---------+-----------+---------------+----------+--------+-----------+-----+---------+--------------------+----------+--------------+----------+-------------------+----------+-----------+----------+--------------------+------------------+--------------------+--------+----------+-----+-----------+----------------+--------------+---------------+--------------+----------------------+----------------------+--------+-------+---------+----------+---------+-------------------+---------+-------------+-----------+---------------+---------------+-------------+------------------+----------+-----------------------+------------+---------------+------------+------------------+--------------------+-------------------+--------------------------+---------------------------+-----------+----------------+----------------+---------+-------------------------+--------------+------------+-----------+-----------+-----------+-----------+-----------+------------------+------------+-------+-----------+-----------+----------+--------+----------------+------+-----------+------------+--------------------+-----------+--------------+-------+------------------------+-----------+------------------+--------------------+---------------------+--------------+--------+--------------------+------------------------+---------------------+------------------------------+---------------------+--------------+---------------+-----------+---------+---------+-------------+-------------+-------------------+--------+----------------+------------+------------------+------------------+--------------+----------------+--------------------+---------+---------------+-----------------+--------------+--------------------------+---------------+----------------------+-----------------------+------------------------+----------------------+----------------+----------------+------------------+-------------------+---------------------+--------------------------------+----------------------------------+-------------+-------------+---------------+---------------+-------------+---------------+-------------------+-----------------+-----------------------+---------------+------------+--------------------+------------------------------------------+------------------------------+----------------------------+--------------------+\n",
      "|Unnamed: 0|       id|loan_amnt|funded_amnt|funded_amnt_inv|      term|int_rate|installment|grade|sub_grade|           emp_title|emp_length|home_ownership|annual_inc|verification_status|   issue_d|loan_status|pymnt_plan|                 url|           purpose|               title|zip_code|addr_state|  dti|delinq_2yrs|earliest_cr_line|fico_range_low|fico_range_high|inq_last_6mths|mths_since_last_delinq|mths_since_last_record|open_acc|pub_rec|revol_bal|revol_util|total_acc|initial_list_status|out_prncp|out_prncp_inv|total_pymnt|total_pymnt_inv|total_rec_prncp|total_rec_int|total_rec_late_fee|recoveries|collection_recovery_fee|last_pymnt_d|last_pymnt_amnt|next_pymnt_d|last_credit_pull_d|last_fico_range_high|last_fico_range_low|collections_12_mths_ex_med|mths_since_last_major_derog|policy_code|application_type|annual_inc_joint|dti_joint|verification_status_joint|acc_now_delinq|tot_coll_amt|tot_cur_bal|open_acc_6m|open_act_il|open_il_12m|open_il_24m|mths_since_rcnt_il|total_bal_il|il_util|open_rv_12m|open_rv_24m|max_bal_bc|all_util|total_rev_hi_lim|inq_fi|total_cu_tl|inq_last_12m|acc_open_past_24mths|avg_cur_bal|bc_open_to_buy|bc_util|chargeoff_within_12_mths|delinq_amnt|mo_sin_old_il_acct|mo_sin_old_rev_tl_op|mo_sin_rcnt_rev_tl_op|mo_sin_rcnt_tl|mort_acc|mths_since_recent_bc|mths_since_recent_bc_dlq|mths_since_recent_inq|mths_since_recent_revol_delinq|num_accts_ever_120_pd|num_actv_bc_tl|num_actv_rev_tl|num_bc_sats|num_bc_tl|num_il_tl|num_op_rev_tl|num_rev_accts|num_rev_tl_bal_gt_0|num_sats|num_tl_120dpd_2m|num_tl_30dpd|num_tl_90g_dpd_24m|num_tl_op_past_12m|pct_tl_nvr_dlq|percent_bc_gt_75|pub_rec_bankruptcies|tax_liens|tot_hi_cred_lim|total_bal_ex_mort|total_bc_limit|total_il_high_credit_limit|revol_bal_joint|sec_app_fico_range_low|sec_app_fico_range_high|sec_app_earliest_cr_line|sec_app_inq_last_6mths|sec_app_mort_acc|sec_app_open_acc|sec_app_revol_util|sec_app_open_act_il|sec_app_num_rev_accts|sec_app_chargeoff_within_12_mths|sec_app_collections_12_mths_ex_med|hardship_flag|hardship_type|hardship_reason|hardship_status|deferral_term|hardship_amount|hardship_start_date|hardship_end_date|payment_plan_start_date|hardship_length|hardship_dpd|hardship_loan_status|orig_projected_additional_accrued_interest|hardship_payoff_balance_amount|hardship_last_payment_amount|debt_settlement_flag|\n",
      "+----------+---------+---------+-----------+---------------+----------+--------+-----------+-----+---------+--------------------+----------+--------------+----------+-------------------+----------+-----------+----------+--------------------+------------------+--------------------+--------+----------+-----+-----------+----------------+--------------+---------------+--------------+----------------------+----------------------+--------+-------+---------+----------+---------+-------------------+---------+-------------+-----------+---------------+---------------+-------------+------------------+----------+-----------------------+------------+---------------+------------+------------------+--------------------+-------------------+--------------------------+---------------------------+-----------+----------------+----------------+---------+-------------------------+--------------+------------+-----------+-----------+-----------+-----------+-----------+------------------+------------+-------+-----------+-----------+----------+--------+----------------+------+-----------+------------+--------------------+-----------+--------------+-------+------------------------+-----------+------------------+--------------------+---------------------+--------------+--------+--------------------+------------------------+---------------------+------------------------------+---------------------+--------------+---------------+-----------+---------+---------+-------------+-------------+-------------------+--------+----------------+------------+------------------+------------------+--------------+----------------+--------------------+---------+---------------+-----------------+--------------+--------------------------+---------------+----------------------+-----------------------+------------------------+----------------------+----------------+----------------+------------------+-------------------+---------------------+--------------------------------+----------------------------------+-------------+-------------+---------------+---------------+-------------+---------------+-------------------+-----------------+-----------------------+---------------+------------+--------------------+------------------------------------------+------------------------------+----------------------------+--------------------+\n",
      "|         0|149203043|  24000.0|    24000.0|        24000.0| 60 months|  13.90%|      557.2|    C|       C1|      Budget analyst| 10+ years|      MORTGAGE|   86000.0|           Verified|2019-03-01|    Current|         n|https://lendingcl...|    major_purchase|      Major purchase|   360xx|        AL|23.54|        1.0|        Jan-2000|         665.0|          669.0|           1.0|                  18.0|                  NULL|    15.0|    0.0|  10899.0|     73.1%|     28.0|                  w| 20427.69|     20427.69|    6649.33|        6649.33|        3572.31|      3077.02|               0.0|       0.0|                    0.0|    May-2020|            0.0|    Jul-2020|          May-2020|               659.0|              655.0|                       0.0|                       NULL|        1.0|      Individual|            NULL|     NULL|                     NULL|           0.0|         0.0|   234833.0|        0.0|        4.0|        2.0|        4.0|              11.0|     62839.0|   73.0|        2.0|        3.0|    2784.0|    73.0|         14900.0|   6.0|        6.0|         7.0|                 8.0|    15656.0|        3112.0|   70.1|                     0.0|        0.0|             134.0|               230.0|                 11.0|          10.0|     3.0|                11.0|                    NULL|                  5.0|                          NULL|                  0.0|           5.0|            9.0|        6.0|      7.0|     14.0|         10.0|         11.0|                9.0|    15.0|             0.0|         0.0|               0.0|               5.0|          92.9|            66.7|                 0.0|      0.0|       255961.0|          73738.0|       10400.0|                   77261.0|           NULL|                  NULL|                   NULL|                    NULL|                  NULL|            NULL|            NULL|              NULL|               NULL|                 NULL|                            NULL|                              NULL|            Y|    CVD19SKIP|     INCOMECURT|         ACTIVE|          2.0|            0.0|           Apr-2020|         Jun-2020|               Apr-2020|            2.0|         0.0|              ACTIVE|                                    473.24|                      20656.42|                       557.2|                   N|\n",
      "|         1|149354242|  18500.0|    18500.0|        18500.0| 60 months|  14.74%|      437.6|    C|       C2|                NULL|      NULL|      MORTGAGE|   43000.0|           Verified|2019-03-01|    Current|         n|https://lendingcl...|debt_consolidation|  Debt consolidation|   305xx|        GA|19.73|        0.0|        Apr-1996|         730.0|          734.0|           1.0|                  NULL|                  NULL|     7.0|    0.0|   5417.0|       24%|     27.0|                  w| 15615.82|     15615.82|     5658.5|         5658.5|        2884.18|      2774.32|               0.0|       0.0|                    0.0|    May-2020|          437.6|    Jun-2020|          May-2020|               789.0|              785.0|                       0.0|                       NULL|        1.0|      Individual|            NULL|     NULL|                     NULL|           0.0|         0.0|    22602.0|        1.0|        3.0|        1.0|        2.0|               6.0|     17185.0|   77.0|        1.0|        2.0|     499.0|    51.0|         22600.0|   0.0|       11.0|         1.0|                 4.0|     3229.0|       11501.0|    4.2|                     0.0|        0.0|             275.0|                75.0|                  7.0|           6.0|     0.0|                 7.0|                    NULL|                  4.0|                          NULL|                  0.0|           1.0|            2.0|        2.0|      3.0|     20.0|          4.0|          7.0|                2.0|     7.0|             0.0|         0.0|               0.0|               2.0|         100.0|             0.0|                 0.0|      0.0|        44790.0|          22602.0|       12000.0|                   22190.0|           NULL|                  NULL|                   NULL|                    NULL|                  NULL|            NULL|            NULL|              NULL|               NULL|                 NULL|                            NULL|                              NULL|            N|         NULL|           NULL|           NULL|         NULL|           NULL|               NULL|             NULL|                   NULL|           NULL|        NULL|                NULL|                                      NULL|                          NULL|                        NULL|                   N|\n",
      "|         2|149355875|  24000.0|    24000.0|        24000.0| 36 months|   8.19%|     754.18|    A|       A4|               Pilot| 10+ years|      MORTGAGE|  329991.0|       Not Verified|2019-03-01|    Current|         n|https://lendingcl...|debt_consolidation|  Debt consolidation|   309xx|        GA| 20.7|        0.0|        Jul-1995|         685.0|          689.0|           0.0|                  NULL|                  NULL|    21.0|    0.0|  45747.0|       80%|     39.0|                  w| 15357.81|     15357.81|   10536.68|       10536.68|        8642.19|      1894.49|               0.0|       0.0|                    0.0|    May-2020|         754.18|    Jun-2020|          May-2020|               739.0|              735.0|                       0.0|                       NULL|        1.0|      Individual|            NULL|     NULL|                     NULL|           0.0|         0.0|   486641.0|        0.0|       11.0|        2.0|        7.0|               9.0|     93397.0|   50.0|        0.0|        1.0|    6922.0|    57.0|         58500.0|   5.0|        5.0|         2.0|                 8.0|    23173.0|       12354.0|   59.4|                     0.0|        0.0|             106.0|               284.0|                 22.0|           9.0|     3.0|                22.0|                    NULL|                  9.0|                          NULL|                  0.0|           5.0|            7.0|        7.0|      7.0|     23.0|          9.0|         13.0|                7.0|    21.0|             0.0|         0.0|               0.0|               2.0|         100.0|            28.6|                 0.0|      0.0|       611066.0|         139144.0|       28500.0|                  187566.0|           NULL|                  NULL|                   NULL|                    NULL|                  NULL|            NULL|            NULL|              NULL|               NULL|                 NULL|                            NULL|                              NULL|            N|         NULL|           NULL|           NULL|         NULL|           NULL|               NULL|             NULL|                   NULL|           NULL|        NULL|                NULL|                                      NULL|                          NULL|                        NULL|                   N|\n",
      "|         3|149437986|   2800.0|     2800.0|         2775.0| 36 months|   8.19%|      87.99|    A|       A4|Brand and Content...|   2 years|          RENT|   48500.0|       Not Verified|2019-03-01|    Current|         n|https://lendingcl...|       credit_card|Credit card refin...|   701xx|        LA| 3.07|        1.0|        Sep-2006|         685.0|          689.0|           0.0|                  11.0|                  NULL|     3.0|    0.0|   5289.0|     18.3%|      4.0|                  f|  1791.71|      1775.71|    1229.31|        1218.33|        1008.29|       221.02|               0.0|       0.0|                    0.0|    May-2020|          87.99|    Jun-2020|          May-2020|               694.0|              690.0|                       0.0|                       NULL|        1.0|      Individual|            NULL|     NULL|                     NULL|           0.0|         0.0|     5289.0|        0.0|        0.0|        0.0|        0.0|              49.0|         0.0|   NULL|        0.0|        0.0|    2696.0|    18.0|         28900.0|   0.0|        0.0|         0.0|                 0.0|     1763.0|       23611.0|   18.3|                     0.0|        0.0|              49.0|               150.0|                 73.0|          49.0|     0.0|                73.0|                    11.0|                 NULL|                          11.0|                  0.0|           2.0|            2.0|        3.0|      3.0|      1.0|          3.0|          3.0|                2.0|     3.0|             0.0|         0.0|               0.0|               0.0|          75.0|             0.0|                 0.0|      0.0|        28900.0|           5289.0|       28900.0|                       0.0|           NULL|                  NULL|                   NULL|                    NULL|                  NULL|            NULL|            NULL|              NULL|               NULL|                 NULL|                            NULL|                              NULL|            N|         NULL|           NULL|           NULL|         NULL|           NULL|               NULL|             NULL|                   NULL|           NULL|        NULL|                NULL|                                      NULL|                          NULL|                        NULL|                   N|\n",
      "|         4|149511512|   8800.0|     8800.0|         8800.0| 36 months|  20.00%|     327.04|    D|       D2|          CARE GIVER|   3 years|          RENT|   24000.0|       Not Verified|2019-03-01|    Current|         n|https://lendingcl...|debt_consolidation|  Debt consolidation|   904xx|        CA| 9.45|        0.0|        Oct-2014|         670.0|          674.0|           1.0|                  NULL|                  NULL|     6.0|    0.0|   5493.0|     47.4%|      7.0|                  w|  5982.11|      5982.11|     4559.0|         4559.0|        2817.89|      1741.11|               0.0|       0.0|                    0.0|    May-2020|         327.04|    Jun-2020|          May-2020|               684.0|              680.0|                       0.0|                       NULL|        1.0|      Individual|            NULL|     NULL|                     NULL|           0.0|         0.0|     5493.0|        2.0|        0.0|        0.0|        0.0|              NULL|         0.0|   NULL|        2.0|        6.0|    3250.0|    47.0|         11600.0|   0.0|        0.0|         1.0|                 6.0|      916.0|        4162.0|   53.8|                     0.0|        0.0|              NULL|                53.0|                  0.0|           0.0|     0.0|                 4.0|                    NULL|                  0.0|                          NULL|                  0.0|           3.0|            4.0|        3.0|      3.0|      0.0|          6.0|          7.0|                4.0|     6.0|             0.0|         0.0|               0.0|               2.0|         100.0|            33.3|                 0.0|      0.0|        11600.0|           5493.0|        9000.0|                       0.0|           NULL|                  NULL|                   NULL|                    NULL|                  NULL|            NULL|            NULL|              NULL|               NULL|                 NULL|                            NULL|                              NULL|            N|         NULL|           NULL|           NULL|         NULL|           NULL|               NULL|             NULL|                   NULL|           NULL|        NULL|                NULL|                                      NULL|                          NULL|                        NULL|                   N|\n",
      "+----------+---------+---------+-----------+---------------+----------+--------+-----------+-----+---------+--------------------+----------+--------------+----------+-------------------+----------+-----------+----------+--------------------+------------------+--------------------+--------+----------+-----+-----------+----------------+--------------+---------------+--------------+----------------------+----------------------+--------+-------+---------+----------+---------+-------------------+---------+-------------+-----------+---------------+---------------+-------------+------------------+----------+-----------------------+------------+---------------+------------+------------------+--------------------+-------------------+--------------------------+---------------------------+-----------+----------------+----------------+---------+-------------------------+--------------+------------+-----------+-----------+-----------+-----------+-----------+------------------+------------+-------+-----------+-----------+----------+--------+----------------+------+-----------+------------+--------------------+-----------+--------------+-------+------------------------+-----------+------------------+--------------------+---------------------+--------------+--------+--------------------+------------------------+---------------------+------------------------------+---------------------+--------------+---------------+-----------+---------+---------+-------------+-------------+-------------------+--------+----------------+------------+------------------+------------------+--------------+----------------+--------------------+---------+---------------+-----------------+--------------+--------------------------+---------------+----------------------+-----------------------+------------------------+----------------------+----------------+----------------+------------------+-------------------+---------------------+--------------------------------+----------------------------------+-------------+-------------+---------------+---------------+-------------+---------------+-------------------+-----------------+-----------------------+---------------+------------+--------------------+------------------------------------------+------------------------------+----------------------------+--------------------+\n",
      "only showing top 5 rows\n",
      "\n"
     ]
    }
   ],
   "source": [
    "from pyspark.sql import SparkSession\n",
    "\n",
    "\n",
    "df = spark.read.csv(\"loan_2019_20.csv\", header=True, inferSchema=True)\n",
    "\n",
    "df.show(5)\n"
   ]
  },
  {
   "cell_type": "code",
   "execution_count": 3,
   "metadata": {
    "colab": {
     "base_uri": "https://localhost:8080/"
    },
    "id": "YgvqYiYVUFoS",
    "outputId": "d868233b-b6dc-4925-f07d-5ac7ca501b58"
   },
   "outputs": [
    {
     "data": {
      "text/plain": [
       "DataFrame[emp_title: string]"
      ]
     },
     "execution_count": 3,
     "metadata": {},
     "output_type": "execute_result"
    }
   ],
   "source": [
    "from pyspark.sql import SparkSession\n",
    "from pyspark.sql.functions import col\n",
    "\n",
    "\n",
    "\n",
    "df = df.fillna({\"emp_title\": \"self_employed\"})\n",
    "\n",
    "df.select(\"emp_title\")\n"
   ]
  },
  {
   "cell_type": "code",
   "execution_count": 6,
   "metadata": {},
   "outputs": [
    {
     "data": {
      "text/plain": [
       "['Unnamed: 0',\n",
       " 'id',\n",
       " 'loan_amnt',\n",
       " 'funded_amnt',\n",
       " 'funded_amnt_inv',\n",
       " 'term',\n",
       " 'int_rate',\n",
       " 'installment',\n",
       " 'grade',\n",
       " 'sub_grade',\n",
       " 'emp_title',\n",
       " 'emp_length',\n",
       " 'home_ownership',\n",
       " 'annual_inc',\n",
       " 'verification_status',\n",
       " 'issue_d',\n",
       " 'loan_status',\n",
       " 'pymnt_plan',\n",
       " 'url',\n",
       " 'purpose',\n",
       " 'title',\n",
       " 'zip_code',\n",
       " 'addr_state',\n",
       " 'dti',\n",
       " 'delinq_2yrs',\n",
       " 'earliest_cr_line',\n",
       " 'fico_range_low',\n",
       " 'fico_range_high',\n",
       " 'inq_last_6mths',\n",
       " 'mths_since_last_delinq',\n",
       " 'mths_since_last_record',\n",
       " 'open_acc',\n",
       " 'pub_rec',\n",
       " 'revol_bal',\n",
       " 'revol_util',\n",
       " 'total_acc',\n",
       " 'initial_list_status',\n",
       " 'out_prncp',\n",
       " 'out_prncp_inv',\n",
       " 'total_pymnt',\n",
       " 'total_pymnt_inv',\n",
       " 'total_rec_prncp',\n",
       " 'total_rec_int',\n",
       " 'total_rec_late_fee',\n",
       " 'recoveries',\n",
       " 'collection_recovery_fee',\n",
       " 'last_pymnt_d',\n",
       " 'last_pymnt_amnt',\n",
       " 'next_pymnt_d',\n",
       " 'last_credit_pull_d',\n",
       " 'last_fico_range_high',\n",
       " 'last_fico_range_low',\n",
       " 'collections_12_mths_ex_med',\n",
       " 'mths_since_last_major_derog',\n",
       " 'policy_code',\n",
       " 'application_type',\n",
       " 'annual_inc_joint',\n",
       " 'dti_joint',\n",
       " 'verification_status_joint',\n",
       " 'acc_now_delinq',\n",
       " 'tot_coll_amt',\n",
       " 'tot_cur_bal',\n",
       " 'open_acc_6m',\n",
       " 'open_act_il',\n",
       " 'open_il_12m',\n",
       " 'open_il_24m',\n",
       " 'mths_since_rcnt_il',\n",
       " 'total_bal_il',\n",
       " 'il_util',\n",
       " 'open_rv_12m',\n",
       " 'open_rv_24m',\n",
       " 'max_bal_bc',\n",
       " 'all_util',\n",
       " 'total_rev_hi_lim',\n",
       " 'inq_fi',\n",
       " 'total_cu_tl',\n",
       " 'inq_last_12m',\n",
       " 'acc_open_past_24mths',\n",
       " 'avg_cur_bal',\n",
       " 'bc_open_to_buy',\n",
       " 'bc_util',\n",
       " 'chargeoff_within_12_mths',\n",
       " 'delinq_amnt',\n",
       " 'mo_sin_old_il_acct',\n",
       " 'mo_sin_old_rev_tl_op',\n",
       " 'mo_sin_rcnt_rev_tl_op',\n",
       " 'mo_sin_rcnt_tl',\n",
       " 'mort_acc',\n",
       " 'mths_since_recent_bc',\n",
       " 'mths_since_recent_bc_dlq',\n",
       " 'mths_since_recent_inq',\n",
       " 'mths_since_recent_revol_delinq',\n",
       " 'num_accts_ever_120_pd',\n",
       " 'num_actv_bc_tl',\n",
       " 'num_actv_rev_tl',\n",
       " 'num_bc_sats',\n",
       " 'num_bc_tl',\n",
       " 'num_il_tl',\n",
       " 'num_op_rev_tl',\n",
       " 'num_rev_accts',\n",
       " 'num_rev_tl_bal_gt_0',\n",
       " 'num_sats',\n",
       " 'num_tl_120dpd_2m',\n",
       " 'num_tl_30dpd',\n",
       " 'num_tl_90g_dpd_24m',\n",
       " 'num_tl_op_past_12m',\n",
       " 'pct_tl_nvr_dlq',\n",
       " 'percent_bc_gt_75',\n",
       " 'pub_rec_bankruptcies',\n",
       " 'tax_liens',\n",
       " 'tot_hi_cred_lim',\n",
       " 'total_bal_ex_mort',\n",
       " 'total_bc_limit',\n",
       " 'total_il_high_credit_limit',\n",
       " 'revol_bal_joint',\n",
       " 'sec_app_fico_range_low',\n",
       " 'sec_app_fico_range_high',\n",
       " 'sec_app_earliest_cr_line',\n",
       " 'sec_app_inq_last_6mths',\n",
       " 'sec_app_mort_acc',\n",
       " 'sec_app_open_acc',\n",
       " 'sec_app_revol_util',\n",
       " 'sec_app_open_act_il',\n",
       " 'sec_app_num_rev_accts',\n",
       " 'sec_app_chargeoff_within_12_mths',\n",
       " 'sec_app_collections_12_mths_ex_med',\n",
       " 'hardship_flag',\n",
       " 'hardship_type',\n",
       " 'hardship_reason',\n",
       " 'hardship_status',\n",
       " 'deferral_term',\n",
       " 'hardship_amount',\n",
       " 'hardship_start_date',\n",
       " 'hardship_end_date',\n",
       " 'payment_plan_start_date',\n",
       " 'hardship_length',\n",
       " 'hardship_dpd',\n",
       " 'hardship_loan_status',\n",
       " 'orig_projected_additional_accrued_interest',\n",
       " 'hardship_payoff_balance_amount',\n",
       " 'hardship_last_payment_amount',\n",
       " 'debt_settlement_flag']"
      ]
     },
     "execution_count": 6,
     "metadata": {},
     "output_type": "execute_result"
    }
   ],
   "source": [
    "df.columns"
   ]
  },
  {
   "cell_type": "code",
   "execution_count": 10,
   "metadata": {
    "colab": {
     "base_uri": "https://localhost:8080/"
    },
    "id": "XFuFdn7BUnJ8",
    "outputId": "fcc2b203-338f-43e8-e1fb-dc0c759c6f9b"
   },
   "outputs": [],
   "source": [
    "\n",
    "\n",
    "selected_columns = ['Unnamed: 0',\n",
    " 'id',\n",
    " 'loan_amnt',\n",
    " 'funded_amnt',\n",
    " 'funded_amnt_inv',\n",
    " 'term',\n",
    " 'int_rate',\n",
    " 'installment',\n",
    " 'grade',\n",
    " 'sub_grade',\n",
    " 'emp_title',\n",
    " 'emp_length',\n",
    " 'home_ownership',\n",
    " 'annual_inc',\n",
    " 'verification_status',\n",
    " 'issue_d',\n",
    " 'loan_status',\n",
    " 'pymnt_plan',\n",
    " 'url',\n",
    " 'purpose',\n",
    " 'title',\n",
    " 'zip_code',\n",
    " 'addr_state','dti','delinq_2yrs', 'earliest_cr_line','fico_range_low', 'fico_range_high','inq_last_6mths',\n",
    " 'mths_since_last_delinq', 'mths_since_last_record', 'open_acc','pub_rec',\n",
    " 'revol_bal','revol_util',\n",
    " 'total_acc',\n",
    " 'initial_list_status',\n",
    " 'out_prncp',\n",
    " 'out_prncp_inv',\n",
    " 'total_pymnt','total_pymnt_inv', 'total_rec_prncp', 'total_rec_int','total_rec_late_fee', 'recoveries',\n",
    " 'collection_recovery_fee',\n",
    " 'last_pymnt_d',\n",
    " 'last_pymnt_amnt',\n",
    " 'next_pymnt_d',\n",
    " 'last_credit_pull_d',\n",
    " 'last_fico_range_high',\n",
    " 'last_fico_range_low',\n",
    " 'collections_12_mths_ex_med',\n",
    " 'mths_since_last_major_derog',\n",
    " 'policy_code',\n",
    " 'application_type',\n",
    " 'annual_inc_joint',\n",
    " 'dti_joint',\n",
    " 'verification_status_joint',\n",
    " 'acc_now_delinq',\n",
    " 'tot_coll_amt',\n",
    " 'tot_cur_bal',\n",
    " 'open_acc_6m',\n",
    " 'open_act_il',\n",
    " 'open_il_12m',\n",
    " 'open_il_24m',\n",
    " 'mths_since_rcnt_il',\n",
    " 'total_bal_il',\n",
    " 'il_util',\n",
    " 'open_rv_12m',\n",
    " 'open_rv_24m',\n",
    " 'max_bal_bc',\n",
    " 'all_util',\n",
    " 'total_rev_hi_lim',\n",
    " 'inq_fi',\n",
    " 'total_cu_tl',\n",
    " 'inq_last_12m',\n",
    " 'acc_open_past_24mths',\n",
    " 'avg_cur_bal',\n",
    " 'bc_open_to_buy',\n",
    " 'bc_util',\n",
    " 'chargeoff_within_12_mths',\n",
    " 'delinq_amnt',\n",
    " 'mo_sin_old_il_acct',\n",
    " 'mo_sin_old_rev_tl_op',\n",
    " 'mo_sin_rcnt_rev_tl_op',\n",
    " 'mo_sin_rcnt_tl',\n",
    " 'mort_acc',\n",
    " 'mths_since_recent_bc',\n",
    " 'mths_since_recent_bc_dlq',\n",
    " 'mths_since_recent_inq',\n",
    " 'mths_since_recent_revol_delinq',\n",
    " 'num_accts_ever_120_pd',\n",
    " 'num_actv_bc_tl',\n",
    " 'num_actv_rev_tl',\n",
    " 'num_bc_sats',\n",
    " 'num_bc_tl',\n",
    " 'num_il_tl',\n",
    " 'num_op_rev_tl',\n",
    " 'num_rev_accts',\n",
    " 'num_rev_tl_bal_gt_0',\n",
    " 'num_sats',\n",
    " 'num_tl_120dpd_2m',\n",
    " 'num_tl_30dpd',\n",
    " 'num_tl_90g_dpd_24m',\n",
    " 'num_tl_op_past_12m',\n",
    " 'pct_tl_nvr_dlq',\n",
    " 'percent_bc_gt_75',\n",
    " 'pub_rec_bankruptcies',\n",
    " 'tax_liens',\n",
    " 'tot_hi_cred_lim',\n",
    " 'total_bal_ex_mort',\n",
    " 'total_bc_limit',\n",
    " 'total_il_high_credit_limit',\n",
    " 'revol_bal_joint',\n",
    " 'sec_app_fico_range_low',\n",
    " 'sec_app_fico_range_high',\n",
    " 'sec_app_earliest_cr_line',\n",
    " 'sec_app_inq_last_6mths',\n",
    " 'sec_app_mort_acc',\n",
    " 'sec_app_open_acc',\n",
    " 'sec_app_revol_util',\n",
    " 'sec_app_open_act_il',\n",
    " 'sec_app_num_rev_accts',\n",
    " 'sec_app_chargeoff_within_12_mths',\n",
    " 'sec_app_collections_12_mths_ex_med',\n",
    " 'hardship_flag',\n",
    " 'hardship_type',\n",
    " 'hardship_reason',\n",
    " 'hardship_status',\n",
    " 'deferral_term',\n",
    " 'hardship_amount',\n",
    " 'hardship_start_date',\n",
    " 'hardship_end_date',\n",
    " 'payment_plan_start_date',\n",
    " 'hardship_length',\n",
    " 'hardship_dpd',\n",
    " 'hardship_loan_status',\n",
    " 'orig_projected_additional_accrued_interest',\n",
    " 'hardship_payoff_balance_amount',\n",
    " 'hardship_last_payment_amount',\n",
    " 'debt_settlement_flag']\n",
    "\n",
    "\n",
    "df_selected = df.select(selected_columns)\n",
    "\n",
    "\n",
    "\n"
   ]
  },
  {
   "cell_type": "code",
   "execution_count": 15,
   "metadata": {},
   "outputs": [],
   "source": [
    "df_selected = df_selected.drop('Unnamed: 0')"
   ]
  },
  {
   "cell_type": "code",
   "execution_count": 16,
   "metadata": {},
   "outputs": [
    {
     "name": "stdout",
     "output_type": "stream",
     "text": [
      "root\n",
      " |-- id: integer (nullable = true)\n",
      " |-- loan_amnt: double (nullable = true)\n",
      " |-- funded_amnt: double (nullable = true)\n",
      " |-- funded_amnt_inv: double (nullable = true)\n",
      " |-- term: string (nullable = true)\n",
      " |-- int_rate: string (nullable = true)\n",
      " |-- installment: double (nullable = true)\n",
      " |-- grade: string (nullable = true)\n",
      " |-- sub_grade: string (nullable = true)\n",
      " |-- emp_title: string (nullable = false)\n",
      " |-- emp_length: string (nullable = true)\n",
      " |-- home_ownership: string (nullable = true)\n",
      " |-- annual_inc: double (nullable = true)\n",
      " |-- verification_status: string (nullable = true)\n",
      " |-- issue_d: date (nullable = true)\n",
      " |-- loan_status: string (nullable = true)\n",
      " |-- pymnt_plan: string (nullable = true)\n",
      " |-- url: string (nullable = true)\n",
      " |-- purpose: string (nullable = true)\n",
      " |-- title: string (nullable = true)\n",
      " |-- zip_code: string (nullable = true)\n",
      " |-- addr_state: string (nullable = true)\n",
      " |-- dti: double (nullable = true)\n",
      " |-- delinq_2yrs: double (nullable = true)\n",
      " |-- earliest_cr_line: string (nullable = true)\n",
      " |-- fico_range_low: double (nullable = true)\n",
      " |-- fico_range_high: double (nullable = true)\n",
      " |-- inq_last_6mths: double (nullable = true)\n",
      " |-- mths_since_last_delinq: double (nullable = true)\n",
      " |-- mths_since_last_record: double (nullable = true)\n",
      " |-- open_acc: double (nullable = true)\n",
      " |-- pub_rec: double (nullable = true)\n",
      " |-- revol_bal: double (nullable = true)\n",
      " |-- revol_util: string (nullable = true)\n",
      " |-- total_acc: double (nullable = true)\n",
      " |-- initial_list_status: string (nullable = true)\n",
      " |-- out_prncp: double (nullable = true)\n",
      " |-- out_prncp_inv: double (nullable = true)\n",
      " |-- total_pymnt: double (nullable = true)\n",
      " |-- total_pymnt_inv: double (nullable = true)\n",
      " |-- total_rec_prncp: double (nullable = true)\n",
      " |-- total_rec_int: double (nullable = true)\n",
      " |-- total_rec_late_fee: double (nullable = true)\n",
      " |-- recoveries: double (nullable = true)\n",
      " |-- collection_recovery_fee: double (nullable = true)\n",
      " |-- last_pymnt_d: string (nullable = true)\n",
      " |-- last_pymnt_amnt: double (nullable = true)\n",
      " |-- next_pymnt_d: string (nullable = true)\n",
      " |-- last_credit_pull_d: string (nullable = true)\n",
      " |-- last_fico_range_high: double (nullable = true)\n",
      " |-- last_fico_range_low: double (nullable = true)\n",
      " |-- collections_12_mths_ex_med: double (nullable = true)\n",
      " |-- mths_since_last_major_derog: double (nullable = true)\n",
      " |-- policy_code: double (nullable = true)\n",
      " |-- application_type: string (nullable = true)\n",
      " |-- annual_inc_joint: double (nullable = true)\n",
      " |-- dti_joint: double (nullable = true)\n",
      " |-- verification_status_joint: string (nullable = true)\n",
      " |-- acc_now_delinq: double (nullable = true)\n",
      " |-- tot_coll_amt: double (nullable = true)\n",
      " |-- tot_cur_bal: double (nullable = true)\n",
      " |-- open_acc_6m: double (nullable = true)\n",
      " |-- open_act_il: double (nullable = true)\n",
      " |-- open_il_12m: double (nullable = true)\n",
      " |-- open_il_24m: double (nullable = true)\n",
      " |-- mths_since_rcnt_il: double (nullable = true)\n",
      " |-- total_bal_il: double (nullable = true)\n",
      " |-- il_util: double (nullable = true)\n",
      " |-- open_rv_12m: double (nullable = true)\n",
      " |-- open_rv_24m: double (nullable = true)\n",
      " |-- max_bal_bc: double (nullable = true)\n",
      " |-- all_util: double (nullable = true)\n",
      " |-- total_rev_hi_lim: double (nullable = true)\n",
      " |-- inq_fi: double (nullable = true)\n",
      " |-- total_cu_tl: double (nullable = true)\n",
      " |-- inq_last_12m: double (nullable = true)\n",
      " |-- acc_open_past_24mths: double (nullable = true)\n",
      " |-- avg_cur_bal: double (nullable = true)\n",
      " |-- bc_open_to_buy: double (nullable = true)\n",
      " |-- bc_util: double (nullable = true)\n",
      " |-- chargeoff_within_12_mths: double (nullable = true)\n",
      " |-- delinq_amnt: double (nullable = true)\n",
      " |-- mo_sin_old_il_acct: double (nullable = true)\n",
      " |-- mo_sin_old_rev_tl_op: double (nullable = true)\n",
      " |-- mo_sin_rcnt_rev_tl_op: double (nullable = true)\n",
      " |-- mo_sin_rcnt_tl: double (nullable = true)\n",
      " |-- mort_acc: double (nullable = true)\n",
      " |-- mths_since_recent_bc: double (nullable = true)\n",
      " |-- mths_since_recent_bc_dlq: double (nullable = true)\n",
      " |-- mths_since_recent_inq: double (nullable = true)\n",
      " |-- mths_since_recent_revol_delinq: double (nullable = true)\n",
      " |-- num_accts_ever_120_pd: double (nullable = true)\n",
      " |-- num_actv_bc_tl: double (nullable = true)\n",
      " |-- num_actv_rev_tl: double (nullable = true)\n",
      " |-- num_bc_sats: double (nullable = true)\n",
      " |-- num_bc_tl: double (nullable = true)\n",
      " |-- num_il_tl: double (nullable = true)\n",
      " |-- num_op_rev_tl: double (nullable = true)\n",
      " |-- num_rev_accts: double (nullable = true)\n",
      " |-- num_rev_tl_bal_gt_0: double (nullable = true)\n",
      " |-- num_sats: double (nullable = true)\n",
      " |-- num_tl_120dpd_2m: double (nullable = true)\n",
      " |-- num_tl_30dpd: double (nullable = true)\n",
      " |-- num_tl_90g_dpd_24m: double (nullable = true)\n",
      " |-- num_tl_op_past_12m: double (nullable = true)\n",
      " |-- pct_tl_nvr_dlq: double (nullable = true)\n",
      " |-- percent_bc_gt_75: double (nullable = true)\n",
      " |-- pub_rec_bankruptcies: double (nullable = true)\n",
      " |-- tax_liens: double (nullable = true)\n",
      " |-- tot_hi_cred_lim: double (nullable = true)\n",
      " |-- total_bal_ex_mort: double (nullable = true)\n",
      " |-- total_bc_limit: double (nullable = true)\n",
      " |-- total_il_high_credit_limit: double (nullable = true)\n",
      " |-- revol_bal_joint: double (nullable = true)\n",
      " |-- sec_app_fico_range_low: double (nullable = true)\n",
      " |-- sec_app_fico_range_high: double (nullable = true)\n",
      " |-- sec_app_earliest_cr_line: string (nullable = true)\n",
      " |-- sec_app_inq_last_6mths: double (nullable = true)\n",
      " |-- sec_app_mort_acc: double (nullable = true)\n",
      " |-- sec_app_open_acc: double (nullable = true)\n",
      " |-- sec_app_revol_util: double (nullable = true)\n",
      " |-- sec_app_open_act_il: double (nullable = true)\n",
      " |-- sec_app_num_rev_accts: double (nullable = true)\n",
      " |-- sec_app_chargeoff_within_12_mths: double (nullable = true)\n",
      " |-- sec_app_collections_12_mths_ex_med: double (nullable = true)\n",
      " |-- hardship_flag: string (nullable = true)\n",
      " |-- hardship_type: string (nullable = true)\n",
      " |-- hardship_reason: string (nullable = true)\n",
      " |-- hardship_status: string (nullable = true)\n",
      " |-- deferral_term: double (nullable = true)\n",
      " |-- hardship_amount: double (nullable = true)\n",
      " |-- hardship_start_date: string (nullable = true)\n",
      " |-- hardship_end_date: string (nullable = true)\n",
      " |-- payment_plan_start_date: string (nullable = true)\n",
      " |-- hardship_length: double (nullable = true)\n",
      " |-- hardship_dpd: double (nullable = true)\n",
      " |-- hardship_loan_status: string (nullable = true)\n",
      " |-- orig_projected_additional_accrued_interest: double (nullable = true)\n",
      " |-- hardship_payoff_balance_amount: double (nullable = true)\n",
      " |-- hardship_last_payment_amount: double (nullable = true)\n",
      " |-- debt_settlement_flag: string (nullable = true)\n",
      "\n"
     ]
    }
   ],
   "source": [
    "df_selected.printSchema()"
   ]
  },
  {
   "cell_type": "code",
   "execution_count": 18,
   "metadata": {
    "colab": {
     "base_uri": "https://localhost:8080/"
    },
    "id": "LNHJw817XGy-",
    "outputId": "72edce9b-530d-4a64-bef8-a2c76aed7e73"
   },
   "outputs": [
    {
     "name": "stdout",
     "output_type": "stream",
     "text": [
      "+----------+\n",
      "|emp_length|\n",
      "+----------+\n",
      "|       +10|\n",
      "|         0|\n",
      "|       +10|\n",
      "|         2|\n",
      "|         3|\n",
      "|         9|\n",
      "|         0|\n",
      "|       +10|\n",
      "|         5|\n",
      "|         3|\n",
      "|         5|\n",
      "|         9|\n",
      "|         8|\n",
      "|        <1|\n",
      "|         6|\n",
      "|       +10|\n",
      "|       +10|\n",
      "|        <1|\n",
      "|       +10|\n",
      "|         4|\n",
      "+----------+\n",
      "only showing top 20 rows\n",
      "\n"
     ]
    }
   ],
   "source": [
    "from pyspark.sql.functions import regexp_replace, when, col\n",
    "\n",
    "df_selected = df_selected.withColumn(\n",
    "    \"emp_length\",\n",
    "    when(col(\"emp_length\").isNull(), \"0\")\n",
    "    .when(col(\"emp_length\") == \"10+ years\", \"+10\")\n",
    "    .when(col(\"emp_length\") == \"< 1 year\", \"<1\")\n",
    "    .otherwise(regexp_replace(col(\"emp_length\"), \"[^0-9]\", \"\"))\n",
    ")\n",
    "\n",
    "df_selected.select(\"emp_length\").show(20)\n"
   ]
  },
  {
   "cell_type": "code",
   "execution_count": 19,
   "metadata": {
    "colab": {
     "base_uri": "https://localhost:8080/"
    },
    "id": "4hvQPcapa0WG",
    "outputId": "a1c6c417-04c9-4ef2-e457-1146b131e876"
   },
   "outputs": [
    {
     "name": "stdout",
     "output_type": "stream",
     "text": [
      "+-----+-----------+----------+\n",
      "|  dti|installment|annual_inc|\n",
      "+-----+-----------+----------+\n",
      "|23.54|      557.2|   86000.0|\n",
      "|19.73|      437.6|   43000.0|\n",
      "| 20.7|     754.18|  329991.0|\n",
      "| 3.07|      87.99|   48500.0|\n",
      "| 9.45|     327.04|   24000.0|\n",
      "|15.71|     709.62|   64000.0|\n",
      "|10.95|     331.16|   48000.0|\n",
      "|23.12|     635.86|  130000.0|\n",
      "| 15.6|     138.16|   50000.0|\n",
      "|11.88|     108.14|   30000.0|\n",
      "|26.77|     359.16|   67500.0|\n",
      "| 7.36|     569.86|  165000.0|\n",
      "|12.28|     635.86|  123000.0|\n",
      "|23.88|     217.53|   69999.0|\n",
      "| 31.4|      696.5|  150000.0|\n",
      "|31.65|     946.15|  150000.0|\n",
      "|17.44|     255.44|   61000.0|\n",
      "|31.37|     359.16|   29212.0|\n",
      "|23.96|      66.16|   95000.0|\n",
      "| 25.9|     443.96|   84000.0|\n",
      "+-----+-----------+----------+\n",
      "only showing top 20 rows\n",
      "\n"
     ]
    }
   ],
   "source": [
    "from pyspark.sql.functions import col, when, expr\n",
    "\n",
    "df_selected = df_selected.withColumn(\n",
    "    \"dti\",\n",
    "    when(\n",
    "        col(\"dti\").isNull(),\n",
    "        col(\"installment\") / (col(\"annual_inc\") / 12)\n",
    "    ).otherwise(col(\"dti\"))\n",
    ")\n",
    "\n",
    "df_selected.select(\"dti\", \"installment\", \"annual_inc\").show(20)\n"
   ]
  },
  {
   "cell_type": "code",
   "execution_count": 20,
   "metadata": {
    "colab": {
     "base_uri": "https://localhost:8080/"
    },
    "id": "PHc0STdybwHf",
    "outputId": "3f50cfae-ed20-4475-84fe-945486d4e5ec"
   },
   "outputs": [
    {
     "name": "stdout",
     "output_type": "stream",
     "text": [
      "+---------+--------------+\n",
      "|       id|avg_fico_range|\n",
      "+---------+--------------+\n",
      "|149203043|         667.0|\n",
      "|149354242|         732.0|\n",
      "|149355875|         687.0|\n",
      "|149437986|         687.0|\n",
      "|149511512|         672.0|\n",
      "|149512743|         662.0|\n",
      "|149512827|         742.0|\n",
      "|149518361|         662.0|\n",
      "|149518551|         682.0|\n",
      "|149521312|         667.0|\n",
      "+---------+--------------+\n",
      "only showing top 10 rows\n",
      "\n"
     ]
    }
   ],
   "source": [
    "from pyspark.sql.functions import col\n",
    "\n",
    "df = df.withColumn(\"avg_fico_range\", (col(\"fico_range_low\") + col(\"fico_range_high\")) / 2)\n",
    "\n",
    "df_selected = df_selected.join(df.select(\"id\", \"avg_fico_range\"), on=\"id\", how=\"left\")\n",
    "\n",
    "df_selected.select(\"id\", \"avg_fico_range\").show(10)\n"
   ]
  },
  {
   "cell_type": "code",
   "execution_count": 21,
   "metadata": {
    "colab": {
     "base_uri": "https://localhost:8080/"
    },
    "id": "4y0xvZLLc88m",
    "outputId": "91cc431f-4a68-43db-bb3c-0b26e9e16cc5"
   },
   "outputs": [
    {
     "name": "stdout",
     "output_type": "stream",
     "text": [
      "+----------+\n",
      "|revol_util|\n",
      "+----------+\n",
      "|     73.1%|\n",
      "|       24%|\n",
      "|       80%|\n",
      "|     18.3%|\n",
      "|     47.4%|\n",
      "|     52.8%|\n",
      "|     41.4%|\n",
      "|     67.4%|\n",
      "|     57.6%|\n",
      "|     43.7%|\n",
      "+----------+\n",
      "only showing top 10 rows\n",
      "\n"
     ]
    }
   ],
   "source": [
    "from pyspark.sql.functions import col, when, isnan\n",
    "from pyspark.sql.types import DoubleType\n",
    "\n",
    "df = df.withColumn(\"revol_util\", col(\"revol_util\").cast(DoubleType()))\n",
    "\n",
    "valid_values = df.filter((col(\"revol_util\").isNotNull()) & (~isnan(col(\"revol_util\"))))\n",
    "\n",
    "if valid_values.count() > 0:\n",
    "    median_value = df.approxQuantile(\"revol_util\", [0.5], 0.01)[0]\n",
    "else:\n",
    "    median_value = 0.0\n",
    "\n",
    "df_selected = df_selected.withColumn(\n",
    "    \"revol_util\",\n",
    "    when(col(\"revol_util\").isNull(), median_value).otherwise(col(\"revol_util\"))\n",
    ")\n",
    "\n",
    "df_selected.select(\"revol_util\").show(10)\n",
    "\n",
    "\n"
   ]
  },
  {
   "cell_type": "code",
   "execution_count": 22,
   "metadata": {
    "colab": {
     "base_uri": "https://localhost:8080/"
    },
    "id": "wlT5kURFd6DO",
    "outputId": "7e253716-41c7-4b52-f616-a572274a70b5"
   },
   "outputs": [
    {
     "name": "stdout",
     "output_type": "stream",
     "text": [
      "+----------+\n",
      "|revol_util|\n",
      "+----------+\n",
      "|     73.1%|\n",
      "|       24%|\n",
      "|       80%|\n",
      "|     18.3%|\n",
      "|     47.4%|\n",
      "|     52.8%|\n",
      "|     41.4%|\n",
      "|     67.4%|\n",
      "|     57.6%|\n",
      "|     43.7%|\n",
      "+----------+\n",
      "only showing top 10 rows\n",
      "\n"
     ]
    }
   ],
   "source": [
    "from pyspark.sql.types import StringType\n",
    "\n",
    "df_selected = df_selected.withColumn(\"revol_util\", col(\"revol_util\").cast(StringType()))\n",
    "\n",
    "df_selected.select(\"revol_util\").show(10)\n"
   ]
  },
  {
   "cell_type": "code",
   "execution_count": 23,
   "metadata": {
    "colab": {
     "base_uri": "https://localhost:8080/"
    },
    "id": "5NOupXGLfYL8",
    "outputId": "91e755f7-493b-4447-f11b-aa2916c52fe0"
   },
   "outputs": [
    {
     "name": "stdout",
     "output_type": "stream",
     "text": [
      "+---------------+\n",
      "|last_pymnt_amnt|\n",
      "+---------------+\n",
      "|            0.0|\n",
      "|          437.6|\n",
      "|         754.18|\n",
      "|          87.99|\n",
      "|         327.04|\n",
      "|         709.62|\n",
      "|         331.16|\n",
      "|            0.0|\n",
      "|            0.0|\n",
      "|        2873.24|\n",
      "+---------------+\n",
      "only showing top 10 rows\n",
      "\n"
     ]
    }
   ],
   "source": [
    "from pyspark.sql.functions import abs, col\n",
    "\n",
    "df_selected = df_selected.withColumn(\"last_pymnt_amnt\", abs(col(\"last_pymnt_amnt\")))\n",
    "\n",
    "df_selected.select(\"last_pymnt_amnt\").show(10)\n"
   ]
  },
  {
   "cell_type": "code",
   "execution_count": 24,
   "metadata": {
    "colab": {
     "base_uri": "https://localhost:8080/"
    },
    "id": "fosE4CZLgnnB",
    "outputId": "36d85cd8-67a9-4eee-aa99-b7f8f17988b9"
   },
   "outputs": [
    {
     "name": "stdout",
     "output_type": "stream",
     "text": [
      "+------------+\n",
      "|next_pymnt_d|\n",
      "+------------+\n",
      "|    Jul-2020|\n",
      "|    Jun-2020|\n",
      "|    Jun-2020|\n",
      "|    Jun-2020|\n",
      "|    Jun-2020|\n",
      "|    Jun-2020|\n",
      "|    Jun-2020|\n",
      "|    Aug-2020|\n",
      "|    Jul-2020|\n",
      "|    finished|\n",
      "+------------+\n",
      "only showing top 10 rows\n",
      "\n"
     ]
    }
   ],
   "source": [
    "from pyspark.sql.functions import col, when\n",
    "\n",
    "df_selected = df_selected.withColumn(\n",
    "    \"next_pymnt_d\",\n",
    "    when(col(\"next_pymnt_d\").isNull(), \"finished\").otherwise(col(\"next_pymnt_d\"))\n",
    ")\n",
    "\n",
    "df_selected.select(\"next_pymnt_d\").show(10)\n"
   ]
  },
  {
   "cell_type": "code",
   "execution_count": 15,
   "metadata": {
    "colab": {
     "base_uri": "https://localhost:8080/"
    },
    "id": "m4eUszsdoAe5",
    "outputId": "e9875ea5-63a0-4d82-c061-7af6b41acd88"
   },
   "outputs": [
    {
     "name": "stdout",
     "output_type": "stream",
     "text": [
      "+------------+\n",
      "|last_pymnt_d|\n",
      "+------------+\n",
      "|    Oct-2017|\n",
      "|    Sep-2017|\n",
      "|    Jun-2018|\n",
      "|    Apr-2018|\n",
      "|    May-2020|\n",
      "|    Feb-2019|\n",
      "|    May-2020|\n",
      "|    May-2020|\n",
      "|    May-2020|\n",
      "|    May-2020|\n",
      "+------------+\n",
      "only showing top 10 rows\n",
      "\n"
     ]
    }
   ],
   "source": [
    "from pyspark.sql.functions import col, when\n",
    "\n",
    "df_selected = df_selected.withColumn(\n",
    "    \"last_pymnt_d\",\n",
    "    when(col(\"last_pymnt_d\").isNull(), \"first month\").otherwise(col(\"last_pymnt_d\"))\n",
    ")\n",
    "\n",
    "df_selected.select(\"last_pymnt_d\").show(10)"
   ]
  },
  {
   "cell_type": "code",
   "execution_count": 16,
   "metadata": {
    "colab": {
     "base_uri": "https://localhost:8080/"
    },
    "id": "8o9xbT-ko9PB",
    "outputId": "f9e9d76f-e8c9-4c6d-9bb6-986d8484c910"
   },
   "outputs": [
    {
     "name": "stdout",
     "output_type": "stream",
     "text": [
      "+---------------------------+\n",
      "|mths_since_last_major_derog|\n",
      "+---------------------------+\n",
      "|                      160.0|\n",
      "|                       70.0|\n",
      "|                       67.0|\n",
      "|                        8.0|\n",
      "|                       69.0|\n",
      "|                        0.0|\n",
      "|                        7.0|\n",
      "|                      142.0|\n",
      "|                      112.0|\n",
      "|                      154.0|\n",
      "|                      124.0|\n",
      "|                      128.0|\n",
      "|                      108.0|\n",
      "|                      133.0|\n",
      "|                       88.0|\n",
      "|                       49.0|\n",
      "|                      155.0|\n",
      "|                       -1.0|\n",
      "|                      101.0|\n",
      "|                       98.0|\n",
      "+---------------------------+\n",
      "only showing top 20 rows\n",
      "\n"
     ]
    }
   ],
   "source": [
    "from pyspark.sql.functions import when\n",
    "\n",
    "# Replace nulls with -1 in mths_since_last_major_derog\n",
    "df_selected = df_selected.withColumn(\n",
    "    \"mths_since_last_major_derog\",\n",
    "    when(df_selected.mths_since_last_major_derog.isNull(), -1).otherwise(df_selected.mths_since_last_major_derog)\n",
    ")\n",
    "\n",
    "# Show transformed values\n",
    "df_selected.select(\"mths_since_last_major_derog\").distinct().show()"
   ]
  },
  {
   "cell_type": "code",
   "execution_count": 17,
   "metadata": {
    "colab": {
     "base_uri": "https://localhost:8080/"
    },
    "id": "sx1hGMKppkeq",
    "outputId": "d6165fe8-ddcf-4363-a9db-2311efe5e223"
   },
   "outputs": [
    {
     "name": "stdout",
     "output_type": "stream",
     "text": [
      "+---------+----------------------+\n",
      "|       id|sec_app_fico_range_avg|\n",
      "+---------+----------------------+\n",
      "| 61441984|                  NULL|\n",
      "| 71804978|                  NULL|\n",
      "| 87959237|                  NULL|\n",
      "| 88896393|                  NULL|\n",
      "| 88976146|                  NULL|\n",
      "|102596266|                  NULL|\n",
      "|103648373|                  NULL|\n",
      "|119246018|                  NULL|\n",
      "|122362950|                 662.0|\n",
      "|123332950|                 627.0|\n",
      "+---------+----------------------+\n",
      "only showing top 10 rows\n",
      "\n"
     ]
    }
   ],
   "source": [
    "from pyspark.sql.functions import col\n",
    "\n",
    "# Step 1: Compute sec_app_fico_range_avg in the original df\n",
    "df = df.withColumn(\n",
    "    \"sec_app_fico_range_avg\",\n",
    "    (col(\"sec_app_fico_range_low\") + col(\"sec_app_fico_range_high\")) / 2\n",
    ")\n",
    "\n",
    "# Step 2: Join df_selected with the computed sec_app_fico_range_avg column\n",
    "df_selected = df_selected.join(df.select(\"id\", \"sec_app_fico_range_avg\"), on=\"id\", how=\"left\")\n",
    "\n",
    "# Step 3: Show results\n",
    "df_selected.select(\"id\", 'sec_app_fico_range_avg').show(10)\n",
    "\n"
   ]
  },
  {
   "cell_type": "code",
   "execution_count": 18,
   "metadata": {
    "colab": {
     "base_uri": "https://localhost:8080/"
    },
    "id": "9BxUVK1bsDPV",
    "outputId": "ed960370-faaa-4e30-fc5f-7213fd832896"
   },
   "outputs": [
    {
     "name": "stdout",
     "output_type": "stream",
     "text": [
      "+---------+-------------------+---------+---------+-----------+-------+-----------+-----------+-----------+---------------+------------+----------+----------+-------------------+---------------+----------+----------------+-----------+------------+-------------+--------+----------------+------------------+--------+---------------------------+-------------+---------------+--------------------+------------+----------+-----------+--------+-----+---------+------------+------------------------+----------+---------------+---------+---------------+----------------------+-----------------+--------------------+----------+---------+-----+----------+------------------------------+-------------------+----------------+----------------+------------------+---------+--------------------+--------------+---------------+--------+----------------+--------------+----------------------+\n",
      "|       id|initial_list_status|sub_grade|out_prncp|tot_cur_bal|pub_rec|delinq_2yrs|delinq_amnt|installment|hardship_length|hardship_dpd|addr_state|emp_length|hardship_start_date|hardship_status|   issue_d|annual_inc_joint|loan_status|last_pymnt_d|hardship_type|int_rate|sec_app_open_acc|sec_app_revol_util|open_acc|mths_since_last_major_derog|hardship_flag|hardship_reason|hardship_loan_status|next_pymnt_d|revol_util|open_il_24m|mort_acc|  dti|loan_amnt|total_bal_il|sec_app_earliest_cr_line|max_bal_bc|funded_amnt_inv|dti_joint|last_pymnt_amnt|sec_app_inq_last_6mths|hardship_end_date|debt_settlement_flag|      term|total_acc|grade|annual_inc|hardship_payoff_balance_amount|verification_status|earliest_cr_line|sec_app_mort_acc|           purpose|revol_bal|           emp_title|home_ownership|hardship_amount|zip_code|application_type|avg_fico_range|sec_app_fico_range_avg|\n",
      "+---------+-------------------+---------+---------+-----------+-------+-----------+-----------+-----------+---------------+------------+----------+----------+-------------------+---------------+----------+----------------+-----------+------------+-------------+--------+----------------+------------------+--------+---------------------------+-------------+---------------+--------------------+------------+----------+-----------+--------+-----+---------+------------+------------------------+----------+---------------+---------+---------------+----------------------+-----------------+--------------------+----------+---------+-----+----------+------------------------------+-------------------+----------------+----------------+------------------+---------+--------------------+--------------+---------------+--------+----------------+--------------+----------------------+\n",
      "| 46702272|                  w|       B2|      0.0|    25154.0|    0.0|        0.0|        0.0|      354.3|           NULL|        NULL|        CA|       +10|               NULL|           NULL|2015-04-01|            NULL| Fully Paid|    Apr-2017|         NULL|   9.17%|            NULL|              NULL|     7.0|                       -1.0|            N|           NULL|                NULL|    finished|     14.9%|       NULL|     0.0|10.07|  17000.0|        NULL|                    NULL|      NULL|        17000.0|     NULL|        11485.0|                  NULL|             NULL|                   N| 60 months|     19.0|    B|   91000.0|                          NULL|    Source Verified|        Dec-1976|            NULL|  home_improvement|   6489.0|  Facilities Manager|          RENT|           NULL|   950xx|      Individual|         802.0|                  NULL|\n",
      "| 61382775|                  w|       B2|      0.0|    17619.0|    2.0|        0.0|        0.0|      159.4|           NULL|        NULL|        NE|       +10|               NULL|           NULL|2015-10-01|            NULL| Fully Paid|    Oct-2018|         NULL|   9.17%|            NULL|              NULL|     4.0|                       50.0|            N|           NULL|                NULL|    finished|       57%|       NULL|     2.0|12.29|   5000.0|        NULL|                    NULL|      NULL|         5000.0|     NULL|         159.18|                  NULL|             NULL|                   N| 36 months|     19.0|    B|   58000.0|                          NULL|       Not Verified|        Aug-1997|            NULL|             other|   5248.0|   Quality Techician|          RENT|           NULL|   681xx|      Individual|         662.0|                  NULL|\n",
      "| 61441984|                  f|       B3|      0.0|    53319.0|    1.0|        0.0|        0.0|      516.2|           NULL|        NULL|        NC|        <1|               NULL|           NULL|2015-10-01|            NULL| Fully Paid|    Oct-2017|         NULL|   9.99%|            NULL|              NULL|    15.0|                       -1.0|            N|           NULL|                NULL|    finished|     22.6%|       NULL|     1.0| 37.2|  16000.0|        NULL|                    NULL|      NULL|        16000.0|     NULL|        6402.69|                  NULL|             NULL|                   N| 36 months|     41.0|    B|   65000.0|                          NULL|    Source Verified|        Jun-1999|            NULL|               car|   5595.0|               owner|          RENT|           NULL|   276xx|      Individual|         677.0|                  NULL|\n",
      "| 71804978|                  w|       C3|      0.0|   342144.0|    0.0|        1.0|        0.0|     808.42|           NULL|        NULL|        TX|         5|               NULL|           NULL|2016-02-01|            NULL|Charged Off|    Sep-2017|         NULL|  13.67%|            NULL|              NULL|    15.0|                       14.0|            N|           NULL|                NULL|    finished|     27.6%|        1.0|     2.0|31.05|  35000.0|     91719.0|                    NULL|    8228.0|        34950.0|     NULL|         808.42|                  NULL|             NULL|                   N| 60 months|     37.0|    C|  147000.0|                          NULL|    Source Verified|        Feb-1998|            NULL|debt_consolidation|  27743.0|    Systems Engineer|      MORTGAGE|           NULL|   750xx|      Individual|         727.0|                  NULL|\n",
      "| 87254632|                  w|       E3|      0.0|    39603.0|    1.0|        0.0|        0.0|     267.55|           NULL|        NULL|        OH|       +10|               NULL|           NULL|2016-09-01|            NULL|Charged Off|    Sep-2018|         NULL|  24.49%|            NULL|              NULL|    14.0|                       -1.0|            N|           NULL|                NULL|    finished|     20.2%|        2.0|     0.0|31.14|   6775.0|     36738.0|                    NULL|     789.0|         6775.0|     NULL|         267.55|                  NULL|             NULL|                   N| 36 months|     18.0|    E|   35000.0|                          NULL|    Source Verified|        Feb-2008|            NULL|             house|   2865.0|         seamstress |           OWN|           NULL|   441xx|      Individual|         712.0|                  NULL|\n",
      "| 87959237|                  f|       A4|      0.0|     4130.0|    0.0|        0.0|        0.0|      150.4|           NULL|        NULL|        GA|       +10|               NULL|           NULL|2016-09-01|            NULL| Fully Paid|    Jun-2018|         NULL|   7.99%|            NULL|              NULL|     4.0|                       -1.0|            N|           NULL|                NULL|    finished|     37.2%|        0.0|     0.0| 4.39|   4800.0|         0.0|                    NULL|    1875.0|         4800.0|     NULL|        1222.14|                  NULL|             NULL|                   N| 36 months|     10.0|    A|   31000.0|                          NULL|    Source Verified|        Sep-2003|            NULL|debt_consolidation|   4130.0|Sales Associate F...|          RENT|           NULL|   303xx|      Individual|         747.0|                  NULL|\n",
      "| 88273182|                  w|       C4|      0.0|     6765.0|    0.0|        0.0|        0.0|      86.05|           NULL|        NULL|        NY|        <1|               NULL|           NULL|2016-09-01|            NULL| Fully Paid|    Sep-2019|         NULL|  14.49%|            NULL|              NULL|     6.0|                       -1.0|            N|           NULL|                NULL|    finished|     35.7%|        0.0|     0.0| 5.64|   2500.0|      5300.0|                    NULL|    1025.0|         2500.0|     NULL|          85.61|                  NULL|             NULL|                   N| 36 months|      6.0|    C|   27000.0|                          NULL|    Source Verified|        Nov-2010|            NULL|             other|   1465.0|             nursing|           OWN|           NULL|   107xx|      Individual|         692.0|                  NULL|\n",
      "| 88896393|                  w|       B1|      0.0|    20713.0|    3.0|        0.0|        0.0|      311.6|           NULL|        NULL|        NY|       +10|               NULL|           NULL|2016-09-01|            NULL| Fully Paid|    Sep-2019|         NULL|   8.99%|            NULL|              NULL|     9.0|                       69.0|            N|           NULL|                NULL|    finished|       64%|        0.0|     0.0|24.03|   9800.0|      7215.0|                    NULL|    4752.0|         9800.0|     NULL|         311.42|                  NULL|             NULL|                   N| 36 months|     19.0|    B|   45000.0|                          NULL|       Not Verified|        Sep-1999|            NULL|       credit_card|  13498.0|               Cheff|      MORTGAGE|           NULL|   116xx|      Individual|         677.0|                  NULL|\n",
      "| 88976146|                  w|       C1|      0.0|   286305.0|    0.0|        0.0|        0.0|     671.86|           NULL|        NULL|        OH|         8|               NULL|           NULL|2016-09-01|            NULL| Fully Paid|    Apr-2018|         NULL|  12.79%|            NULL|              NULL|    24.0|                       -1.0|            N|           NULL|                NULL|    finished|       28%|        2.0|     1.0|16.07|  20000.0|     98887.0|                    NULL|    1967.0|        20000.0|     NULL|        8392.65|                  NULL|             NULL|                   N| 36 months|     37.0|    C|   80000.0|                          NULL|       Not Verified|        Feb-1994|            NULL|  home_improvement|   6072.0|             Manager|      MORTGAGE|           NULL|   452xx|      Individual|         707.0|                  NULL|\n",
      "|102496983|                  w|       A2|      0.0|    56977.0|    0.0|        0.0|        0.0|     617.46|           NULL|        NULL|        HI|        <1|               NULL|           NULL|2017-03-01|            NULL| Fully Paid|    Feb-2019|         NULL|   6.99%|            NULL|              NULL|     9.0|                       -1.0|            N|           NULL|                NULL|    finished|     57.4%|        2.0|     0.0|17.45|  20000.0|     31885.0|                    NULL|    5882.0|        20000.0|     NULL|         615.77|                  NULL|             NULL|                   N| 36 months|     19.0|    A|   89600.0|                          NULL|    Source Verified|        Jun-2009|            NULL|       credit_card|  25092.0|      Superintendent|          RENT|           NULL|   967xx|      Individual|         697.0|                  NULL|\n",
      "|102596266|                  w|       C3|  6723.99|   167390.0|    0.0|        0.0|        0.0|     334.99|           NULL|        NULL|        CA|         3|               NULL|           NULL|2017-03-01|            NULL|    Current|    May-2020|         NULL|  13.99%|            NULL|              NULL|     8.0|                       48.0|            N|           NULL|                NULL|    Jun-2020|     79.3%|        3.0|     2.0|32.91|  14400.0|    127268.0|                    NULL|   22353.0|        14400.0|     NULL|         334.99|                  NULL|             NULL|                   N| 60 months|     35.0|    C|  100000.0|                          NULL|           Verified|        Jul-2001|            NULL|       credit_card|  40122.0|Assistant Teachin...|          RENT|           NULL|   921xx|      Individual|         692.0|                  NULL|\n",
      "|103648373|                  w|       C4|      0.0|    42140.0|    0.0|        0.0|        0.0|     285.42|           NULL|        NULL|        MD|         2|               NULL|           NULL|2017-03-01|            NULL| Fully Paid|    Feb-2019|         NULL|  14.99%|            NULL|              NULL|    18.0|                       34.0|            N|           NULL|                NULL|    finished|       39%|        2.0|     0.0|24.52|  12000.0|     29530.0|                    NULL|    2825.0|        12000.0|     NULL|        8974.94|                  NULL|             NULL|                   N| 60 months|     21.0|    C|   53000.0|                          NULL|           Verified|        Dec-1997|            NULL|debt_consolidation|  12610.0|   purchasing Manger|          RENT|           NULL|   212xx|      Individual|         682.0|                  NULL|\n",
      "|106085866|                  w|       A1|      0.0|   143258.0|    0.0|        0.0|        0.0|     301.15|           NULL|        NULL|        IN|       +10|               NULL|           NULL|2017-04-01|            NULL| Fully Paid|    May-2018|         NULL|   5.32%|            NULL|              NULL|     5.0|                       -1.0|            N|           NULL|                NULL|    finished|     72.9%|        1.0|     2.0| 7.42|  10000.0|         0.0|                    NULL|       0.0|        10000.0|     NULL|        6889.75|                  NULL|             NULL|                   N| 36 months|     13.0|    A|   92000.0|                          NULL|           Verified|        Jan-2005|            NULL|debt_consolidation|  44118.0|Senior Corporate ...|      MORTGAGE|           NULL|   460xx|      Individual|         717.0|                  NULL|\n",
      "|119246018|                  w|       A5|   232.31|     7736.0|    1.0|        0.0|        0.0|     219.26|           NULL|        NULL|        IL|       +10|               NULL|           NULL|2017-09-01|            NULL|    Current|    May-2020|         NULL|   7.97%|            NULL|              NULL|    13.0|                       -1.0|            N|           NULL|                NULL|    Jun-2020|     22.8%|        0.0|     0.0|12.27|   7000.0|         0.0|                    NULL|    3446.0|         7000.0|     NULL|         219.26|                  NULL|             NULL|                   N| 36 months|     20.0|    A|   32000.0|                          NULL|    Source Verified|        Dec-2003|            NULL|debt_consolidation|   7736.0|                 CSM|          RENT|           NULL|   604xx|      Individual|         712.0|                  NULL|\n",
      "|120115696|                  w|       C2| 11892.48|   266904.0|    0.0|        0.0|        0.0|     498.02|           NULL|        NULL|        OH|         6|               NULL|           NULL|2017-09-01|            NULL|    Current|    May-2020|         NULL|  13.59%|            NULL|              NULL|    13.0|                       -1.0|            N|           NULL|                NULL|    Jun-2020|    100.1%|        1.0|     0.0|20.18|  21600.0|    255494.0|                    NULL|    3934.0|        21600.0|     NULL|         498.02|                  NULL|             NULL|                   N| 60 months|     35.0|    C|   71400.0|                          NULL|           Verified|        Jul-2005|            NULL|       credit_card|  11410.0|University Innova...|      MORTGAGE|           NULL|   432xx|      Individual|         672.0|                  NULL|\n",
      "|122362950|                  w|       D5|  6300.87|    46566.0|    1.0|        0.0|        0.0|     273.08|           NULL|        NULL|        NY|       +10|               NULL|           NULL|2017-11-01|         91000.0|    Current|    May-2020|         NULL|  21.45%|             8.0|              60.3|    13.0|                       -1.0|            N|           NULL|                NULL|    Jun-2020|     66.5%|        3.0|     0.0|37.77|  10000.0|     36588.0|                Apr-2014|    2966.0|        10000.0|    26.85|         273.08|                   0.0|             NULL|                   N| 60 months|     26.0|    D|   42000.0|                          NULL|       Not Verified|        May-1996|             0.0|debt_consolidation|   9978.0|Habilitation Coun...|          RENT|           NULL|   103xx|       Joint App|         662.0|                 662.0|\n",
      "|123332950|                  w|       C2|   783.96|    14861.0|    0.0|        0.0|        0.0|     135.92|           NULL|        NULL|        NY|        <1|               NULL|           NULL|2017-11-01|        110000.0|    Current|    May-2020|         NULL|  13.59%|            14.0|              37.7|    10.0|                       -1.0|            N|           NULL|                NULL|    Jun-2020|     15.4%|        1.0|     0.0|17.26|   4000.0|      9582.0|                Aug-1973|    5076.0|         4000.0|    17.41|         135.92|                   2.0|             NULL|                   N| 36 months|     18.0|    C|   39000.0|                          NULL|           Verified|        Dec-1999|             0.0|debt_consolidation|   5279.0|      lunchroom cook|           OWN|           NULL|   100xx|       Joint App|         762.0|                 627.0|\n",
      "|124010816|                  w|       B5|  2560.36|     2227.0|    0.0|        0.0|        0.0|      332.1|            2.0|         0.0|        CA|         9|           Apr-2020|         ACTIVE|2017-11-01|            NULL|    Current|    May-2020|    CVD19SKIP|  11.99%|            NULL|              NULL|     4.0|                       -1.0|            Y|     INCOMECURT|              ACTIVE|    Jul-2020|     76.8%|        0.0|     0.0| 3.06|  10000.0|         0.0|                    NULL|     719.0|        10000.0|     NULL|            0.0|                  NULL|         Jun-2020|                   N| 36 months|      6.0|    B|   40000.0|                       2565.48|    Source Verified|        Nov-2007|            NULL|       credit_card|   2227.0|           Forklift |          RENT|            0.0|   953xx|      Individual|         682.0|                  NULL|\n",
      "|124108914|                  f|       C4|      0.0|    17691.0|    0.0|        0.0|        0.0|      34.69|           NULL|        NULL|        NY|         1|               NULL|           NULL|2017-11-01|            NULL| Fully Paid|    Jun-2018|         NULL|  15.05%|            NULL|              NULL|     6.0|                       -1.0|            N|           NULL|                NULL|    finished|      0.2%|        1.0|     0.0|12.53|   1000.0|     17680.0|                    NULL|      11.0|         1000.0|     NULL|         879.31|                  NULL|             NULL|                   N| 36 months|      7.0|    C|   50000.0|                          NULL|    Source Verified|        Sep-2011|            NULL|             other|     11.0|                NA11|          RENT|           NULL|   117xx|      Individual|         727.0|                  NULL|\n",
      "|124121343|                  w|       C2|   587.96|   132036.0|    0.0|        0.0|        0.0|     101.94|           NULL|        NULL|        MN|         5|               NULL|           NULL|2017-11-01|            NULL|    Current|    May-2020|         NULL|  13.59%|            NULL|              NULL|     4.0|                       -1.0|            N|           NULL|                NULL|    Jun-2020|     91.4%|        0.0|     1.0|10.62|   3000.0|         0.0|                    NULL|   12730.0|         3000.0|     NULL|         101.94|                  NULL|             NULL|                   N| 36 months|      4.0|    C|   60000.0|                          NULL|    Source Verified|        Nov-2005|            NULL|debt_consolidation|  23401.0|               Owner|      MORTGAGE|           NULL|   559xx|      Individual|         712.0|                  NULL|\n",
      "+---------+-------------------+---------+---------+-----------+-------+-----------+-----------+-----------+---------------+------------+----------+----------+-------------------+---------------+----------+----------------+-----------+------------+-------------+--------+----------------+------------------+--------+---------------------------+-------------+---------------+--------------------+------------+----------+-----------+--------+-----+---------+------------+------------------------+----------+---------------+---------+---------------+----------------------+-----------------+--------------------+----------+---------+-----+----------+------------------------------+-------------------+----------------+----------------+------------------+---------+--------------------+--------------+---------------+--------+----------------+--------------+----------------------+\n",
      "only showing top 20 rows\n",
      "\n"
     ]
    }
   ],
   "source": [
    "df_selected = df_selected.drop(\"sec_app_fico_range_low\", \"sec_app_fico_range_high\")\n",
    "\n",
    "df_selected.show()\n"
   ]
  },
  {
   "cell_type": "code",
   "execution_count": 19,
   "metadata": {
    "colab": {
     "base_uri": "https://localhost:8080/"
    },
    "id": "2ISu817Vsoec",
    "outputId": "ca013b16-cabe-4873-83f6-a5aa542e92ea"
   },
   "outputs": [
    {
     "name": "stdout",
     "output_type": "stream",
     "text": [
      "+-------------+-------------+\n",
      "|hardship_type|hardship_flag|\n",
      "+-------------+-------------+\n",
      "|         NULL|            n|\n",
      "|         NULL|            n|\n",
      "|         NULL|            n|\n",
      "|         NULL|            n|\n",
      "|         NULL|            n|\n",
      "|         NULL|            n|\n",
      "|         NULL|            n|\n",
      "|         NULL|            n|\n",
      "|         NULL|            n|\n",
      "|    CVD19SKIP|            y|\n",
      "+-------------+-------------+\n",
      "only showing top 10 rows\n",
      "\n"
     ]
    }
   ],
   "source": [
    "from pyspark.sql.functions import when, col\n",
    "\n",
    "# Update hardship_flag based on hardship_type\n",
    "df_selected = df_selected.withColumn(\n",
    "    \"hardship_flag\",\n",
    "    when(col(\"hardship_type\").isNull(), \"n\").otherwise(\"y\")\n",
    ")\n",
    "\n",
    "# Verify the changes\n",
    "df_selected.select(\"hardship_type\", \"hardship_flag\").show(10)"
   ]
  },
  {
   "cell_type": "code",
   "execution_count": 20,
   "metadata": {
    "colab": {
     "base_uri": "https://localhost:8080/"
    },
    "id": "-EFxuEEWt0cc",
    "outputId": "27a345a1-dc8f-45b4-ae19-d9444c7a93d5"
   },
   "outputs": [
    {
     "name": "stdout",
     "output_type": "stream",
     "text": [
      "+---------+-------------------+---------+---------+-----------+-------+-----------+-----------+-----------+---------------+------------+----------+----------+-------------------+---------------+----------+----------------+------------------+------------+-------------+--------+----------------+------------------+--------+---------------------------+-------------+---------------+--------------------+------------+----------+-----------+--------+-----+---------+------------+------------------------+----------+---------------+---------+---------------+----------------------+-----------------+--------------------+----------+---------+-----+----------+------------------------------+-------------------+----------------+----------------+------------------+---------+--------------------+--------------+---------------+--------+----------------+--------------+----------------------+\n",
      "|       id|initial_list_status|sub_grade|out_prncp|tot_cur_bal|pub_rec|delinq_2yrs|delinq_amnt|installment|hardship_length|hardship_dpd|addr_state|emp_length|hardship_start_date|hardship_status|   issue_d|annual_inc_joint|       loan_status|last_pymnt_d|hardship_type|int_rate|sec_app_open_acc|sec_app_revol_util|open_acc|mths_since_last_major_derog|hardship_flag|hardship_reason|hardship_loan_status|next_pymnt_d|revol_util|open_il_24m|mort_acc|  dti|loan_amnt|total_bal_il|sec_app_earliest_cr_line|max_bal_bc|funded_amnt_inv|dti_joint|last_pymnt_amnt|sec_app_inq_last_6mths|hardship_end_date|debt_settlement_flag|      term|total_acc|grade|annual_inc|hardship_payoff_balance_amount|verification_status|earliest_cr_line|sec_app_mort_acc|           purpose|revol_bal|           emp_title|home_ownership|hardship_amount|zip_code|application_type|avg_fico_range|sec_app_fico_range_avg|\n",
      "+---------+-------------------+---------+---------+-----------+-------+-----------+-----------+-----------+---------------+------------+----------+----------+-------------------+---------------+----------+----------------+------------------+------------+-------------+--------+----------------+------------------+--------+---------------------------+-------------+---------------+--------------------+------------+----------+-----------+--------+-----+---------+------------+------------------------+----------+---------------+---------+---------------+----------------------+-----------------+--------------------+----------+---------+-----+----------+------------------------------+-------------------+----------------+----------------+------------------+---------+--------------------+--------------+---------------+--------+----------------+--------------+----------------------+\n",
      "| 14569556|                  w|       E4|      0.0|   357059.0|    0.0|        0.0|        0.0|    1318.45|           NULL|        NULL|        KY|         4|               NULL|           NULL|2014-05-01|            NULL|        Fully Paid|    May-2017|         NULL|  20.99%|            NULL|              NULL|    12.0|                       -1.0|            n|           NULL|                NULL|    finished|     76.4%|       NULL|     8.0|11.49|  35000.0|        NULL|                    NULL|      NULL|        35000.0|     NULL|        1318.33|                  NULL|             NULL|                   N| 36 months|     34.0|    E|  250000.0|                          NULL|           Verified|        Jul-1993|            NULL|debt_consolidation|  27666.0|   Managing Director|      MORTGAGE|           NULL|   402xx|      Individual|         687.0|                  NULL|\n",
      "| 15360466|                  f|       A3|      0.0|    24177.0|    0.0|        0.0|        0.0|     742.37|           NULL|        NULL|        FL|       +10|               NULL|           NULL|2014-05-01|            NULL|        Fully Paid|    Nov-2015|         NULL|   7.12%|            NULL|              NULL|    11.0|                       -1.0|            n|           NULL|                NULL|    finished|       16%|       NULL|     0.0|14.72|  24000.0|        NULL|                    NULL|      NULL|        24000.0|     NULL|       13388.14|                  NULL|             NULL|                   N| 36 months|     18.0|    A|   90000.0|                          NULL|           Verified|        Dec-1997|            NULL|debt_consolidation|   6613.0|Paint & Body Shop...|           OWN|           NULL|   330xx|      Individual|         787.0|                  NULL|\n",
      "| 15420835|                  f|       C3|      0.0|    25282.0|    0.0|        2.0|        0.0|     164.01|           NULL|        NULL|        TX|         3|               NULL|           NULL|2014-05-01|            NULL|       Charged Off|    Sep-2016|         NULL|  13.98%|            NULL|              NULL|     8.0|                       40.0|            n|           NULL|                NULL|    finished|     71.2%|       NULL|     1.0|15.18|   4800.0|        NULL|                    NULL|      NULL|         4800.0|     NULL|         164.01|                  NULL|             NULL|                   N| 36 months|     24.0|    C|   60000.0|                          NULL|       Not Verified|        Dec-1999|            NULL|debt_consolidation|   6360.0|                 RN |          RENT|           NULL|   770xx|      Individual|         667.0|                  NULL|\n",
      "| 15601017|                  f|       C5|      0.0|   314439.0|    0.0|        0.0|        0.0|     832.47|           NULL|        NULL|        NJ|       +10|               NULL|           NULL|2014-05-01|            NULL|       Charged Off|    Nov-2016|         NULL|  14.99%|            NULL|              NULL|     7.0|                       -1.0|            n|           NULL|                NULL|    finished|     91.3%|       NULL|     7.0|15.25|  35000.0|        NULL|                    NULL|      NULL|        35000.0|     NULL|         832.47|                  NULL|             NULL|                   N| 60 months|     24.0|    C|  155000.0|                          NULL|           Verified|        Jan-1997|            NULL|debt_consolidation|  31140.0|      Store manager |      MORTGAGE|           NULL|   074xx|      Individual|         697.0|                  NULL|\n",
      "| 16231752|                  f|       D2|      0.0|   168396.0|    0.0|        0.0|        0.0|     330.95|           NULL|        NULL|        AZ|         8|               NULL|           NULL|2014-05-01|            NULL|        Fully Paid|    Oct-2015|         NULL|  16.29%|            NULL|              NULL|    12.0|                       -1.0|            n|           NULL|                NULL|    finished|     67.1%|       NULL|     1.0|13.93|   9375.0|        NULL|                    NULL|      NULL|         9375.0|     NULL|        5905.32|                  NULL|             NULL|                   N| 36 months|     14.0|    D|   82000.0|                          NULL|    Source Verified|        Apr-2005|            NULL|debt_consolidation|  11071.0|          Crew chief|      MORTGAGE|           NULL|   853xx|      Individual|         672.0|                  NULL|\n",
      "| 16292100|                  f|       B2|      0.0|    65956.0|    0.0|        0.0|        0.0|     161.69|           NULL|        NULL|        FL|        <1|               NULL|           NULL|2014-05-01|            NULL|       Charged Off|    Sep-2015|         NULL|  10.15%|            NULL|              NULL|    31.0|                       -1.0|            n|           NULL|                NULL|    finished|     52.2%|       NULL|     0.0|29.68|   5000.0|        NULL|                    NULL|      NULL|         5000.0|     NULL|         161.69|                  NULL|             NULL|                   N| 36 months|     37.0|    B|   45000.0|                          NULL|       Not Verified|        Sep-1999|            NULL|debt_consolidation|   8360.0|Registered Nurse ...|           OWN|           NULL|   342xx|      Individual|         702.0|                  NULL|\n",
      "| 46205155|                  f|       F4|      0.0|    37466.0|    1.0|        0.0|        0.0|     554.63|           NULL|        NULL|        NC|         2|               NULL|           NULL|2015-04-01|            NULL|       Charged Off|    Dec-2016|         NULL|  24.99%|            NULL|              NULL|    14.0|                       72.0|            n|           NULL|                NULL|    finished|       56%|       NULL|     0.0|30.17|  18900.0|        NULL|                    NULL|      NULL|        18900.0|     NULL|         554.63|                  NULL|             NULL|                   N| 60 months|     19.0|    F|   42000.0|                          NULL|           Verified|        Mar-2003|            NULL|debt_consolidation|  10021.0|          Accountant|          RENT|           NULL|   288xx|      Individual|         672.0|                  NULL|\n",
      "| 46588451|                  w|       C3|      0.0|   465888.0|    0.0|        0.0|        0.0|    1184.86|           NULL|        NULL|        MD|         7|               NULL|           NULL|2015-05-01|            NULL|        Fully Paid|    Feb-2016|         NULL|  13.33%|            NULL|              NULL|    13.0|                       -1.0|            n|           NULL|                NULL|    finished|     82.2%|       NULL|     8.0|21.44|  35000.0|        NULL|                    NULL|      NULL|        35000.0|     NULL|        28703.7|                  NULL|             NULL|                   N| 36 months|     34.0|    C|  150000.0|                          NULL|    Source Verified|        Feb-1996|            NULL|debt_consolidation|  40195.0|               owner|      MORTGAGE|           NULL|   215xx|      Individual|         722.0|                  NULL|\n",
      "| 46640425|                  w|       D1|      0.0|    18752.0|    1.0|        0.0|        0.0|     166.96|           NULL|        NULL|        CT|         0|               NULL|           NULL|2015-04-01|            NULL|       Charged Off|    Aug-2017|         NULL|  15.61%|            NULL|              NULL|    11.0|                       47.0|            n|           NULL|                NULL|    finished|       56%|       NULL|     1.0|32.15|   4775.0|        NULL|                    NULL|      NULL|         4775.0|     NULL|         166.96|                  NULL|             NULL|                   N| 36 months|     22.0|    D|   28000.0|                          NULL|           Verified|        Sep-1994|            NULL|  home_improvement|   7424.0|       self_employed|           OWN|           NULL|   067xx|      Individual|         672.0|                  NULL|\n",
      "| 46702272|                  w|       B2|      0.0|    25154.0|    0.0|        0.0|        0.0|      354.3|           NULL|        NULL|        CA|       +10|               NULL|           NULL|2015-04-01|            NULL|        Fully Paid|    Apr-2017|         NULL|   9.17%|            NULL|              NULL|     7.0|                       -1.0|            n|           NULL|                NULL|    finished|     14.9%|       NULL|     0.0|10.07|  17000.0|        NULL|                    NULL|      NULL|        17000.0|     NULL|        11485.0|                  NULL|             NULL|                   N| 60 months|     19.0|    B|   91000.0|                          NULL|    Source Verified|        Dec-1976|            NULL|  home_improvement|   6489.0|  Facilities Manager|          RENT|           NULL|   950xx|      Individual|         802.0|                  NULL|\n",
      "| 46843749|                  w|       C3|      0.0|   122864.0|    0.0|        0.0|        0.0|     240.69|           NULL|        NULL|        TN|         3|               NULL|           NULL|2015-04-01|            NULL|        Fully Paid|    Jun-2016|         NULL|  13.33%|            NULL|              NULL|    20.0|                       -1.0|            n|           NULL|                NULL|    finished|     20.4%|       NULL|     0.0|23.76|  10500.0|        NULL|                    NULL|      NULL|        10500.0|     NULL|        8872.81|                  NULL|             NULL|                   N| 60 months|     28.0|    C|   91084.0|                          NULL|           Verified|        Jul-2005|            NULL|  home_improvement|   5679.0|Senior Network En...|      MORTGAGE|           NULL|   371xx|      Individual|         732.0|                  NULL|\n",
      "| 61046483|                  f|       D1|      0.0|    84488.0|    1.0|        0.0|        0.0|     750.87|           NULL|        NULL|        CA|       +10|               NULL|           NULL|2015-10-01|            NULL|       Charged Off|    Feb-2016|         NULL|  15.61%|            NULL|              NULL|    11.0|                       54.0|            n|           NULL|                NULL|    finished|       14%|       NULL|     8.0|14.99|  21475.0|        NULL|                    NULL|      NULL|        21475.0|     NULL|         750.87|                  NULL|             NULL|                   N| 36 months|     31.0|    D|   65000.0|                          NULL|    Source Verified|        Jul-1992|            NULL|       credit_card|   2379.0|       Lead Attorney|          RENT|           NULL|   927xx|      Individual|         682.0|                  NULL|\n",
      "| 61361978|                  f|       D1|      0.0|    18106.0|    0.0|        0.0|        0.0|    1045.45|           NULL|        NULL|        MA|         2|               NULL|           NULL|2015-10-01|            NULL|        Fully Paid|    Jul-2017|         NULL|  15.61%|            NULL|              NULL|    17.0|                       -1.0|            n|           NULL|                NULL|    finished|     43.1%|       NULL|     0.0| 6.73|  29900.0|        NULL|                    NULL|      NULL|        29850.0|     NULL|       15362.29|                  NULL|             NULL|                   N| 36 months|     22.0|    D|  125000.0|                          NULL|    Source Verified|        Oct-2010|            NULL|       credit_card|  18106.0|RF Diagnostic Eng...|          RENT|           NULL|   021xx|      Individual|         672.0|                  NULL|\n",
      "| 61382775|                  w|       B2|      0.0|    17619.0|    2.0|        0.0|        0.0|      159.4|           NULL|        NULL|        NE|       +10|               NULL|           NULL|2015-10-01|            NULL|        Fully Paid|    Oct-2018|         NULL|   9.17%|            NULL|              NULL|     4.0|                       50.0|            n|           NULL|                NULL|    finished|       57%|       NULL|     2.0|12.29|   5000.0|        NULL|                    NULL|      NULL|         5000.0|     NULL|         159.18|                  NULL|             NULL|                   N| 36 months|     19.0|    B|   58000.0|                          NULL|       Not Verified|        Aug-1997|            NULL|             other|   5248.0|   Quality Techician|          RENT|           NULL|   681xx|      Individual|         662.0|                  NULL|\n",
      "| 61412485|                  w|       C3|      0.0|    32262.0|    0.0|        0.0|        0.0|      162.5|           NULL|        NULL|        AL|         8|               NULL|           NULL|2015-10-01|            NULL|       Charged Off|    Feb-2018|         NULL|  13.33%|            NULL|              NULL|    12.0|                       -1.0|            n|           NULL|                NULL|    finished|     80.8%|       NULL|     0.0| 26.2|   4800.0|        NULL|                    NULL|      NULL|         4800.0|     NULL|          162.5|                  NULL|             NULL|                   N| 36 months|     20.0|    C|   36000.0|                          NULL|           Verified|        Oct-2007|            NULL|             other|  11393.0|       Administrator|           OWN|           NULL|   360xx|      Individual|         677.0|                  NULL|\n",
      "| 61441984|                  f|       B3|      0.0|    53319.0|    1.0|        0.0|        0.0|      516.2|           NULL|        NULL|        NC|        <1|               NULL|           NULL|2015-10-01|            NULL|        Fully Paid|    Oct-2017|         NULL|   9.99%|            NULL|              NULL|    15.0|                       -1.0|            n|           NULL|                NULL|    finished|     22.6%|       NULL|     1.0| 37.2|  16000.0|        NULL|                    NULL|      NULL|        16000.0|     NULL|        6402.69|                  NULL|             NULL|                   N| 36 months|     41.0|    B|   65000.0|                          NULL|    Source Verified|        Jun-1999|            NULL|               car|   5595.0|               owner|          RENT|           NULL|   276xx|      Individual|         677.0|                  NULL|\n",
      "| 61471872|                  w|       C4|      0.0|   300838.0|    1.0|        0.0|        0.0|     246.05|           NULL|        NULL|        IL|       +10|               NULL|           NULL|2015-10-01|            NULL|        Fully Paid|    Aug-2016|         NULL|  13.99%|            NULL|              NULL|    13.0|                       81.0|            n|           NULL|                NULL|    finished|     49.2%|       NULL|     2.0|15.59|   7200.0|        NULL|                    NULL|      NULL|         7200.0|     NULL|        5786.29|                  NULL|             NULL|                   N| 36 months|     18.0|    C|   84000.0|                          NULL|    Source Verified|        Feb-2005|            NULL|    major_purchase|   5956.0|      Vice President|           OWN|           NULL|   600xx|      Individual|         662.0|                  NULL|\n",
      "| 61478899|                  f|       E3|      0.0|    27058.0|    0.0|        1.0|        0.0|     502.59|           NULL|        NULL|        CA|         9|               NULL|           NULL|2015-10-01|            NULL|        Fully Paid|    May-2018|         NULL|  19.19%|            NULL|              NULL|    18.0|                       40.0|            n|           NULL|                NULL|    finished|       41%|       NULL|     1.0|15.81|  13675.0|        NULL|                    NULL|      NULL|        13675.0|     NULL|        2919.58|                  NULL|             NULL|                   N| 36 months|     33.0|    E|   90000.0|                          NULL|       Not Verified|        Oct-1998|            NULL|debt_consolidation|   9285.0|    Legal assistant |          RENT|           NULL|   926xx|      Individual|         677.0|                  NULL|\n",
      "| 61508956|                  w|       A4|      0.0|   492375.0|    0.0|        0.0|        0.0|     318.79|           NULL|        NULL|        CO|       +10|               NULL|           NULL|2015-10-01|            NULL|        Fully Paid|    Jan-2020|         NULL|   7.26%|            NULL|              NULL|    21.0|                       -1.0|            n|           NULL|                NULL|    finished|     22.5%|       NULL|     1.0|18.04|  16000.0|        NULL|                    NULL|      NULL|        16000.0|     NULL|        3118.43|                  NULL|             NULL|                   N| 60 months|     29.0|    A|  100000.0|                          NULL|    Source Verified|        Sep-2001|            NULL|debt_consolidation|  12828.0|Director of Clien...|      MORTGAGE|           NULL|   801xx|      Individual|         707.0|                  NULL|\n",
      "| 61509543|                  f|       A4|      0.0|   254914.0|    0.0|        0.0|        0.0|     478.18|           NULL|        NULL|        FL|       +10|               NULL|           NULL|2015-10-01|            NULL|        Fully Paid|    May-2018|         NULL|   7.26%|            NULL|              NULL|    11.0|                       -1.0|            n|           NULL|                NULL|    finished|     22.4%|       NULL|     4.0| 5.26|  24000.0|        NULL|                    NULL|      NULL|        24000.0|     NULL|       12760.42|                  NULL|             NULL|                   N| 60 months|     35.0|    A|   79000.0|                          NULL|       Not Verified|        Mar-1991|            NULL|debt_consolidation|  14026.0|    Registered Nurse|      MORTGAGE|           NULL|   331xx|      Individual|         777.0|                  NULL|\n",
      "| 71755668|                  w|       A1|      0.0|   364436.0|    0.0|        0.0|        0.0|     542.07|           NULL|        NULL|        CA|         5|               NULL|           NULL|2016-02-01|            NULL|        Fully Paid|    Jan-2017|         NULL|   5.32%|            NULL|              NULL|     8.0|                       -1.0|            n|           NULL|                NULL|    finished|      4.8%|        1.0|     2.0| 6.74|  18000.0|     11912.0|                    NULL|    1500.0|        18000.0|     NULL|       13373.14|                  NULL|             NULL|                   N| 36 months|     17.0|    A|   93000.0|                          NULL|    Source Verified|        May-2004|            NULL|  home_improvement|   1637.0|            machanic|      MORTGAGE|           NULL|   913xx|      Individual|         812.0|                  NULL|\n",
      "| 71775241|                  w|       C5|      0.0|   147042.0|    0.0|        0.0|        0.0|       76.6|           NULL|        NULL|        CA|         1|               NULL|           NULL|2016-02-01|            NULL|        Fully Paid|    Feb-2018|         NULL|  15.31%|            NULL|              NULL|    10.0|                       -1.0|            n|           NULL|                NULL|    finished|     63.7%|        1.0|     3.0|24.31|   2200.0|     52914.0|                    NULL|    2885.0|         2200.0|     NULL|         929.88|                  NULL|             NULL|                   N| 36 months|     17.0|    C|   52000.0|                          NULL|    Source Verified|        Aug-2005|            NULL|             other|   8217.0|LVN-out patient U...|      MORTGAGE|           NULL|   923xx|      Individual|         682.0|                  NULL|\n",
      "| 71795226|                  w|       A3|      0.0|    21519.0|    0.0|        0.0|        0.0|     771.59|           NULL|        NULL|        MI|         4|               NULL|           NULL|2016-02-01|            NULL|        Fully Paid|    Feb-2019|         NULL|   6.97%|            NULL|              NULL|    14.0|                       -1.0|            n|           NULL|                NULL|    finished|       20%|        0.0|     0.0| 9.36|  25000.0|     14013.0|                    NULL|    5550.0|        25000.0|     NULL|         771.37|                  NULL|             NULL|                   N| 36 months|     18.0|    A|  110000.0|                          NULL|       Not Verified|        Apr-2009|            NULL|             house|   7366.0|       ETL Architect|          RENT|           NULL|   481xx|      Individual|         747.0|                  NULL|\n",
      "| 71804978|                  w|       C3|      0.0|   342144.0|    0.0|        1.0|        0.0|     808.42|           NULL|        NULL|        TX|         5|               NULL|           NULL|2016-02-01|            NULL|       Charged Off|    Sep-2017|         NULL|  13.67%|            NULL|              NULL|    15.0|                       14.0|            n|           NULL|                NULL|    finished|     27.6%|        1.0|     2.0|31.05|  35000.0|     91719.0|                    NULL|    8228.0|        34950.0|     NULL|         808.42|                  NULL|             NULL|                   N| 60 months|     37.0|    C|  147000.0|                          NULL|    Source Verified|        Feb-1998|            NULL|debt_consolidation|  27743.0|    Systems Engineer|      MORTGAGE|           NULL|   750xx|      Individual|         727.0|                  NULL|\n",
      "| 71935239|                  w|       C3|      0.0|    32128.0|    1.0|        0.0|        0.0|     408.22|           NULL|        NULL|        NY|         2|               NULL|           NULL|2016-02-01|            NULL|        Fully Paid|    Jan-2018|         NULL|  13.67%|            NULL|              NULL|    11.0|                       -1.0|            n|           NULL|                NULL|    finished|     62.6%|        1.0|     3.0|21.42|  12000.0|     20238.0|                    NULL|    3946.0|        12000.0|     NULL|        5727.21|                  NULL|             NULL|                   N| 36 months|     21.0|    C|   60000.0|                          NULL|           Verified|        May-2002|            NULL|debt_consolidation|  11890.0|        Utility Lead|      MORTGAGE|           NULL|   121xx|      Individual|         662.0|                  NULL|\n",
      "| 87254632|                  w|       E3|      0.0|    39603.0|    1.0|        0.0|        0.0|     267.55|           NULL|        NULL|        OH|       +10|               NULL|           NULL|2016-09-01|            NULL|       Charged Off|    Sep-2018|         NULL|  24.49%|            NULL|              NULL|    14.0|                       -1.0|            n|           NULL|                NULL|    finished|     20.2%|        2.0|     0.0|31.14|   6775.0|     36738.0|                    NULL|     789.0|         6775.0|     NULL|         267.55|                  NULL|             NULL|                   N| 36 months|     18.0|    E|   35000.0|                          NULL|    Source Verified|        Feb-2008|            NULL|             house|   2865.0|         seamstress |           OWN|           NULL|   441xx|      Individual|         712.0|                  NULL|\n",
      "| 87959237|                  f|       A4|      0.0|     4130.0|    0.0|        0.0|        0.0|      150.4|           NULL|        NULL|        GA|       +10|               NULL|           NULL|2016-09-01|            NULL|        Fully Paid|    Jun-2018|         NULL|   7.99%|            NULL|              NULL|     4.0|                       -1.0|            n|           NULL|                NULL|    finished|     37.2%|        0.0|     0.0| 4.39|   4800.0|         0.0|                    NULL|    1875.0|         4800.0|     NULL|        1222.14|                  NULL|             NULL|                   N| 36 months|     10.0|    A|   31000.0|                          NULL|    Source Verified|        Sep-2003|            NULL|debt_consolidation|   4130.0|Sales Associate F...|          RENT|           NULL|   303xx|      Individual|         747.0|                  NULL|\n",
      "| 88273182|                  w|       C4|      0.0|     6765.0|    0.0|        0.0|        0.0|      86.05|           NULL|        NULL|        NY|        <1|               NULL|           NULL|2016-09-01|            NULL|        Fully Paid|    Sep-2019|         NULL|  14.49%|            NULL|              NULL|     6.0|                       -1.0|            n|           NULL|                NULL|    finished|     35.7%|        0.0|     0.0| 5.64|   2500.0|      5300.0|                    NULL|    1025.0|         2500.0|     NULL|          85.61|                  NULL|             NULL|                   N| 36 months|      6.0|    C|   27000.0|                          NULL|    Source Verified|        Nov-2010|            NULL|             other|   1465.0|             nursing|           OWN|           NULL|   107xx|      Individual|         692.0|                  NULL|\n",
      "| 88494209|                  f|       C4|      0.0|    21158.0|    0.0|        0.0|        0.0|     110.14|           NULL|        NULL|        IL|         4|               NULL|           NULL|2016-09-01|            NULL|        Fully Paid|    Jun-2018|         NULL|  14.49%|            NULL|              NULL|    14.0|                       -1.0|            n|           NULL|                NULL|    finished|       66%|        3.0|     0.0|30.27|   3200.0|      9038.0|                    NULL|    1978.0|         3200.0|     NULL|        1216.34|                  NULL|             NULL|                   N| 36 months|     26.0|    C|   40000.0|                          NULL|           Verified|        Nov-1995|            NULL|debt_consolidation|  12120.0|          Accountant|          RENT|           NULL|   606xx|      Individual|         687.0|                  NULL|\n",
      "| 88613980|                  w|       E5|  4263.24|     6453.0|    0.0|        0.0|        0.0|     295.22|           NULL|        NULL|        MO|        <1|               NULL|           NULL|2016-09-01|            NULL|Late (31-120 days)|    May-2020|         NULL|  25.29%|            NULL|              NULL|     4.0|                       -1.0|            n|           NULL|                NULL|    Jun-2020|     58.1%|        0.0|     0.0| 4.71|  10000.0|         0.0|                    NULL|    3151.0|        10000.0|     NULL|          256.0|                  NULL|             NULL|                   N| 60 months|      4.0|    E|   40000.0|                        4743.7|    Source Verified|        Oct-2010|            NULL|       credit_card|   6453.0|Assistant/front desk|      MORTGAGE|         295.22|   658xx|      Individual|         712.0|                  NULL|\n",
      "| 88794985|                  f|       B5|      0.0|     8309.0|    1.0|        0.0|        0.0|     296.75|           NULL|        NULL|        NJ|       +10|               NULL|           NULL|2016-09-01|            NULL|        Fully Paid|    Sep-2019|         NULL|  11.49%|            NULL|              NULL|    11.0|                       -1.0|            n|           NULL|                NULL|    finished|     19.4%|        1.0|     0.0| 28.8|   9000.0|      4198.0|                    NULL|     657.0|         9000.0|     NULL|         296.38|                  NULL|             NULL|                   N| 36 months|     13.0|    B|   28000.0|                          NULL|       Not Verified|        Nov-2003|            NULL|debt_consolidation|   4111.0|              clerk |           OWN|           NULL|   071xx|      Individual|         732.0|                  NULL|\n",
      "| 88851477|                  f|       C4|      0.0|    80801.0|    0.0|        2.0|        0.0|     172.09|           NULL|        NULL|        SC|       +10|               NULL|           NULL|2016-09-01|            NULL|       Charged Off|    Jan-2017|         NULL|  14.49%|            NULL|              NULL|     7.0|                       -1.0|            n|           NULL|                NULL|    finished|     69.4%|        2.0|     3.0|27.88|   5000.0|     20323.0|                    NULL|    2663.0|         5000.0|     NULL|         172.09|                  NULL|             NULL|                   N| 36 months|     24.0|    C|   43000.0|                          NULL|           Verified|        Nov-1995|            NULL|debt_consolidation|   4027.0|     Service Manager|      MORTGAGE|           NULL|   295xx|      Individual|         697.0|                  NULL|\n",
      "| 88855559|                  w|       D1|      0.0|   258537.0|    0.0|        1.0|        0.0|     264.69|           NULL|        NULL|        WA|       +10|               NULL|           NULL|2016-09-01|            NULL|        Fully Paid|    Aug-2019|         NULL|  16.99%|            NULL|              NULL|     4.0|                       -1.0|            n|           NULL|                NULL|    finished|       56%|        2.0|     1.0|10.93|   7425.0|     16395.0|                    NULL|    3241.0|         7425.0|     NULL|          530.8|                  NULL|             NULL|                   N| 36 months|      9.0|    D|   58000.0|                          NULL|           Verified|        Sep-2008|            NULL|debt_consolidation|   5657.0| Maintenance Control|      MORTGAGE|           NULL|   982xx|      Individual|         667.0|                  NULL|\n",
      "| 88874514|                  w|       C2|      0.0|     7507.0|    0.0|        0.0|        0.0|     111.98|           NULL|        NULL|        CA|         8|               NULL|           NULL|2016-09-01|            NULL|        Fully Paid|    Feb-2018|         NULL|  13.49%|            NULL|              NULL|     5.0|                       -1.0|            n|           NULL|                NULL|    finished|     19.6%|        0.0|     0.0|21.83|   3300.0|      5805.0|                    NULL|     982.0|         3300.0|     NULL|        2026.37|                  NULL|             NULL|                   N| 36 months|     16.0|    C|   29000.0|                          NULL|    Source Verified|        Aug-2008|            NULL|debt_consolidation|   1702.0|   Warehouse Manager|          RENT|           NULL|   913xx|      Individual|         697.0|                  NULL|\n",
      "| 88896393|                  w|       B1|      0.0|    20713.0|    3.0|        0.0|        0.0|      311.6|           NULL|        NULL|        NY|       +10|               NULL|           NULL|2016-09-01|            NULL|        Fully Paid|    Sep-2019|         NULL|   8.99%|            NULL|              NULL|     9.0|                       69.0|            n|           NULL|                NULL|    finished|       64%|        0.0|     0.0|24.03|   9800.0|      7215.0|                    NULL|    4752.0|         9800.0|     NULL|         311.42|                  NULL|             NULL|                   N| 36 months|     19.0|    B|   45000.0|                          NULL|       Not Verified|        Sep-1999|            NULL|       credit_card|  13498.0|               Cheff|      MORTGAGE|           NULL|   116xx|      Individual|         677.0|                  NULL|\n",
      "| 88973479|                  w|       B2|      0.0|   287743.0|    0.0|        0.0|        0.0|     320.29|           NULL|        NULL|        WA|         9|               NULL|           NULL|2016-09-01|            NULL|        Fully Paid|    Jan-2017|         NULL|   9.49%|            NULL|              NULL|     5.0|                       -1.0|            n|           NULL|                NULL|    finished|     50.9%|        0.0|     1.0| 3.71|  10000.0|      5268.0|                    NULL|    1507.0|        10000.0|     NULL|        9401.05|                  NULL|             NULL|                   N| 36 months|     10.0|    B|   55000.0|                          NULL|       Not Verified|        Sep-2002|            NULL|debt_consolidation|   2085.0|          Ramp agent|      MORTGAGE|           NULL|   984xx|      Individual|         682.0|                  NULL|\n",
      "| 88976146|                  w|       C1|      0.0|   286305.0|    0.0|        0.0|        0.0|     671.86|           NULL|        NULL|        OH|         8|               NULL|           NULL|2016-09-01|            NULL|        Fully Paid|    Apr-2018|         NULL|  12.79%|            NULL|              NULL|    24.0|                       -1.0|            n|           NULL|                NULL|    finished|       28%|        2.0|     1.0|16.07|  20000.0|     98887.0|                    NULL|    1967.0|        20000.0|     NULL|        8392.65|                  NULL|             NULL|                   N| 36 months|     37.0|    C|   80000.0|                          NULL|       Not Verified|        Feb-1994|            NULL|  home_improvement|   6072.0|             Manager|      MORTGAGE|           NULL|   452xx|      Individual|         707.0|                  NULL|\n",
      "| 89004704|                  w|       C5|      0.0|     4655.0|    0.0|        1.0|        0.0|      87.39|           NULL|        NULL|        IL|         3|               NULL|           NULL|2016-09-01|            NULL|        Fully Paid|    Sep-2019|         NULL|  15.59%|            NULL|              NULL|     7.0|                       -1.0|            n|           NULL|                NULL|    finished|     23.6%|        0.0|     0.0|13.35|   2500.0|      3522.0|                    NULL|     874.0|         2500.0|     NULL|          87.27|                  NULL|             NULL|                   N| 36 months|      8.0|    C|   24000.0|                          NULL|    Source Verified|        Jun-2013|            NULL|             other|   1133.0|Licensed Sales Pr...|          RENT|           NULL|   608xx|      Individual|         682.0|                  NULL|\n",
      "|102496983|                  w|       A2|      0.0|    56977.0|    0.0|        0.0|        0.0|     617.46|           NULL|        NULL|        HI|        <1|               NULL|           NULL|2017-03-01|            NULL|        Fully Paid|    Feb-2019|         NULL|   6.99%|            NULL|              NULL|     9.0|                       -1.0|            n|           NULL|                NULL|    finished|     57.4%|        2.0|     0.0|17.45|  20000.0|     31885.0|                    NULL|    5882.0|        20000.0|     NULL|         615.77|                  NULL|             NULL|                   N| 36 months|     19.0|    A|   89600.0|                          NULL|    Source Verified|        Jun-2009|            NULL|       credit_card|  25092.0|      Superintendent|          RENT|           NULL|   967xx|      Individual|         697.0|                  NULL|\n",
      "|102596266|                  w|       C3|  6723.99|   167390.0|    0.0|        0.0|        0.0|     334.99|           NULL|        NULL|        CA|         3|               NULL|           NULL|2017-03-01|            NULL|           Current|    May-2020|         NULL|  13.99%|            NULL|              NULL|     8.0|                       48.0|            n|           NULL|                NULL|    Jun-2020|     79.3%|        3.0|     2.0|32.91|  14400.0|    127268.0|                    NULL|   22353.0|        14400.0|     NULL|         334.99|                  NULL|             NULL|                   N| 60 months|     35.0|    C|  100000.0|                          NULL|           Verified|        Jul-2001|            NULL|       credit_card|  40122.0|Assistant Teachin...|          RENT|           NULL|   921xx|      Individual|         692.0|                  NULL|\n",
      "|102625428|                  f|       B1|      0.0|   162896.0|    0.0|        0.0|        0.0|     314.48|           NULL|        NULL|        CO|       +10|               NULL|           NULL|2017-03-01|            NULL|        Fully Paid|    Dec-2017|         NULL|   8.24%|            NULL|              NULL|     9.0|                       52.0|            n|           NULL|                NULL|    finished|     75.9%|        2.0|     3.0|24.24|  10000.0|     27531.0|                    NULL|    1798.0|         9750.0|     NULL|        8323.82|                  NULL|             NULL|                   N| 36 months|     32.0|    B|   56000.0|                          NULL|           Verified|        Jan-1995|            NULL|       credit_card|   6606.0|Client Service Ma...|      MORTGAGE|           NULL|   800xx|      Individual|         667.0|                  NULL|\n",
      "|103548585|                  f|       B4|      0.0|    53846.0|    1.0|        0.0|        0.0|     329.48|           NULL|        NULL|        OH|       +10|               NULL|           NULL|2017-03-01|            NULL|        Fully Paid|    Mar-2018|         NULL|  11.44%|            NULL|              NULL|    10.0|                       -1.0|            n|           NULL|                NULL|    finished|     57.7%|        4.0|     2.0|25.93|  10000.0|     48883.0|                    NULL|    2179.0|        10000.0|     NULL|        7692.45|                  NULL|             NULL|                   N| 36 months|     24.0|    B|   56000.0|                          NULL|           Verified|        Jul-2001|            NULL|debt_consolidation|   4963.0|  Associate Director|      MORTGAGE|           NULL|   450xx|      Individual|         667.0|                  NULL|\n",
      "|103648373|                  w|       C4|      0.0|    42140.0|    0.0|        0.0|        0.0|     285.42|           NULL|        NULL|        MD|         2|               NULL|           NULL|2017-03-01|            NULL|        Fully Paid|    Feb-2019|         NULL|  14.99%|            NULL|              NULL|    18.0|                       34.0|            n|           NULL|                NULL|    finished|       39%|        2.0|     0.0|24.52|  12000.0|     29530.0|                    NULL|    2825.0|        12000.0|     NULL|        8974.94|                  NULL|             NULL|                   N| 60 months|     21.0|    C|   53000.0|                          NULL|           Verified|        Dec-1997|            NULL|debt_consolidation|  12610.0|   purchasing Manger|          RENT|           NULL|   212xx|      Individual|         682.0|                  NULL|\n",
      "|106085866|                  w|       A1|      0.0|   143258.0|    0.0|        0.0|        0.0|     301.15|           NULL|        NULL|        IN|       +10|               NULL|           NULL|2017-04-01|            NULL|        Fully Paid|    May-2018|         NULL|   5.32%|            NULL|              NULL|     5.0|                       -1.0|            n|           NULL|                NULL|    finished|     72.9%|        1.0|     2.0| 7.42|  10000.0|         0.0|                    NULL|       0.0|        10000.0|     NULL|        6889.75|                  NULL|             NULL|                   N| 36 months|     13.0|    A|   92000.0|                          NULL|           Verified|        Jan-2005|            NULL|debt_consolidation|  44118.0|Senior Corporate ...|      MORTGAGE|           NULL|   460xx|      Individual|         717.0|                  NULL|\n",
      "|106208775|                  w|       C5|      0.0|   359150.0|    0.0|        1.0|        0.0|    1054.57|           NULL|        NULL|        NC|         4|               NULL|           NULL|2017-04-01|            NULL|        Fully Paid|    Apr-2020|         NULL|  15.99%|            NULL|              NULL|    16.0|                       -1.0|            n|           NULL|                NULL|    finished|     20.5%|        0.0|     2.0|15.77|  30000.0|     18410.0|                    NULL|     776.0|        30000.0|     NULL|        2102.35|                  NULL|             NULL|                   N| 36 months|     34.0|    C|   80000.0|                           0.0|    Source Verified|        Aug-1992|            NULL|debt_consolidation|   6500.0|       Public Safety|      MORTGAGE|        1054.57|   280xx|      Individual|         742.0|                  NULL|\n",
      "|106507893|                  w|       E1|      0.0|   279347.0|    1.0|        0.0|        0.0|     424.13|           NULL|        NULL|        NV|       +10|               NULL|           NULL|2017-04-01|            NULL|        Fully Paid|    Jun-2017|         NULL|  22.74%|            NULL|              NULL|    11.0|                       -1.0|            n|           NULL|                NULL|    finished|     35.9%|        5.0|     2.0|28.34|  15125.0|     60498.0|                    NULL|    2336.0|        15125.0|     NULL|       15543.48|                  NULL|             NULL|                   N| 60 months|     33.0|    E|   96000.0|                          NULL|       Not Verified|        Aug-2005|            NULL|debt_consolidation|  56841.0|    Business Analyst|      MORTGAGE|           NULL|   895xx|      Individual|         727.0|                  NULL|\n",
      "|119246018|                  w|       A5|   232.31|     7736.0|    1.0|        0.0|        0.0|     219.26|           NULL|        NULL|        IL|       +10|               NULL|           NULL|2017-09-01|            NULL|           Current|    May-2020|         NULL|   7.97%|            NULL|              NULL|    13.0|                       -1.0|            n|           NULL|                NULL|    Jun-2020|     22.8%|        0.0|     0.0|12.27|   7000.0|         0.0|                    NULL|    3446.0|         7000.0|     NULL|         219.26|                  NULL|             NULL|                   N| 36 months|     20.0|    A|   32000.0|                          NULL|    Source Verified|        Dec-2003|            NULL|debt_consolidation|   7736.0|                 CSM|          RENT|           NULL|   604xx|      Individual|         712.0|                  NULL|\n",
      "|119413563|                  w|       D4|      0.0|     3447.0|    0.0|        0.0|        0.0|    1300.73|           NULL|        NULL|        CA|         7|               NULL|           NULL|2017-09-01|            NULL|       Charged Off|    Jan-2018|         NULL|  20.00%|            NULL|              NULL|    10.0|                       -1.0|            n|           NULL|                NULL|    finished|        3%|        0.0|     0.0| 3.73|  35000.0|       638.0|                    NULL|    2500.0|        35000.0|     NULL|        1300.73|                  NULL|             NULL|                   N| 36 months|     14.0|    D|   87500.0|                          NULL|           Verified|        Jun-2009|            NULL|    major_purchase|   2809.0|             Manager|           OWN|           NULL|   912xx|      Individual|         792.0|                  NULL|\n",
      "|119940240|                  w|       C2|      0.0|    45501.0|    0.0|        0.0|        0.0|     387.35|           NULL|        NULL|        WY|         2|               NULL|           NULL|2017-09-01|            NULL|        Fully Paid|    Jan-2020|         NULL|  13.59%|            NULL|              NULL|     8.0|                       -1.0|            n|           NULL|                NULL|    finished|     83.5%|        0.0|     0.0|24.88|  16800.0|     31644.0|                    NULL|    7808.0|        16800.0|     NULL|       10814.24|                  NULL|             NULL|                   N| 60 months|     20.0|    C|   75000.0|                          NULL|       Not Verified|        Feb-2008|            NULL|debt_consolidation|  13857.0|        Truck driver|          RENT|           NULL|   824xx|      Individual|         682.0|                  NULL|\n",
      "|119967812|                  w|       C5|   2027.8|    38955.0|    0.0|        0.0|        0.0|     422.01|           NULL|        NULL|        MS|         5|               NULL|           NULL|2017-09-01|            NULL|           Current|    May-2020|         NULL|  16.02%|            NULL|              NULL|    13.0|                       70.0|            n|           NULL|                NULL|    Jun-2020|     61.1%|        4.0|     3.0|22.75|  12000.0|     32295.0|                    NULL|    1955.0|        12000.0|     NULL|            0.0|                  NULL|             NULL|                   N| 36 months|     27.0|    C|   64000.0|                          NULL|           Verified|        Jun-1995|            NULL|debt_consolidation|   6660.0|             Manager|          RENT|           NULL|   386xx|      Individual|         667.0|                  NULL|\n",
      "+---------+-------------------+---------+---------+-----------+-------+-----------+-----------+-----------+---------------+------------+----------+----------+-------------------+---------------+----------+----------------+------------------+------------+-------------+--------+----------------+------------------+--------+---------------------------+-------------+---------------+--------------------+------------+----------+-----------+--------+-----+---------+------------+------------------------+----------+---------------+---------+---------------+----------------------+-----------------+--------------------+----------+---------+-----+----------+------------------------------+-------------------+----------------+----------------+------------------+---------+--------------------+--------------+---------------+--------+----------------+--------------+----------------------+\n",
      "only showing top 50 rows\n",
      "\n"
     ]
    }
   ],
   "source": [
    "df_selected.show(50)\n"
   ]
  },
  {
   "cell_type": "code",
   "execution_count": 21,
   "metadata": {
    "colab": {
     "base_uri": "https://localhost:8080/"
    },
    "id": "fO7qKz1pNw81",
    "outputId": "4f4fe1f3-acde-4c2a-e3f0-4a79fc0efce2"
   },
   "outputs": [
    {
     "name": "stdout",
     "output_type": "stream",
     "text": [
      "+----+\n",
      "|term|\n",
      "+----+\n",
      "|  36|\n",
      "|  60|\n",
      "|  36|\n",
      "|  36|\n",
      "|  60|\n",
      "|  60|\n",
      "|  36|\n",
      "|  60|\n",
      "|  36|\n",
      "|  36|\n",
      "+----+\n",
      "only showing top 10 rows\n",
      "\n"
     ]
    }
   ],
   "source": [
    "from pyspark.sql.functions import regexp_replace\n",
    "\n",
    "df_selected = df_selected.withColumn(\"term\", regexp_replace(col(\"term\"), \" months\", \"\"))\n",
    "\n",
    "df_selected.select(\"term\").show(10)\n"
   ]
  },
  {
   "cell_type": "code",
   "execution_count": 22,
   "metadata": {},
   "outputs": [
    {
     "name": "stdout",
     "output_type": "stream",
     "text": [
      "+----------+---------------+\n",
      "|addr_state|full_state_name|\n",
      "+----------+---------------+\n",
      "|        NC| North Carolina|\n",
      "|        TX|          Texas|\n",
      "|        GA|        Georgia|\n",
      "|        OH|           Ohio|\n",
      "|        CA|     California|\n",
      "|        MD|       Maryland|\n",
      "|        IL|       Illinois|\n",
      "|        NY|       New York|\n",
      "|        NY|       New York|\n",
      "|        CA|     California|\n",
      "+----------+---------------+\n",
      "only showing top 10 rows\n",
      "\n"
     ]
    }
   ],
   "source": [
    "from pyspark.sql import functions as F\n",
    " \n",
    "state_abbreviations = {\n",
    "    \"AZ\": \"Arizona\",\n",
    "    \"SC\": \"South Carolina\",\n",
    "    \"LA\": \"Louisiana\",\n",
    "    \"MN\": \"Minnesota\",\n",
    "    \"NJ\": \"New Jersey\",\n",
    "    \"DC\": \"District of Columbia\",\n",
    "    \"OR\": \"Oregon\",\n",
    "    \"VA\": \"Virginia\",\n",
    "    \"RI\": \"Rhode Island\",\n",
    "    \"WY\": \"Wyoming\",\n",
    "    \"KY\": \"Kentucky\",\n",
    "    \"NH\": \"New Hampshire\",\n",
    "    \"MI\": \"Michigan\",\n",
    "    \"NV\": \"Nevada\",\n",
    "    \"WI\": \"Wisconsin\",\n",
    "    \"ID\": \"Idaho\",\n",
    "    \"CA\": \"California\",\n",
    "    \"CT\": \"Connecticut\",\n",
    "    \"NE\": \"Nebraska\",\n",
    "    \"MT\": \"Montana\",\n",
    "    \"NC\": \"North Carolina\",\n",
    "    \"VT\": \"Vermont\",\n",
    "    \"MD\": \"Maryland\",\n",
    "    \"DE\": \"Delaware\",\n",
    "    \"MO\": \"Missouri\",\n",
    "    \"IL\": \"Illinois\",\n",
    "    \"ME\": \"Maine\",\n",
    "    \"WA\": \"Washington\",\n",
    "    \"ND\": \"North Dakota\",\n",
    "    \"MS\": \"Mississippi\",\n",
    "    \"AL\": \"Alabama\",\n",
    "    \"IN\": \"Indiana\",\n",
    "    \"OH\": \"Ohio\",\n",
    "    \"TN\": \"Tennessee\",\n",
    "    \"NM\": \"New Mexico\",\n",
    "    \"PA\": \"Pennsylvania\",\n",
    "    \"SD\": \"South Dakota\",\n",
    "    \"NY\": \"New York\",\n",
    "    \"TX\": \"Texas\",\n",
    "    \"GA\": \"Georgia\",\n",
    "    \"MA\": \"Massachusetts\",\n",
    "    \"KS\": \"Kansas\",\n",
    "    \"FL\": \"Florida\",\n",
    "    \"CO\": \"Colorado\",\n",
    "    \"AK\": \"Alaska\",\n",
    "    \"AR\": \"Arkansas\",\n",
    "    \"OK\": \"Oklahoma\",\n",
    "    \"UT\": \"Utah\",\n",
    "    \"HI\": \"Hawaii\"\n",
    "}\n",
    " \n",
    "df_selected = df_selected.withColumn(\n",
    "    'full_state_name',\n",
    "    F.when(df_selected['addr_state'] == \"AZ\", \"Arizona\")\n",
    "     .when(df_selected['addr_state'] == \"SC\", \"South Carolina\")\n",
    "     .when(df_selected['addr_state'] == \"LA\", \"Louisiana\")\n",
    "     .when(df_selected['addr_state'] == \"MN\", \"Minnesota\")\n",
    "     .when(df_selected['addr_state'] == \"NJ\", \"New Jersey\")\n",
    "     .when(df_selected['addr_state'] == \"DC\", \"District of Columbia\")\n",
    "     .when(df_selected['addr_state'] == \"OR\", \"Oregon\")\n",
    "     .when(df_selected['addr_state'] == \"VA\", \"Virginia\")\n",
    "     .when(df_selected['addr_state'] == \"RI\", \"Rhode Island\")\n",
    "     .when(df_selected['addr_state'] == \"WY\", \"Wyoming\")\n",
    "     .when(df_selected['addr_state'] == \"KY\", \"Kentucky\")\n",
    "     .when(df_selected['addr_state'] == \"NH\", \"New Hampshire\")\n",
    "     .when(df_selected['addr_state'] == \"MI\", \"Michigan\")\n",
    "     .when(df_selected['addr_state'] == \"NV\", \"Nevada\")\n",
    "     .when(df_selected['addr_state'] == \"WI\", \"Wisconsin\")\n",
    "     .when(df_selected['addr_state'] == \"ID\", \"Idaho\")\n",
    "     .when(df_selected['addr_state'] == \"CA\", \"California\")\n",
    "     .when(df_selected['addr_state'] == \"CT\", \"Connecticut\")\n",
    "     .when(df_selected['addr_state'] == \"NE\", \"Nebraska\")\n",
    "     .when(df_selected['addr_state'] == \"MT\", \"Montana\")\n",
    "     .when(df_selected['addr_state'] == \"NC\", \"North Carolina\")\n",
    "     .when(df_selected['addr_state'] == \"VT\", \"Vermont\")\n",
    "     .when(df_selected['addr_state'] == \"MD\", \"Maryland\")\n",
    "     .when(df_selected['addr_state'] == \"DE\", \"Delaware\")\n",
    "     .when(df_selected['addr_state'] == \"MO\", \"Missouri\")\n",
    "     .when(df_selected['addr_state'] == \"IL\", \"Illinois\")\n",
    "     .when(df_selected['addr_state'] == \"ME\", \"Maine\")\n",
    "     .when(df_selected['addr_state'] == \"WA\", \"Washington\")\n",
    "     .when(df_selected['addr_state'] == \"ND\", \"North Dakota\")\n",
    "     .when(df_selected['addr_state'] == \"MS\", \"Mississippi\")\n",
    "     .when(df_selected['addr_state'] == \"AL\", \"Alabama\")\n",
    "     .when(df_selected['addr_state'] == \"IN\", \"Indiana\")\n",
    "     .when(df_selected['addr_state'] == \"OH\", \"Ohio\")\n",
    "     .when(df_selected['addr_state'] == \"TN\", \"Tennessee\")\n",
    "     .when(df_selected['addr_state'] == \"NM\", \"New Mexico\")\n",
    "     .when(df_selected['addr_state'] == \"PA\", \"Pennsylvania\")\n",
    "     .when(df_selected['addr_state'] == \"SD\", \"South Dakota\")\n",
    "     .when(df_selected['addr_state'] == \"NY\", \"New York\")\n",
    "     .when(df_selected['addr_state'] == \"TX\", \"Texas\")\n",
    "     .when(df_selected['addr_state'] == \"GA\", \"Georgia\")\n",
    "     .when(df_selected['addr_state'] == \"MA\", \"Massachusetts\")\n",
    "     .when(df_selected['addr_state'] == \"KS\", \"Kansas\")\n",
    "     .when(df_selected['addr_state'] == \"FL\", \"Florida\")\n",
    "     .when(df_selected['addr_state'] == \"CO\", \"Colorado\")\n",
    "     .when(df_selected['addr_state'] == \"AK\", \"Alaska\")\n",
    "     .when(df_selected['addr_state'] == \"AR\", \"Arkansas\")\n",
    "     .when(df_selected['addr_state'] == \"OK\", \"Oklahoma\")\n",
    "     .when(df_selected['addr_state'] == \"UT\", \"Utah\")\n",
    "     .when(df_selected['addr_state'] == \"HI\", \"Hawaii\")\n",
    "     .otherwise(df_selected['addr_state'])\n",
    "    )\n",
    " \n",
    "df_selected.select(\"addr_state\", \"full_state_name\").show(10)\n",
    " \n",
    " "
   ]
  },
  {
   "cell_type": "code",
   "execution_count": 23,
   "metadata": {},
   "outputs": [
    {
     "name": "stdout",
     "output_type": "stream",
     "text": [
      "CSV file saved successfully as 'Transformed_2014_18_v2.csv'!\n"
     ]
    }
   ],
   "source": [
    "import shutil\n",
    "import glob\n",
    "import os\n",
    "\n",
    "# Save DataFrame as a single CSV file\n",
    "df_selected.coalesce(1).write.mode(\"overwrite\").option(\"header\", True).csv(\"Transformed_2014_18_tmp\")  # Save to a temporary directory\n",
    "\n",
    "# Find the generated part file\n",
    "csv_part = glob.glob(\"Transformed_2019_20_tmp/part-*.csv\")[0]  # Get the single part file\n",
    "shutil.move(csv_part, \"Transformed_2019_20.csv\")  # Rename it to the final filename\n",
    "\n",
    "# Remove the temporary directory\n",
    "shutil.rmtree(\"Transformed_2019_20_tmp\")\n",
    "\n",
    "print(\"CSV file saved successfully as 'Transformed_2019_20.csv'!\")"
   ]
  },
  {
   "cell_type": "code",
   "execution_count": 24,
   "metadata": {},
   "outputs": [
    {
     "data": {
      "text/plain": [
       "['id',\n",
       " 'initial_list_status',\n",
       " 'sub_grade',\n",
       " 'out_prncp',\n",
       " 'tot_cur_bal',\n",
       " 'pub_rec',\n",
       " 'delinq_2yrs',\n",
       " 'delinq_amnt',\n",
       " 'installment',\n",
       " 'hardship_length',\n",
       " 'hardship_dpd',\n",
       " 'addr_state',\n",
       " 'emp_length',\n",
       " 'hardship_start_date',\n",
       " 'hardship_status',\n",
       " 'issue_d',\n",
       " 'annual_inc_joint',\n",
       " 'loan_status',\n",
       " 'last_pymnt_d',\n",
       " 'hardship_type',\n",
       " 'int_rate',\n",
       " 'sec_app_open_acc',\n",
       " 'sec_app_revol_util',\n",
       " 'open_acc',\n",
       " 'mths_since_last_major_derog',\n",
       " 'hardship_flag',\n",
       " 'hardship_reason',\n",
       " 'hardship_loan_status',\n",
       " 'next_pymnt_d',\n",
       " 'revol_util',\n",
       " 'open_il_24m',\n",
       " 'mort_acc',\n",
       " 'dti',\n",
       " 'loan_amnt',\n",
       " 'total_bal_il',\n",
       " 'sec_app_earliest_cr_line',\n",
       " 'max_bal_bc',\n",
       " 'funded_amnt_inv',\n",
       " 'dti_joint',\n",
       " 'last_pymnt_amnt',\n",
       " 'sec_app_inq_last_6mths',\n",
       " 'hardship_end_date',\n",
       " 'debt_settlement_flag',\n",
       " 'term',\n",
       " 'total_acc',\n",
       " 'grade',\n",
       " 'annual_inc',\n",
       " 'hardship_payoff_balance_amount',\n",
       " 'verification_status',\n",
       " 'earliest_cr_line',\n",
       " 'sec_app_mort_acc',\n",
       " 'purpose',\n",
       " 'revol_bal',\n",
       " 'emp_title',\n",
       " 'home_ownership',\n",
       " 'hardship_amount',\n",
       " 'zip_code',\n",
       " 'application_type',\n",
       " 'avg_fico_range',\n",
       " 'sec_app_fico_range_avg',\n",
       " 'full_state_name']"
      ]
     },
     "execution_count": 24,
     "metadata": {},
     "output_type": "execute_result"
    }
   ],
   "source": [
    "df_selected.columns"
   ]
  },
  {
   "cell_type": "code",
   "execution_count": null,
   "metadata": {},
   "outputs": [],
   "source": []
  },
  {
   "cell_type": "code",
   "execution_count": null,
   "metadata": {},
   "outputs": [],
   "source": []
  },
  {
   "cell_type": "code",
   "execution_count": null,
   "metadata": {},
   "outputs": [],
   "source": []
  },
  {
   "cell_type": "code",
   "execution_count": null,
   "metadata": {},
   "outputs": [],
   "source": []
  },
  {
   "cell_type": "code",
   "execution_count": null,
   "metadata": {},
   "outputs": [],
   "source": []
  }
 ],
 "metadata": {
  "colab": {
   "provenance": []
  },
  "kernelspec": {
   "display_name": "Python 3 (ipykernel)",
   "language": "python",
   "name": "python3"
  },
  "language_info": {
   "codemirror_mode": {
    "name": "ipython",
    "version": 3
   },
   "file_extension": ".py",
   "mimetype": "text/x-python",
   "name": "python",
   "nbconvert_exporter": "python",
   "pygments_lexer": "ipython3",
   "version": "3.11.6"
  }
 },
 "nbformat": 4,
 "nbformat_minor": 4
}
