{
 "cells": [
  {
   "cell_type": "code",
   "execution_count": null,
   "id": "e9963e58-756a-4172-9cbc-a40416c07d66",
   "metadata": {},
   "outputs": [],
   "source": [
    "from kafka import KafkaProducer\n",
    "import pandas as pd\n",
    "import json\n",
    "import time\n",
    "\n",
    "# Load your CSV file\n",
    "df = pd.read_csv(\"loan_2019_20.csv\", low_memory=False) # Replace with the actual filename\n",
    "\n",
    "\n",
    "# Initialize Kafka producer\n",
    "producer = KafkaProducer(\n",
    "    bootstrap_servers='kafka:9092',\n",
    "    value_serializer=lambda v: json.dumps(v).encode('utf-8')\n",
    ")\n",
    "\n",
    "topic_name = 'loan_data'\n",
    "\n",
    "\n",
    "# Send each row as a JSON message\n",
    "for _, row in df.iterrows():\n",
    "    message = row.to_dict()\n",
    "    producer.send(topic_name, message)\n",
    "   # print(\"Sent:\", message)\n",
    "    time.sleep(5)  # Optional delay to simulate streaming\n",
    "\n",
    "producer.flush()\n",
    "producer.close()\n"
   ]
  },
  {
   "cell_type": "code",
   "execution_count": null,
   "id": "adfce1be-fe1f-4645-a4a6-c766ac8aa3fa",
   "metadata": {},
   "outputs": [],
   "source": []
  },
  {
   "cell_type": "code",
   "execution_count": null,
   "id": "c6965cf5-45f6-47a7-b2be-8cdc4932a0d2",
   "metadata": {},
   "outputs": [],
   "source": [
    "\n"
   ]
  },
  {
   "cell_type": "code",
   "execution_count": null,
   "id": "33e9052c-4e08-4678-a7da-975b9687f444",
   "metadata": {},
   "outputs": [],
   "source": []
  }
 ],
 "metadata": {
  "kernelspec": {
   "display_name": "Python 3 (ipykernel)",
   "language": "python",
   "name": "python3"
  },
  "language_info": {
   "codemirror_mode": {
    "name": "ipython",
    "version": 3
   },
   "file_extension": ".py",
   "mimetype": "text/x-python",
   "name": "python",
   "nbconvert_exporter": "python",
   "pygments_lexer": "ipython3",
   "version": "3.11.6"
  }
 },
 "nbformat": 4,
 "nbformat_minor": 5
}
